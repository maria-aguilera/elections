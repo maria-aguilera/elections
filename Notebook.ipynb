{
  "cells": [
    {
      "cell_type": "markdown",
      "source": [
        "# Analyzing Spain Economy for Elections 2023"
      ],
      "metadata": {
        "id": "J2fk5G7S0mV5"
      }
    },
    {
      "cell_type": "markdown",
      "source": [
        "## Setting up environment"
      ],
      "metadata": {
        "id": "HWaRfSfbyWPh"
      }
    },
    {
      "cell_type": "code",
      "execution_count": 1,
      "metadata": {
        "colab": {
          "base_uri": "https://localhost:8080/"
        },
        "id": "YwHFArHPOBnb",
        "outputId": "210a36c0-145b-4174-89d4-cc112f0d1ee7"
      },
      "outputs": [
        {
          "output_type": "stream",
          "name": "stdout",
          "text": [
            "Mounted at /content/drive\n"
          ]
        }
      ],
      "source": [
        "from google.colab import drive\n",
        "drive.mount('/content/drive')"
      ]
    },
    {
      "cell_type": "code",
      "execution_count": 2,
      "metadata": {
        "colab": {
          "base_uri": "https://localhost:8080/"
        },
        "id": "fvdqPxSmOCZR",
        "outputId": "0e5928f8-02ea-4439-84b4-93c252a16a5c"
      },
      "outputs": [
        {
          "output_type": "stream",
          "name": "stdout",
          "text": [
            "/content/drive/MyDrive/spain_elections\n"
          ]
        }
      ],
      "source": [
        "%cd /content/drive/MyDrive/spain_elections"
      ]
    },
    {
      "cell_type": "code",
      "execution_count": 4,
      "metadata": {
        "id": "YFpITzw_20NF"
      },
      "outputs": [],
      "source": [
        "from IPython.display import clear_output\n",
        "!pip install requests\n",
        "!pip install pygwalker -q\n",
        "clear_output()"
      ]
    },
    {
      "cell_type": "code",
      "execution_count": 5,
      "metadata": {
        "id": "U3l-PyS-WMIb"
      },
      "outputs": [],
      "source": [
        "from IPython.display import clear_output\n",
        "import pandas as pd\n",
        "import numpy as np\n",
        "import io\n",
        "from google.colab import files\n",
        "from IPython.core.display import HTML\n",
        "\n",
        "import seaborn as sns\n",
        "import matplotlib.pyplot as plt\n",
        "import plotly.graph_objects as go\n",
        "import plotly.express as px\n",
        "import pygwalker as pyg\n",
        "\n",
        "from IPython.core.display import HTML\n",
        "\n",
        "# Google Colab\n",
        "# Enable interactive tables in Google Colab\n",
        "%load_ext google.colab.data_table\n",
        "\n",
        "# Disable interactive tables\n",
        "#%unload_ext google.colab.data_table\n",
        "\n",
        "from google.colab.data_table import DataTable\n",
        "DataTable.max_columns = 60\n",
        "\n",
        "\n",
        "# Setting default Settings\n",
        "sns.set_style('darkgrid')  # Set default plotting style to 'darkgrid'\n",
        "\n",
        "import warnings\n",
        "warnings.filterwarnings(\"ignore\")  # Ignore warning messages\n",
        "\n",
        "\n",
        "# Set display options for pandas\n",
        "pd.options.display.max_columns = 100  # Maximum number of columns to display: 100\n",
        "pd.options.display.max_rows = 100  # Maximum number of rows to display: 100\n",
        "#pd.options.display.float_format = '{:,.2f}'.format  # Format for floating-point numbers: 4 decimal places, comma as thousands separator\n",
        "pd.options.display.max_colwidth = 100  # Maximum width for displaying columns: 1000 characters\n",
        "#pd.options.display.width = 1000  # Maximum display width: 1000 characters (horizontal wrapping)\n",
        "#pd.options.display.max_seq_items = 1000  # Maximum number of items to display for a sequence: 1000\n",
        "\n",
        "# import io\n",
        "# from google.colab import files\n",
        "# uploaded = files.upload()\n",
        "#df = pd.read_excel(io.BytesIO(uploaded.get('WEOApr2023all.xlsx')))\n",
        "#uploaded = files.upload()\n"
      ]
    },
    {
      "cell_type": "markdown",
      "source": [
        "## Loading and cleaning dataset"
      ],
      "metadata": {
        "id": "4ztPdqOfy36d"
      }
    },
    {
      "cell_type": "code",
      "execution_count": 6,
      "metadata": {
        "id": "8p3sXVAQPNme"
      },
      "outputs": [],
      "source": [
        "df = pd.read_excel('WEOApr2023all.xlsx')\n",
        "df = df[~df['WEO Country Code'].isna()]\n",
        "df = df[~df['ISO'].isna()]\n",
        "df.columns = df.columns.astype(str)\n",
        "df.columns = df.columns.str.strip()\n",
        "\n",
        "# Define the desired column order\n",
        "desired_columns = [\n",
        "    'WEO Country Code',\n",
        "    'ISO',\n",
        "    'WEO Subject Code',\n",
        "    'Country',\n",
        "    'Subject Descriptor',\n",
        "    'Subject Notes',\n",
        "    'Units',\n",
        "    'Scale',\n",
        "    'Country/Series-specific Notes',\n",
        "    'Estimates Start After'\n",
        "] + [str(x) for x in range(1980,2029)]\n",
        "\n",
        "# Select only the desired columns\n",
        "df = df[desired_columns]\n",
        "\n",
        "# xls = pd.read_excel('metadata.xlsx',sheet_name=None)\n",
        "# print(xls.keys())\n",
        "\n",
        "xls = pd.read_excel('metadata.xlsx',sheet_name='CONCEPT',skiprows=7,\n",
        "                   # header=['Code','Description']\n",
        "                    )\n",
        "xls.columns = xls.columns.str.strip()\n",
        "xls = xls[['Code','Description']]\n",
        "xls = xls.dropna()\n",
        "\n",
        "\n",
        "df = pd.merge(left=df,right=xls,how=\"left\",left_on=\"WEO Subject Code\",right_on=\"Code\",indicator=True)\n",
        "\n",
        "\n",
        "df.drop(columns=['_merge','Code'],inplace=True)\n",
        "df.rename(\n",
        "    {'Description':'Subject Descriptor2'},axis=1,inplace= True)\n",
        "\n",
        "year_cols = [str(x) for x in range(1980,2029)]\n",
        "identifier_cols = [ col for col in df.columns if col not in year_cols]\n",
        "\n",
        "df = df[identifier_cols+year_cols]\n",
        "\n",
        "#df.to_csv('data.csv',index=None)\n",
        "\n",
        "#df = pd.read_csv('data.csv')\n",
        "\n",
        "df_long = pd.melt(df, id_vars=identifier_cols, var_name='Year', value_name='Value')\n",
        "\n",
        "\n",
        "\n",
        "# Add 'Estimate' column\n",
        "df_long['Year'] = df_long['Year'].astype(float)\n",
        "df_long['Estimate'] = df_long.apply(lambda row: 1 if row['Year'] > row['Estimates Start After'] else 0, axis=1)\n",
        "\n",
        "df_long = df_long[df_long['Year']>1982]\n"
      ]
    },
    {
      "cell_type": "markdown",
      "source": [
        "## Checking for errors"
      ],
      "metadata": {
        "id": "gS1MjMQRy9Yy"
      }
    },
    {
      "cell_type": "code",
      "source": [
        "print(f'Duplicates in df set: {df.duplicated().sum()}, ({np.round(100*df.duplicated().sum()/len(df),1)}%)')\n",
        "print(f'Duplicates in df_long set: {df_long.duplicated().sum()}, ({np.round(100*df_long.duplicated().sum()/len(df_long),1)}%)')\n"
      ],
      "metadata": {
        "colab": {
          "base_uri": "https://localhost:8080/"
        },
        "id": "W35VZTbh0YUf",
        "outputId": "ec475bea-fc55-4e96-e19f-5e52e100cc3a"
      },
      "execution_count": 7,
      "outputs": [
        {
          "output_type": "stream",
          "name": "stdout",
          "text": [
            "Duplicates in df set: 0, (0.0%)\n",
            "Duplicates in df_long set: 0, (0.0%)\n"
          ]
        }
      ]
    },
    {
      "cell_type": "code",
      "source": [
        "def multi_table(table_list):\n",
        "    return HTML(\n",
        "        f\"<table><tr> {''.join(['<td>' + table._repr_html_() + '</td>' for table in table_list])} </tr></table>\")"
      ],
      "metadata": {
        "id": "30ZS0eD20zxj"
      },
      "execution_count": 8,
      "outputs": []
    },
    {
      "cell_type": "code",
      "source": [
        "# multi_table([pd.DataFrame(df_long[i].value_counts()) for i in df_long.columns if i != 'Value'])"
      ],
      "metadata": {
        "id": "3U3SDIhw0iXw"
      },
      "execution_count": 9,
      "outputs": []
    },
    {
      "cell_type": "code",
      "source": [
        "\n",
        "na_cols=df_long.columns[df_long.isna().any()].tolist()\n",
        "\n",
        "mv=pd.DataFrame(df_long[na_cols].isna().sum(), columns=['Number_missing'])\n",
        "mv['Percentage_missing']=np.round(100*mv['Number_missing']/len(df_long),2)\n",
        "mv"
      ],
      "metadata": {
        "colab": {
          "base_uri": "https://localhost:8080/",
          "height": 208
        },
        "id": "jUyAwKjayA2B",
        "outputId": "b31575b3-f893-4257-c3ac-bbfc5ee68109"
      },
      "execution_count": 10,
      "outputs": [
        {
          "output_type": "execute_result",
          "data": {
            "text/plain": [
              "                               Number_missing  Percentage_missing\n",
              "Scale                                  216384               54.55\n",
              "Country/Series-specific Notes           45172               11.39\n",
              "Estimates Start After                   45172               11.39\n",
              "Value                                   91900               23.17"
            ],
            "text/html": [
              "\n",
              "\n",
              "  <div id=\"df-a401497e-1b31-403b-91c3-75b906803e84\">\n",
              "    <div class=\"colab-df-container\">\n",
              "      <div>\n",
              "<style scoped>\n",
              "    .dataframe tbody tr th:only-of-type {\n",
              "        vertical-align: middle;\n",
              "    }\n",
              "\n",
              "    .dataframe tbody tr th {\n",
              "        vertical-align: top;\n",
              "    }\n",
              "\n",
              "    .dataframe thead th {\n",
              "        text-align: right;\n",
              "    }\n",
              "</style>\n",
              "<table border=\"1\" class=\"dataframe\">\n",
              "  <thead>\n",
              "    <tr style=\"text-align: right;\">\n",
              "      <th></th>\n",
              "      <th>Number_missing</th>\n",
              "      <th>Percentage_missing</th>\n",
              "    </tr>\n",
              "  </thead>\n",
              "  <tbody>\n",
              "    <tr>\n",
              "      <th>Scale</th>\n",
              "      <td>216384</td>\n",
              "      <td>54.55</td>\n",
              "    </tr>\n",
              "    <tr>\n",
              "      <th>Country/Series-specific Notes</th>\n",
              "      <td>45172</td>\n",
              "      <td>11.39</td>\n",
              "    </tr>\n",
              "    <tr>\n",
              "      <th>Estimates Start After</th>\n",
              "      <td>45172</td>\n",
              "      <td>11.39</td>\n",
              "    </tr>\n",
              "    <tr>\n",
              "      <th>Value</th>\n",
              "      <td>91900</td>\n",
              "      <td>23.17</td>\n",
              "    </tr>\n",
              "  </tbody>\n",
              "</table>\n",
              "</div>\n",
              "      <button class=\"colab-df-convert\" onclick=\"convertToInteractive('df-a401497e-1b31-403b-91c3-75b906803e84')\"\n",
              "              title=\"Convert this dataframe to an interactive table.\"\n",
              "              style=\"display:none;\">\n",
              "\n",
              "  <svg xmlns=\"http://www.w3.org/2000/svg\" height=\"24px\"viewBox=\"0 0 24 24\"\n",
              "       width=\"24px\">\n",
              "    <path d=\"M0 0h24v24H0V0z\" fill=\"none\"/>\n",
              "    <path d=\"M18.56 5.44l.94 2.06.94-2.06 2.06-.94-2.06-.94-.94-2.06-.94 2.06-2.06.94zm-11 1L8.5 8.5l.94-2.06 2.06-.94-2.06-.94L8.5 2.5l-.94 2.06-2.06.94zm10 10l.94 2.06.94-2.06 2.06-.94-2.06-.94-.94-2.06-.94 2.06-2.06.94z\"/><path d=\"M17.41 7.96l-1.37-1.37c-.4-.4-.92-.59-1.43-.59-.52 0-1.04.2-1.43.59L10.3 9.45l-7.72 7.72c-.78.78-.78 2.05 0 2.83L4 21.41c.39.39.9.59 1.41.59.51 0 1.02-.2 1.41-.59l7.78-7.78 2.81-2.81c.8-.78.8-2.07 0-2.86zM5.41 20L4 18.59l7.72-7.72 1.47 1.35L5.41 20z\"/>\n",
              "  </svg>\n",
              "      </button>\n",
              "\n",
              "\n",
              "\n",
              "    <div id=\"df-0863aa12-e51a-44aa-8414-37a1f506a02d\">\n",
              "      <button class=\"colab-df-quickchart\" onclick=\"quickchart('df-0863aa12-e51a-44aa-8414-37a1f506a02d')\"\n",
              "              title=\"Suggest charts.\"\n",
              "              style=\"display:none;\">\n",
              "\n",
              "<svg xmlns=\"http://www.w3.org/2000/svg\" height=\"24px\"viewBox=\"0 0 24 24\"\n",
              "     width=\"24px\">\n",
              "    <g>\n",
              "        <path d=\"M19 3H5c-1.1 0-2 .9-2 2v14c0 1.1.9 2 2 2h14c1.1 0 2-.9 2-2V5c0-1.1-.9-2-2-2zM9 17H7v-7h2v7zm4 0h-2V7h2v10zm4 0h-2v-4h2v4z\"/>\n",
              "    </g>\n",
              "</svg>\n",
              "      </button>\n",
              "    </div>\n",
              "\n",
              "<style>\n",
              "  .colab-df-quickchart {\n",
              "    background-color: #E8F0FE;\n",
              "    border: none;\n",
              "    border-radius: 50%;\n",
              "    cursor: pointer;\n",
              "    display: none;\n",
              "    fill: #1967D2;\n",
              "    height: 32px;\n",
              "    padding: 0 0 0 0;\n",
              "    width: 32px;\n",
              "  }\n",
              "\n",
              "  .colab-df-quickchart:hover {\n",
              "    background-color: #E2EBFA;\n",
              "    box-shadow: 0px 1px 2px rgba(60, 64, 67, 0.3), 0px 1px 3px 1px rgba(60, 64, 67, 0.15);\n",
              "    fill: #174EA6;\n",
              "  }\n",
              "\n",
              "  [theme=dark] .colab-df-quickchart {\n",
              "    background-color: #3B4455;\n",
              "    fill: #D2E3FC;\n",
              "  }\n",
              "\n",
              "  [theme=dark] .colab-df-quickchart:hover {\n",
              "    background-color: #434B5C;\n",
              "    box-shadow: 0px 1px 3px 1px rgba(0, 0, 0, 0.15);\n",
              "    filter: drop-shadow(0px 1px 2px rgba(0, 0, 0, 0.3));\n",
              "    fill: #FFFFFF;\n",
              "  }\n",
              "</style>\n",
              "\n",
              "    <script>\n",
              "      async function quickchart(key) {\n",
              "        const containerElement = document.querySelector('#' + key);\n",
              "        const charts = await google.colab.kernel.invokeFunction(\n",
              "            'suggestCharts', [key], {});\n",
              "      }\n",
              "    </script>\n",
              "\n",
              "      <script>\n",
              "\n",
              "function displayQuickchartButton(domScope) {\n",
              "  let quickchartButtonEl =\n",
              "    domScope.querySelector('#df-0863aa12-e51a-44aa-8414-37a1f506a02d button.colab-df-quickchart');\n",
              "  quickchartButtonEl.style.display =\n",
              "    google.colab.kernel.accessAllowed ? 'block' : 'none';\n",
              "}\n",
              "\n",
              "        displayQuickchartButton(document);\n",
              "      </script>\n",
              "      <style>\n",
              "    .colab-df-container {\n",
              "      display:flex;\n",
              "      flex-wrap:wrap;\n",
              "      gap: 12px;\n",
              "    }\n",
              "\n",
              "    .colab-df-convert {\n",
              "      background-color: #E8F0FE;\n",
              "      border: none;\n",
              "      border-radius: 50%;\n",
              "      cursor: pointer;\n",
              "      display: none;\n",
              "      fill: #1967D2;\n",
              "      height: 32px;\n",
              "      padding: 0 0 0 0;\n",
              "      width: 32px;\n",
              "    }\n",
              "\n",
              "    .colab-df-convert:hover {\n",
              "      background-color: #E2EBFA;\n",
              "      box-shadow: 0px 1px 2px rgba(60, 64, 67, 0.3), 0px 1px 3px 1px rgba(60, 64, 67, 0.15);\n",
              "      fill: #174EA6;\n",
              "    }\n",
              "\n",
              "    [theme=dark] .colab-df-convert {\n",
              "      background-color: #3B4455;\n",
              "      fill: #D2E3FC;\n",
              "    }\n",
              "\n",
              "    [theme=dark] .colab-df-convert:hover {\n",
              "      background-color: #434B5C;\n",
              "      box-shadow: 0px 1px 3px 1px rgba(0, 0, 0, 0.15);\n",
              "      filter: drop-shadow(0px 1px 2px rgba(0, 0, 0, 0.3));\n",
              "      fill: #FFFFFF;\n",
              "    }\n",
              "  </style>\n",
              "\n",
              "      <script>\n",
              "        const buttonEl =\n",
              "          document.querySelector('#df-a401497e-1b31-403b-91c3-75b906803e84 button.colab-df-convert');\n",
              "        buttonEl.style.display =\n",
              "          google.colab.kernel.accessAllowed ? 'block' : 'none';\n",
              "\n",
              "        async function convertToInteractive(key) {\n",
              "          const element = document.querySelector('#df-a401497e-1b31-403b-91c3-75b906803e84');\n",
              "          const dataTable =\n",
              "            await google.colab.kernel.invokeFunction('convertToInteractive',\n",
              "                                                     [key], {});\n",
              "          if (!dataTable) return;\n",
              "\n",
              "          const docLinkHtml = 'Like what you see? Visit the ' +\n",
              "            '<a target=\"_blank\" href=https://colab.research.google.com/notebooks/data_table.ipynb>data table notebook</a>'\n",
              "            + ' to learn more about interactive tables.';\n",
              "          element.innerHTML = '';\n",
              "          dataTable['output_type'] = 'display_data';\n",
              "          await google.colab.output.renderOutput(dataTable, element);\n",
              "          const docLink = document.createElement('div');\n",
              "          docLink.innerHTML = docLinkHtml;\n",
              "          element.appendChild(docLink);\n",
              "        }\n",
              "      </script>\n",
              "    </div>\n",
              "  </div>\n"
            ],
            "application/vnd.google.colaboratory.module+javascript": "\n      import \"https://ssl.gstatic.com/colaboratory/data_table/881c4a0d49046431/data_table.js\";\n\n      const table = window.createDataTable({\n        data: [[\"Scale\",\n{\n            'v': 216384,\n            'f': \"216384\",\n        },\n{\n            'v': 54.55,\n            'f': \"54.55\",\n        }],\n [\"Country/Series-specific Notes\",\n{\n            'v': 45172,\n            'f': \"45172\",\n        },\n{\n            'v': 11.39,\n            'f': \"11.39\",\n        }],\n [\"Estimates Start After\",\n{\n            'v': 45172,\n            'f': \"45172\",\n        },\n{\n            'v': 11.39,\n            'f': \"11.39\",\n        }],\n [\"Value\",\n{\n            'v': 91900,\n            'f': \"91900\",\n        },\n{\n            'v': 23.17,\n            'f': \"23.17\",\n        }]],\n        columns: [[\"string\", \"index\"], [\"number\", \"Number_missing\"], [\"number\", \"Percentage_missing\"]],\n        columnOptions: [{\"width\": \"1px\", \"className\": \"index_column\"}],\n        rowsPerPage: 25,\n        helpUrl: \"https://colab.research.google.com/notebooks/data_table.ipynb\",\n        suppressOutputScrolling: true,\n        minimumWidth: undefined,\n      });\n      \n      function appendQuickchartButton(parentElement) {\n        let quickchartButtonContainerElement = document.createElement('div');\n        quickchartButtonContainerElement.innerHTML = `\n    <div id=\"df-53365f69-ad58-4089-9db4-7cb57512cc39\">\n      <button class=\"colab-df-quickchart\" onclick=\"quickchart('df-53365f69-ad58-4089-9db4-7cb57512cc39')\"\n              title=\"Suggest charts.\"\n              style=\"display:none;\">\n\n<svg xmlns=\"http://www.w3.org/2000/svg\" height=\"24px\"viewBox=\"0 0 24 24\"\n     width=\"24px\">\n    <g>\n        <path d=\"M19 3H5c-1.1 0-2 .9-2 2v14c0 1.1.9 2 2 2h14c1.1 0 2-.9 2-2V5c0-1.1-.9-2-2-2zM9 17H7v-7h2v7zm4 0h-2V7h2v10zm4 0h-2v-4h2v4z\"/>\n    </g>\n</svg>\n      </button>\n    </div>\n\n<style>\n  .colab-df-quickchart {\n    background-color: #E8F0FE;\n    border: none;\n    border-radius: 50%;\n    cursor: pointer;\n    display: none;\n    fill: #1967D2;\n    height: 32px;\n    padding: 0 0 0 0;\n    width: 32px;\n  }\n\n  .colab-df-quickchart:hover {\n    background-color: #E2EBFA;\n    box-shadow: 0px 1px 2px rgba(60, 64, 67, 0.3), 0px 1px 3px 1px rgba(60, 64, 67, 0.15);\n    fill: #174EA6;\n  }\n\n  [theme=dark] .colab-df-quickchart {\n    background-color: #3B4455;\n    fill: #D2E3FC;\n  }\n\n  [theme=dark] .colab-df-quickchart:hover {\n    background-color: #434B5C;\n    box-shadow: 0px 1px 3px 1px rgba(0, 0, 0, 0.15);\n    filter: drop-shadow(0px 1px 2px rgba(0, 0, 0, 0.3));\n    fill: #FFFFFF;\n  }\n</style>\n\n    <script>\n      async function quickchart(key) {\n        const containerElement = document.querySelector('#' + key);\n        const charts = await google.colab.kernel.invokeFunction(\n            'suggestCharts', [key], {});\n      }\n    </script>\n`;\n        parentElement.appendChild(quickchartButtonContainerElement);\n        \nfunction displayQuickchartButton(domScope) {\n  let quickchartButtonEl =\n    domScope.querySelector('#df-53365f69-ad58-4089-9db4-7cb57512cc39 button.colab-df-quickchart');\n  quickchartButtonEl.style.display =\n    google.colab.kernel.accessAllowed ? 'block' : 'none';\n}\n\n        displayQuickchartButton(parentElement);\n      }\n\n      appendQuickchartButton(table);\n    "
          },
          "metadata": {},
          "execution_count": 10
        }
      ]
    },
    {
      "cell_type": "markdown",
      "source": [
        "## Preparing dataset"
      ],
      "metadata": {
        "id": "2j1CAw6lzD2j"
      }
    },
    {
      "cell_type": "code",
      "source": [
        "\n",
        "# # Find the range of years available in the dataset\n",
        "# year_columns = [col for col in df_eu.columns if col.isdigit()]\n",
        "# min_year = int(min(year_columns))\n",
        "# max_year = int(max(year_columns))\n",
        "\n",
        "# min_year, max_year\n",
        "\n",
        "\n",
        "\n",
        "# Convert the 'Year' column to numeric\n",
        "df_long['Year'] = pd.to_numeric(df_long['Year'], errors='coerce')\n",
        "\n",
        "# Create a function to determine the governing party in Spain based on the year\n",
        "def get_governing_party(year):\n",
        "    if 1977 <= year <= 1981:\n",
        "        return 'UCD'\n",
        "    elif 1981 < year <= 1982:\n",
        "        return 'UCD'\n",
        "    elif 1982 < year <= 1996:\n",
        "        return 'PSOE'\n",
        "    elif 1996 < year <= 2004:\n",
        "        return 'PP'\n",
        "    elif 2004 < year <= 2011:\n",
        "        return 'PSOE'\n",
        "    elif 2011 < year <= 2018:\n",
        "        return 'PP'\n",
        "    elif 2018 < year <= 2021:\n",
        "        return 'PSOE'\n",
        "    else:\n",
        "        return None  # for years outside the specified range\n",
        "\n",
        "# Create the 'Governing Party' column\n",
        "df_long.loc[df_long['Country'] == 'Spain', 'Governing Party'] = df_long.loc[df_long['Country'] == 'Spain', 'Year'].apply(get_governing_party)\n",
        "\n",
        "# Drop the rows with estimates\n",
        "\n",
        "#df_long = df_long[df_long['Year'] < df_long['Estimates Start After']]\n",
        "\n",
        "# # Display the first few rows of the modified dataframe\n",
        "# df_long.head()\n",
        "\n",
        "df_long['Year'] = df_long['Year'].astype(int)\n",
        "\n",
        "# Define EU country codes based on the provided Excel dataset\n",
        "eu_country_codes = ['AUT', 'BEL', 'BGR', 'HRV', 'CYP', 'CZE', 'DNK',\n",
        "                    'EST', 'FIN', 'FRA', 'DEU', 'GRC', 'HUN', 'IRL',\n",
        "                    'ITA', 'LVA', 'LTU', 'LUX', 'MLT', 'NLD', 'POL',\n",
        "                    'PRT', 'ROU', 'SVK', 'SVN', 'ESP', 'SWE']\n",
        "\n",
        "# Filter data for EU countries\n",
        "\n",
        "eu_data = df_long[df_long['ISO'].isin(eu_country_codes)]\n",
        "\n",
        "spain_data = eu_data[eu_data['ISO'] == 'ESP']"
      ],
      "metadata": {
        "id": "3YIMJVhtyzE4"
      },
      "execution_count": 11,
      "outputs": []
    },
    {
      "cell_type": "markdown",
      "source": [
        "## Visualizing Data"
      ],
      "metadata": {
        "id": "lKUNlSVN0fDk"
      }
    },
    {
      "cell_type": "markdown",
      "source": [
        "### Inflation by Year"
      ],
      "metadata": {
        "id": "cyn-mhLm0g7D"
      }
    },
    {
      "cell_type": "code",
      "source": [
        "\n",
        "\n",
        "\n",
        "data_to_plot = df_long[(df_long['WEO Subject Code'] == 'PCPIPCH') & (df_long['Year']>2000)&(df_long['Estimate']==1)]\n",
        "# select year range of interest\n",
        "yr_start = 2001\n",
        "yr_last = 2021\n",
        "\n",
        "#df_hist_select = data_to_plot[['Country'] +[str(y) for y in range(yr_start, yr_last+1)]].dropna(how='all')\n",
        "\n",
        "\n",
        "#df_hist = pd.DataFrame(df_hist_select.set_index('Country').unstack().reset_index())\n",
        "\n",
        "#df_hist_select\n",
        "data_to_plot = data_to_plot[['Year','Country','Value','ISO']]\n",
        "\n",
        "#data_to_plot = data_to_plot[~data_to_plot['Value'].isna()]\n",
        "data_to_plot['Value'] = pd.to_numeric(data_to_plot['Value'])\n",
        "\n",
        "\n",
        "\n",
        "fig1 = px.choropleth(data_to_plot,\n",
        "                     locations=\"Country\",\n",
        "                     locationmode='country names',\n",
        "                     color=\"Value\",\n",
        "                     hover_name=\"Country\",\n",
        "                     animation_frame=\"Year\",        # column with dates you wish to create animation with\n",
        "                     color_continuous_scale='PuRd',\n",
        "                     range_color=(min(data_to_plot['Value']),\n",
        "                                  max(data_to_plot['Value'])), # to ensure the same colorbar across years\n",
        "                     height=600,\n",
        "                     title = \"Inflation Rate by Year \"\n",
        ")\n",
        "\n",
        "fig1.show()"
      ],
      "metadata": {
        "colab": {
          "base_uri": "https://localhost:8080/",
          "height": 617
        },
        "id": "LikuUMP_a5j9",
        "outputId": "a895d6f1-a147-4665-af16-7079c7fa1997"
      },
      "execution_count": 15,
      "outputs": [
        {
          "output_type": "display_data",
          "data": {
            "text/html": [
              "<html>\n",
              "<head><meta charset=\"utf-8\" /></head>\n",
              "<body>\n",
              "    <div>            <script src=\"https://cdnjs.cloudflare.com/ajax/libs/mathjax/2.7.5/MathJax.js?config=TeX-AMS-MML_SVG\"></script><script type=\"text/javascript\">if (window.MathJax && window.MathJax.Hub && window.MathJax.Hub.Config) {window.MathJax.Hub.Config({SVG: {font: \"STIX-Web\"}});}</script>                <script type=\"text/javascript\">window.PlotlyConfig = {MathJaxConfig: 'local'};</script>\n",
              "        <script src=\"https://cdn.plot.ly/plotly-2.18.2.min.js\"></script>                <div id=\"b04004bb-51aa-48d0-9cf8-4a3f2b3e2177\" class=\"plotly-graph-div\" style=\"height:600px; width:100%;\"></div>            <script type=\"text/javascript\">                                    window.PLOTLYENV=window.PLOTLYENV || {};                                    if (document.getElementById(\"b04004bb-51aa-48d0-9cf8-4a3f2b3e2177\")) {                    Plotly.newPlot(                        \"b04004bb-51aa-48d0-9cf8-4a3f2b3e2177\",                        [{\"coloraxis\":\"coloraxis\",\"geo\":\"geo\",\"hovertemplate\":\"<b>%{hovertext}</b><br><br>Year=2012<br>Country=%{location}<br>Value=%{z}<extra></extra>\",\"hovertext\":[\"Syria\"],\"locationmode\":\"country names\",\"locations\":[\"Syria\"],\"name\":\"\",\"z\":[null],\"type\":\"choropleth\"}],                        {\"template\":{\"data\":{\"histogram2dcontour\":[{\"type\":\"histogram2dcontour\",\"colorbar\":{\"outlinewidth\":0,\"ticks\":\"\"},\"colorscale\":[[0.0,\"#0d0887\"],[0.1111111111111111,\"#46039f\"],[0.2222222222222222,\"#7201a8\"],[0.3333333333333333,\"#9c179e\"],[0.4444444444444444,\"#bd3786\"],[0.5555555555555556,\"#d8576b\"],[0.6666666666666666,\"#ed7953\"],[0.7777777777777778,\"#fb9f3a\"],[0.8888888888888888,\"#fdca26\"],[1.0,\"#f0f921\"]]}],\"choropleth\":[{\"type\":\"choropleth\",\"colorbar\":{\"outlinewidth\":0,\"ticks\":\"\"}}],\"histogram2d\":[{\"type\":\"histogram2d\",\"colorbar\":{\"outlinewidth\":0,\"ticks\":\"\"},\"colorscale\":[[0.0,\"#0d0887\"],[0.1111111111111111,\"#46039f\"],[0.2222222222222222,\"#7201a8\"],[0.3333333333333333,\"#9c179e\"],[0.4444444444444444,\"#bd3786\"],[0.5555555555555556,\"#d8576b\"],[0.6666666666666666,\"#ed7953\"],[0.7777777777777778,\"#fb9f3a\"],[0.8888888888888888,\"#fdca26\"],[1.0,\"#f0f921\"]]}],\"heatmap\":[{\"type\":\"heatmap\",\"colorbar\":{\"outlinewidth\":0,\"ticks\":\"\"},\"colorscale\":[[0.0,\"#0d0887\"],[0.1111111111111111,\"#46039f\"],[0.2222222222222222,\"#7201a8\"],[0.3333333333333333,\"#9c179e\"],[0.4444444444444444,\"#bd3786\"],[0.5555555555555556,\"#d8576b\"],[0.6666666666666666,\"#ed7953\"],[0.7777777777777778,\"#fb9f3a\"],[0.8888888888888888,\"#fdca26\"],[1.0,\"#f0f921\"]]}],\"heatmapgl\":[{\"type\":\"heatmapgl\",\"colorbar\":{\"outlinewidth\":0,\"ticks\":\"\"},\"colorscale\":[[0.0,\"#0d0887\"],[0.1111111111111111,\"#46039f\"],[0.2222222222222222,\"#7201a8\"],[0.3333333333333333,\"#9c179e\"],[0.4444444444444444,\"#bd3786\"],[0.5555555555555556,\"#d8576b\"],[0.6666666666666666,\"#ed7953\"],[0.7777777777777778,\"#fb9f3a\"],[0.8888888888888888,\"#fdca26\"],[1.0,\"#f0f921\"]]}],\"contourcarpet\":[{\"type\":\"contourcarpet\",\"colorbar\":{\"outlinewidth\":0,\"ticks\":\"\"}}],\"contour\":[{\"type\":\"contour\",\"colorbar\":{\"outlinewidth\":0,\"ticks\":\"\"},\"colorscale\":[[0.0,\"#0d0887\"],[0.1111111111111111,\"#46039f\"],[0.2222222222222222,\"#7201a8\"],[0.3333333333333333,\"#9c179e\"],[0.4444444444444444,\"#bd3786\"],[0.5555555555555556,\"#d8576b\"],[0.6666666666666666,\"#ed7953\"],[0.7777777777777778,\"#fb9f3a\"],[0.8888888888888888,\"#fdca26\"],[1.0,\"#f0f921\"]]}],\"surface\":[{\"type\":\"surface\",\"colorbar\":{\"outlinewidth\":0,\"ticks\":\"\"},\"colorscale\":[[0.0,\"#0d0887\"],[0.1111111111111111,\"#46039f\"],[0.2222222222222222,\"#7201a8\"],[0.3333333333333333,\"#9c179e\"],[0.4444444444444444,\"#bd3786\"],[0.5555555555555556,\"#d8576b\"],[0.6666666666666666,\"#ed7953\"],[0.7777777777777778,\"#fb9f3a\"],[0.8888888888888888,\"#fdca26\"],[1.0,\"#f0f921\"]]}],\"mesh3d\":[{\"type\":\"mesh3d\",\"colorbar\":{\"outlinewidth\":0,\"ticks\":\"\"}}],\"scatter\":[{\"fillpattern\":{\"fillmode\":\"overlay\",\"size\":10,\"solidity\":0.2},\"type\":\"scatter\"}],\"parcoords\":[{\"type\":\"parcoords\",\"line\":{\"colorbar\":{\"outlinewidth\":0,\"ticks\":\"\"}}}],\"scatterpolargl\":[{\"type\":\"scatterpolargl\",\"marker\":{\"colorbar\":{\"outlinewidth\":0,\"ticks\":\"\"}}}],\"bar\":[{\"error_x\":{\"color\":\"#2a3f5f\"},\"error_y\":{\"color\":\"#2a3f5f\"},\"marker\":{\"line\":{\"color\":\"#E5ECF6\",\"width\":0.5},\"pattern\":{\"fillmode\":\"overlay\",\"size\":10,\"solidity\":0.2}},\"type\":\"bar\"}],\"scattergeo\":[{\"type\":\"scattergeo\",\"marker\":{\"colorbar\":{\"outlinewidth\":0,\"ticks\":\"\"}}}],\"scatterpolar\":[{\"type\":\"scatterpolar\",\"marker\":{\"colorbar\":{\"outlinewidth\":0,\"ticks\":\"\"}}}],\"histogram\":[{\"marker\":{\"pattern\":{\"fillmode\":\"overlay\",\"size\":10,\"solidity\":0.2}},\"type\":\"histogram\"}],\"scattergl\":[{\"type\":\"scattergl\",\"marker\":{\"colorbar\":{\"outlinewidth\":0,\"ticks\":\"\"}}}],\"scatter3d\":[{\"type\":\"scatter3d\",\"line\":{\"colorbar\":{\"outlinewidth\":0,\"ticks\":\"\"}},\"marker\":{\"colorbar\":{\"outlinewidth\":0,\"ticks\":\"\"}}}],\"scattermapbox\":[{\"type\":\"scattermapbox\",\"marker\":{\"colorbar\":{\"outlinewidth\":0,\"ticks\":\"\"}}}],\"scatterternary\":[{\"type\":\"scatterternary\",\"marker\":{\"colorbar\":{\"outlinewidth\":0,\"ticks\":\"\"}}}],\"scattercarpet\":[{\"type\":\"scattercarpet\",\"marker\":{\"colorbar\":{\"outlinewidth\":0,\"ticks\":\"\"}}}],\"carpet\":[{\"aaxis\":{\"endlinecolor\":\"#2a3f5f\",\"gridcolor\":\"white\",\"linecolor\":\"white\",\"minorgridcolor\":\"white\",\"startlinecolor\":\"#2a3f5f\"},\"baxis\":{\"endlinecolor\":\"#2a3f5f\",\"gridcolor\":\"white\",\"linecolor\":\"white\",\"minorgridcolor\":\"white\",\"startlinecolor\":\"#2a3f5f\"},\"type\":\"carpet\"}],\"table\":[{\"cells\":{\"fill\":{\"color\":\"#EBF0F8\"},\"line\":{\"color\":\"white\"}},\"header\":{\"fill\":{\"color\":\"#C8D4E3\"},\"line\":{\"color\":\"white\"}},\"type\":\"table\"}],\"barpolar\":[{\"marker\":{\"line\":{\"color\":\"#E5ECF6\",\"width\":0.5},\"pattern\":{\"fillmode\":\"overlay\",\"size\":10,\"solidity\":0.2}},\"type\":\"barpolar\"}],\"pie\":[{\"automargin\":true,\"type\":\"pie\"}]},\"layout\":{\"autotypenumbers\":\"strict\",\"colorway\":[\"#636efa\",\"#EF553B\",\"#00cc96\",\"#ab63fa\",\"#FFA15A\",\"#19d3f3\",\"#FF6692\",\"#B6E880\",\"#FF97FF\",\"#FECB52\"],\"font\":{\"color\":\"#2a3f5f\"},\"hovermode\":\"closest\",\"hoverlabel\":{\"align\":\"left\"},\"paper_bgcolor\":\"white\",\"plot_bgcolor\":\"#E5ECF6\",\"polar\":{\"bgcolor\":\"#E5ECF6\",\"angularaxis\":{\"gridcolor\":\"white\",\"linecolor\":\"white\",\"ticks\":\"\"},\"radialaxis\":{\"gridcolor\":\"white\",\"linecolor\":\"white\",\"ticks\":\"\"}},\"ternary\":{\"bgcolor\":\"#E5ECF6\",\"aaxis\":{\"gridcolor\":\"white\",\"linecolor\":\"white\",\"ticks\":\"\"},\"baxis\":{\"gridcolor\":\"white\",\"linecolor\":\"white\",\"ticks\":\"\"},\"caxis\":{\"gridcolor\":\"white\",\"linecolor\":\"white\",\"ticks\":\"\"}},\"coloraxis\":{\"colorbar\":{\"outlinewidth\":0,\"ticks\":\"\"}},\"colorscale\":{\"sequential\":[[0.0,\"#0d0887\"],[0.1111111111111111,\"#46039f\"],[0.2222222222222222,\"#7201a8\"],[0.3333333333333333,\"#9c179e\"],[0.4444444444444444,\"#bd3786\"],[0.5555555555555556,\"#d8576b\"],[0.6666666666666666,\"#ed7953\"],[0.7777777777777778,\"#fb9f3a\"],[0.8888888888888888,\"#fdca26\"],[1.0,\"#f0f921\"]],\"sequentialminus\":[[0.0,\"#0d0887\"],[0.1111111111111111,\"#46039f\"],[0.2222222222222222,\"#7201a8\"],[0.3333333333333333,\"#9c179e\"],[0.4444444444444444,\"#bd3786\"],[0.5555555555555556,\"#d8576b\"],[0.6666666666666666,\"#ed7953\"],[0.7777777777777778,\"#fb9f3a\"],[0.8888888888888888,\"#fdca26\"],[1.0,\"#f0f921\"]],\"diverging\":[[0,\"#8e0152\"],[0.1,\"#c51b7d\"],[0.2,\"#de77ae\"],[0.3,\"#f1b6da\"],[0.4,\"#fde0ef\"],[0.5,\"#f7f7f7\"],[0.6,\"#e6f5d0\"],[0.7,\"#b8e186\"],[0.8,\"#7fbc41\"],[0.9,\"#4d9221\"],[1,\"#276419\"]]},\"xaxis\":{\"gridcolor\":\"white\",\"linecolor\":\"white\",\"ticks\":\"\",\"title\":{\"standoff\":15},\"zerolinecolor\":\"white\",\"automargin\":true,\"zerolinewidth\":2},\"yaxis\":{\"gridcolor\":\"white\",\"linecolor\":\"white\",\"ticks\":\"\",\"title\":{\"standoff\":15},\"zerolinecolor\":\"white\",\"automargin\":true,\"zerolinewidth\":2},\"scene\":{\"xaxis\":{\"backgroundcolor\":\"#E5ECF6\",\"gridcolor\":\"white\",\"linecolor\":\"white\",\"showbackground\":true,\"ticks\":\"\",\"zerolinecolor\":\"white\",\"gridwidth\":2},\"yaxis\":{\"backgroundcolor\":\"#E5ECF6\",\"gridcolor\":\"white\",\"linecolor\":\"white\",\"showbackground\":true,\"ticks\":\"\",\"zerolinecolor\":\"white\",\"gridwidth\":2},\"zaxis\":{\"backgroundcolor\":\"#E5ECF6\",\"gridcolor\":\"white\",\"linecolor\":\"white\",\"showbackground\":true,\"ticks\":\"\",\"zerolinecolor\":\"white\",\"gridwidth\":2}},\"shapedefaults\":{\"line\":{\"color\":\"#2a3f5f\"}},\"annotationdefaults\":{\"arrowcolor\":\"#2a3f5f\",\"arrowhead\":0,\"arrowwidth\":1},\"geo\":{\"bgcolor\":\"white\",\"landcolor\":\"#E5ECF6\",\"subunitcolor\":\"white\",\"showland\":true,\"showlakes\":true,\"lakecolor\":\"white\"},\"title\":{\"x\":0.05},\"mapbox\":{\"style\":\"light\"}}},\"geo\":{\"domain\":{\"x\":[0.0,1.0],\"y\":[0.0,1.0]},\"center\":{}},\"coloraxis\":{\"colorbar\":{\"title\":{\"text\":\"Value\"}},\"colorscale\":[[0.0,\"rgb(247,244,249)\"],[0.125,\"rgb(231,225,239)\"],[0.25,\"rgb(212,185,218)\"],[0.375,\"rgb(201,148,199)\"],[0.5,\"rgb(223,101,176)\"],[0.625,\"rgb(231,41,138)\"],[0.75,\"rgb(206,18,86)\"],[0.875,\"rgb(152,0,67)\"],[1.0,\"rgb(103,0,31)\"]],\"cmin\":null,\"cmax\":null},\"legend\":{\"tracegroupgap\":0},\"title\":{\"text\":\"Inflation Rate by Year \"},\"height\":600,\"updatemenus\":[{\"buttons\":[{\"args\":[null,{\"frame\":{\"duration\":500,\"redraw\":true},\"mode\":\"immediate\",\"fromcurrent\":true,\"transition\":{\"duration\":500,\"easing\":\"linear\"}}],\"label\":\"&#9654;\",\"method\":\"animate\"},{\"args\":[[null],{\"frame\":{\"duration\":0,\"redraw\":true},\"mode\":\"immediate\",\"fromcurrent\":true,\"transition\":{\"duration\":0,\"easing\":\"linear\"}}],\"label\":\"&#9724;\",\"method\":\"animate\"}],\"direction\":\"left\",\"pad\":{\"r\":10,\"t\":70},\"showactive\":false,\"type\":\"buttons\",\"x\":0.1,\"xanchor\":\"right\",\"y\":0,\"yanchor\":\"top\"}],\"sliders\":[{\"active\":0,\"currentvalue\":{\"prefix\":\"Year=\"},\"len\":0.9,\"pad\":{\"b\":10,\"t\":60},\"steps\":[{\"args\":[[\"2012\"],{\"frame\":{\"duration\":0,\"redraw\":true},\"mode\":\"immediate\",\"fromcurrent\":true,\"transition\":{\"duration\":0,\"easing\":\"linear\"}}],\"label\":\"2012\",\"method\":\"animate\"},{\"args\":[[\"2013\"],{\"frame\":{\"duration\":0,\"redraw\":true},\"mode\":\"immediate\",\"fromcurrent\":true,\"transition\":{\"duration\":0,\"easing\":\"linear\"}}],\"label\":\"2013\",\"method\":\"animate\"},{\"args\":[[\"2014\"],{\"frame\":{\"duration\":0,\"redraw\":true},\"mode\":\"immediate\",\"fromcurrent\":true,\"transition\":{\"duration\":0,\"easing\":\"linear\"}}],\"label\":\"2014\",\"method\":\"animate\"},{\"args\":[[\"2015\"],{\"frame\":{\"duration\":0,\"redraw\":true},\"mode\":\"immediate\",\"fromcurrent\":true,\"transition\":{\"duration\":0,\"easing\":\"linear\"}}],\"label\":\"2015\",\"method\":\"animate\"},{\"args\":[[\"2016\"],{\"frame\":{\"duration\":0,\"redraw\":true},\"mode\":\"immediate\",\"fromcurrent\":true,\"transition\":{\"duration\":0,\"easing\":\"linear\"}}],\"label\":\"2016\",\"method\":\"animate\"},{\"args\":[[\"2017\"],{\"frame\":{\"duration\":0,\"redraw\":true},\"mode\":\"immediate\",\"fromcurrent\":true,\"transition\":{\"duration\":0,\"easing\":\"linear\"}}],\"label\":\"2017\",\"method\":\"animate\"},{\"args\":[[\"2018\"],{\"frame\":{\"duration\":0,\"redraw\":true},\"mode\":\"immediate\",\"fromcurrent\":true,\"transition\":{\"duration\":0,\"easing\":\"linear\"}}],\"label\":\"2018\",\"method\":\"animate\"},{\"args\":[[\"2019\"],{\"frame\":{\"duration\":0,\"redraw\":true},\"mode\":\"immediate\",\"fromcurrent\":true,\"transition\":{\"duration\":0,\"easing\":\"linear\"}}],\"label\":\"2019\",\"method\":\"animate\"},{\"args\":[[\"2020\"],{\"frame\":{\"duration\":0,\"redraw\":true},\"mode\":\"immediate\",\"fromcurrent\":true,\"transition\":{\"duration\":0,\"easing\":\"linear\"}}],\"label\":\"2020\",\"method\":\"animate\"},{\"args\":[[\"2021\"],{\"frame\":{\"duration\":0,\"redraw\":true},\"mode\":\"immediate\",\"fromcurrent\":true,\"transition\":{\"duration\":0,\"easing\":\"linear\"}}],\"label\":\"2021\",\"method\":\"animate\"},{\"args\":[[\"2022\"],{\"frame\":{\"duration\":0,\"redraw\":true},\"mode\":\"immediate\",\"fromcurrent\":true,\"transition\":{\"duration\":0,\"easing\":\"linear\"}}],\"label\":\"2022\",\"method\":\"animate\"},{\"args\":[[\"2023\"],{\"frame\":{\"duration\":0,\"redraw\":true},\"mode\":\"immediate\",\"fromcurrent\":true,\"transition\":{\"duration\":0,\"easing\":\"linear\"}}],\"label\":\"2023\",\"method\":\"animate\"},{\"args\":[[\"2024\"],{\"frame\":{\"duration\":0,\"redraw\":true},\"mode\":\"immediate\",\"fromcurrent\":true,\"transition\":{\"duration\":0,\"easing\":\"linear\"}}],\"label\":\"2024\",\"method\":\"animate\"},{\"args\":[[\"2025\"],{\"frame\":{\"duration\":0,\"redraw\":true},\"mode\":\"immediate\",\"fromcurrent\":true,\"transition\":{\"duration\":0,\"easing\":\"linear\"}}],\"label\":\"2025\",\"method\":\"animate\"},{\"args\":[[\"2026\"],{\"frame\":{\"duration\":0,\"redraw\":true},\"mode\":\"immediate\",\"fromcurrent\":true,\"transition\":{\"duration\":0,\"easing\":\"linear\"}}],\"label\":\"2026\",\"method\":\"animate\"},{\"args\":[[\"2027\"],{\"frame\":{\"duration\":0,\"redraw\":true},\"mode\":\"immediate\",\"fromcurrent\":true,\"transition\":{\"duration\":0,\"easing\":\"linear\"}}],\"label\":\"2027\",\"method\":\"animate\"},{\"args\":[[\"2028\"],{\"frame\":{\"duration\":0,\"redraw\":true},\"mode\":\"immediate\",\"fromcurrent\":true,\"transition\":{\"duration\":0,\"easing\":\"linear\"}}],\"label\":\"2028\",\"method\":\"animate\"}],\"x\":0.1,\"xanchor\":\"left\",\"y\":0,\"yanchor\":\"top\"}]},                        {\"responsive\": true}                    ).then(function(){\n",
              "                            Plotly.addFrames('b04004bb-51aa-48d0-9cf8-4a3f2b3e2177', [{\"data\":[{\"coloraxis\":\"coloraxis\",\"geo\":\"geo\",\"hovertemplate\":\"<b>%{hovertext}</b><br><br>Year=2012<br>Country=%{location}<br>Value=%{z}<extra></extra>\",\"hovertext\":[\"Syria\"],\"locationmode\":\"country names\",\"locations\":[\"Syria\"],\"name\":\"\",\"z\":[null],\"type\":\"choropleth\"}],\"name\":\"2012\"},{\"data\":[{\"coloraxis\":\"coloraxis\",\"geo\":\"geo\",\"hovertemplate\":\"<b>%{hovertext}</b><br><br>Year=2013<br>Country=%{location}<br>Value=%{z}<extra></extra>\",\"hovertext\":[\"Syria\"],\"locationmode\":\"country names\",\"locations\":[\"Syria\"],\"name\":\"\",\"z\":[null],\"type\":\"choropleth\"}],\"name\":\"2013\"},{\"data\":[{\"coloraxis\":\"coloraxis\",\"geo\":\"geo\",\"hovertemplate\":\"<b>%{hovertext}</b><br><br>Year=2014<br>Country=%{location}<br>Value=%{z}<extra></extra>\",\"hovertext\":[\"Syria\"],\"locationmode\":\"country names\",\"locations\":[\"Syria\"],\"name\":\"\",\"z\":[null],\"type\":\"choropleth\"}],\"name\":\"2014\"},{\"data\":[{\"coloraxis\":\"coloraxis\",\"geo\":\"geo\",\"hovertemplate\":\"<b>%{hovertext}</b><br><br>Year=2015<br>Country=%{location}<br>Value=%{z}<extra></extra>\",\"hovertext\":[\"Syria\"],\"locationmode\":\"country names\",\"locations\":[\"Syria\"],\"name\":\"\",\"z\":[null],\"type\":\"choropleth\"}],\"name\":\"2015\"},{\"data\":[{\"coloraxis\":\"coloraxis\",\"geo\":\"geo\",\"hovertemplate\":\"<b>%{hovertext}</b><br><br>Year=2016<br>Country=%{location}<br>Value=%{z}<extra></extra>\",\"hovertext\":[\"Syria\"],\"locationmode\":\"country names\",\"locations\":[\"Syria\"],\"name\":\"\",\"z\":[null],\"type\":\"choropleth\"}],\"name\":\"2016\"},{\"data\":[{\"coloraxis\":\"coloraxis\",\"geo\":\"geo\",\"hovertemplate\":\"<b>%{hovertext}</b><br><br>Year=2017<br>Country=%{location}<br>Value=%{z}<extra></extra>\",\"hovertext\":[\"Syria\"],\"locationmode\":\"country names\",\"locations\":[\"Syria\"],\"name\":\"\",\"z\":[null],\"type\":\"choropleth\"}],\"name\":\"2017\"},{\"data\":[{\"coloraxis\":\"coloraxis\",\"geo\":\"geo\",\"hovertemplate\":\"<b>%{hovertext}</b><br><br>Year=2018<br>Country=%{location}<br>Value=%{z}<extra></extra>\",\"hovertext\":[\"Syria\"],\"locationmode\":\"country names\",\"locations\":[\"Syria\"],\"name\":\"\",\"z\":[null],\"type\":\"choropleth\"}],\"name\":\"2018\"},{\"data\":[{\"coloraxis\":\"coloraxis\",\"geo\":\"geo\",\"hovertemplate\":\"<b>%{hovertext}</b><br><br>Year=2019<br>Country=%{location}<br>Value=%{z}<extra></extra>\",\"hovertext\":[\"Eritrea\",\"Syria\"],\"locationmode\":\"country names\",\"locations\":[\"Eritrea\",\"Syria\"],\"name\":\"\",\"z\":[1.3,null],\"type\":\"choropleth\"}],\"name\":\"2019\"},{\"data\":[{\"coloraxis\":\"coloraxis\",\"geo\":\"geo\",\"hovertemplate\":\"<b>%{hovertext}</b><br><br>Year=2020<br>Country=%{location}<br>Value=%{z}<extra></extra>\",\"hovertext\":[\"Eritrea\",\"Syria\"],\"locationmode\":\"country names\",\"locations\":[\"Eritrea\",\"Syria\"],\"name\":\"\",\"z\":[5.639,null],\"type\":\"choropleth\"}],\"name\":\"2020\"},{\"data\":[{\"coloraxis\":\"coloraxis\",\"geo\":\"geo\",\"hovertemplate\":\"<b>%{hovertext}</b><br><br>Year=2021<br>Country=%{location}<br>Value=%{z}<extra></extra>\",\"hovertext\":[\"Afghanistan\",\"Democratic Republic of the Congo\",\"Eritrea\",\"S\\u03c0o Tom\\u0398 and Pr\\u03c6ncipe\",\"Syria\",\"Vanuatu\",\"Yemen\"],\"locationmode\":\"country names\",\"locations\":[\"Afghanistan\",\"Democratic Republic of the Congo\",\"Eritrea\",\"S\\u03c0o Tom\\u0398 and Pr\\u03c6ncipe\",\"Syria\",\"Vanuatu\",\"Yemen\"],\"name\":\"\",\"z\":[null,8.989,6.642,8.138,null,2.343,26.022],\"type\":\"choropleth\"}],\"name\":\"2021\"},{\"data\":[{\"coloraxis\":\"coloraxis\",\"geo\":\"geo\",\"hovertemplate\":\"<b>%{hovertext}</b><br><br>Year=2022<br>Country=%{location}<br>Value=%{z}<extra></extra>\",\"hovertext\":[\"Afghanistan\",\"Armenia\",\"Burundi\",\"Cabo Verde\",\"Cambodia\",\"Cameroon\",\"Chad\",\"Comoros\",\"Democratic Republic of the Congo\",\"Republic of Congo\",\"Croatia\",\"Djibouti\",\"Dominica\",\"El Salvador\",\"Eritrea\",\"Ethiopia\",\"France\",\"Gabon\",\"Ghana\",\"Grenada\",\"Guatemala\",\"Guinea-Bissau\",\"Guyana\",\"Honduras\",\"Hong Kong SAR\",\"Iceland\",\"Iraq\",\"Israel\",\"Jamaica\",\"Jordan\",\"Kosovo\",\"Kyrgyz Republic\",\"Lao P.D.R.\",\"Lesotho\",\"Liberia\",\"Libya\",\"Malaysia\",\"Mali\",\"Marshall Islands\",\"Mauritania\",\"Mauritius\",\"Micronesia\",\"Morocco\",\"Myanmar\",\"Nauru\",\"New Zealand\",\"Pakistan\",\"Papua New Guinea\",\"Paraguay\",\"Puerto Rico\",\"Qatar\",\"Russia\",\"Rwanda\",\"San Marino\",\"S\\u03c0o Tom\\u0398 and Pr\\u03c6ncipe\",\"Senegal\",\"Serbia\",\"Seychelles\",\"Solomon Islands\",\"South Sudan\",\"Sri Lanka\",\"St. Kitts and Nevis\",\"St. Lucia\",\"Suriname\",\"Syria\",\"Timor-Leste\",\"Togo\",\"Trinidad and Tobago\",\"Turkmenistan\",\"Tuvalu\",\"United Arab Emirates\",\"Uzbekistan\",\"Vanuatu\",\"Venezuela\",\"Yemen\",\"Zambia\"],\"locationmode\":\"country names\",\"locations\":[\"Afghanistan\",\"Armenia\",\"Burundi\",\"Cabo Verde\",\"Cambodia\",\"Cameroon\",\"Chad\",\"Comoros\",\"Democratic Republic of the Congo\",\"Republic of Congo\",\"Croatia\",\"Djibouti\",\"Dominica\",\"El Salvador\",\"Eritrea\",\"Ethiopia\",\"France\",\"Gabon\",\"Ghana\",\"Grenada\",\"Guatemala\",\"Guinea-Bissau\",\"Guyana\",\"Honduras\",\"Hong Kong SAR\",\"Iceland\",\"Iraq\",\"Israel\",\"Jamaica\",\"Jordan\",\"Kosovo\",\"Kyrgyz Republic\",\"Lao P.D.R.\",\"Lesotho\",\"Liberia\",\"Libya\",\"Malaysia\",\"Mali\",\"Marshall Islands\",\"Mauritania\",\"Mauritius\",\"Micronesia\",\"Morocco\",\"Myanmar\",\"Nauru\",\"New Zealand\",\"Pakistan\",\"Papua New Guinea\",\"Paraguay\",\"Puerto Rico\",\"Qatar\",\"Russia\",\"Rwanda\",\"San Marino\",\"S\\u03c0o Tom\\u0398 and Pr\\u03c6ncipe\",\"Senegal\",\"Serbia\",\"Seychelles\",\"Solomon Islands\",\"South Sudan\",\"Sri Lanka\",\"St. Kitts and Nevis\",\"St. Lucia\",\"Suriname\",\"Syria\",\"Timor-Leste\",\"Togo\",\"Trinidad and Tobago\",\"Turkmenistan\",\"Tuvalu\",\"United Arab Emirates\",\"Uzbekistan\",\"Vanuatu\",\"Venezuela\",\"Yemen\",\"Zambia\"],\"name\":\"\",\"z\":[null,8.656,18.901,7.93,5.327,5.3,5.287,11.995,8.996,3.5,10.67,5.465,7.475,7.196,7.352,33.938,5.904,4.25,31.893,2.65,6.885,7.918,6.469,9.09,1.881,8.307,4.995,4.395,9.5,4.224,11.674,13.91,23.0,8.242,7.593,4.51,3.379,10.077,6.163,9.553,10.785,5.02,6.647,16.225,2.573,7.172,12.148,6.6,9.766,4.318,4.96,13.774,13.882,7.12,17.998,9.689,11.982,2.728,5.507,17.6,46.363,2.736,6.744,52.453,null,7.005,7.616,5.826,11.476,11.477,4.827,11.447,4.584,200.914,29.072,10.993],\"type\":\"choropleth\"}],\"name\":\"2022\"},{\"data\":[{\"coloraxis\":\"coloraxis\",\"geo\":\"geo\",\"hovertemplate\":\"<b>%{hovertext}</b><br><br>Year=2023<br>Country=%{location}<br>Value=%{z}<extra></extra>\",\"hovertext\":[\"Afghanistan\",\"Albania\",\"Algeria\",\"Andorra\",\"Angola\",\"Antigua and Barbuda\",\"Argentina\",\"Armenia\",\"Aruba\",\"Australia\",\"Austria\",\"Azerbaijan\",\"The Bahamas\",\"Bahrain\",\"Bangladesh\",\"Barbados\",\"Belarus\",\"Belgium\",\"Belize\",\"Benin\",\"Bhutan\",\"Bolivia\",\"Bosnia and Herzegovina\",\"Botswana\",\"Brazil\",\"Brunei Darussalam\",\"Bulgaria\",\"Burkina Faso\",\"Burundi\",\"Cabo Verde\",\"Cambodia\",\"Cameroon\",\"Canada\",\"Central African Republic\",\"Chad\",\"Chile\",\"China\",\"Colombia\",\"Comoros\",\"Democratic Republic of the Congo\",\"Republic of Congo\",\"Costa Rica\",\"C\\u2320te d'Ivoire\",\"Croatia\",\"Cyprus\",\"Czech Republic\",\"Denmark\",\"Djibouti\",\"Dominica\",\"Dominican Republic\",\"Ecuador\",\"Egypt\",\"El Salvador\",\"Equatorial Guinea\",\"Eritrea\",\"Estonia\",\"Eswatini\",\"Ethiopia\",\"Fiji\",\"Finland\",\"France\",\"Gabon\",\"The Gambia\",\"Georgia\",\"Germany\",\"Ghana\",\"Greece\",\"Grenada\",\"Guatemala\",\"Guinea\",\"Guinea-Bissau\",\"Guyana\",\"Haiti\",\"Honduras\",\"Hong Kong SAR\",\"Hungary\",\"Iceland\",\"India\",\"Indonesia\",\"Islamic Republic of Iran\",\"Iraq\",\"Ireland\",\"Israel\",\"Italy\",\"Jamaica\",\"Japan\",\"Jordan\",\"Kazakhstan\",\"Kenya\",\"Kiribati\",\"Korea\",\"Kosovo\",\"Kuwait\",\"Kyrgyz Republic\",\"Lao P.D.R.\",\"Latvia\",\"Lebanon\",\"Lesotho\",\"Liberia\",\"Libya\",\"Lithuania\",\"Luxembourg\",\"Macao SAR\",\"Madagascar\",\"Malawi\",\"Malaysia\",\"Maldives\",\"Mali\",\"Malta\",\"Marshall Islands\",\"Mauritania\",\"Mauritius\",\"Mexico\",\"Micronesia\",\"Moldova\",\"Mongolia\",\"Montenegro\",\"Morocco\",\"Mozambique\",\"Myanmar\",\"Namibia\",\"Nauru\",\"Nepal\",\"Netherlands\",\"New Zealand\",\"Nicaragua\",\"Niger\",\"Nigeria\",\"North Macedonia\",\"Norway\",\"Oman\",\"Pakistan\",\"Palau\",\"Panama\",\"Papua New Guinea\",\"Paraguay\",\"Peru\",\"Philippines\",\"Poland\",\"Portugal\",\"Puerto Rico\",\"Qatar\",\"Romania\",\"Russia\",\"Rwanda\",\"Samoa\",\"San Marino\",\"S\\u03c0o Tom\\u0398 and Pr\\u03c6ncipe\",\"Saudi Arabia\",\"Senegal\",\"Serbia\",\"Seychelles\",\"Sierra Leone\",\"Singapore\",\"Slovak Republic\",\"Slovenia\",\"Solomon Islands\",\"Somalia\",\"South Africa\",\"South Sudan\",\"Spain\",\"Sri Lanka\",\"St. Kitts and Nevis\",\"St. Lucia\",\"St. Vincent and the Grenadines\",\"Sudan\",\"Suriname\",\"Sweden\",\"Switzerland\",\"Syria\",\"Taiwan Province of China\",\"Tajikistan\",\"Tanzania\",\"Thailand\",\"Timor-Leste\",\"Togo\",\"Tonga\",\"Trinidad and Tobago\",\"Tunisia\",\"T\\u207frkiye\",\"Turkmenistan\",\"Tuvalu\",\"Uganda\",\"Ukraine\",\"United Arab Emirates\",\"United Kingdom\",\"United States\",\"Uruguay\",\"Uzbekistan\",\"Vanuatu\",\"Venezuela\",\"Vietnam\",\"West Bank and Gaza\",\"Yemen\",\"Zambia\",\"Zimbabwe\"],\"locationmode\":\"country names\",\"locations\":[\"Afghanistan\",\"Albania\",\"Algeria\",\"Andorra\",\"Angola\",\"Antigua and Barbuda\",\"Argentina\",\"Armenia\",\"Aruba\",\"Australia\",\"Austria\",\"Azerbaijan\",\"The Bahamas\",\"Bahrain\",\"Bangladesh\",\"Barbados\",\"Belarus\",\"Belgium\",\"Belize\",\"Benin\",\"Bhutan\",\"Bolivia\",\"Bosnia and Herzegovina\",\"Botswana\",\"Brazil\",\"Brunei Darussalam\",\"Bulgaria\",\"Burkina Faso\",\"Burundi\",\"Cabo Verde\",\"Cambodia\",\"Cameroon\",\"Canada\",\"Central African Republic\",\"Chad\",\"Chile\",\"China\",\"Colombia\",\"Comoros\",\"Democratic Republic of the Congo\",\"Republic of Congo\",\"Costa Rica\",\"C\\u2320te d'Ivoire\",\"Croatia\",\"Cyprus\",\"Czech Republic\",\"Denmark\",\"Djibouti\",\"Dominica\",\"Dominican Republic\",\"Ecuador\",\"Egypt\",\"El Salvador\",\"Equatorial Guinea\",\"Eritrea\",\"Estonia\",\"Eswatini\",\"Ethiopia\",\"Fiji\",\"Finland\",\"France\",\"Gabon\",\"The Gambia\",\"Georgia\",\"Germany\",\"Ghana\",\"Greece\",\"Grenada\",\"Guatemala\",\"Guinea\",\"Guinea-Bissau\",\"Guyana\",\"Haiti\",\"Honduras\",\"Hong Kong SAR\",\"Hungary\",\"Iceland\",\"India\",\"Indonesia\",\"Islamic Republic of Iran\",\"Iraq\",\"Ireland\",\"Israel\",\"Italy\",\"Jamaica\",\"Japan\",\"Jordan\",\"Kazakhstan\",\"Kenya\",\"Kiribati\",\"Korea\",\"Kosovo\",\"Kuwait\",\"Kyrgyz Republic\",\"Lao P.D.R.\",\"Latvia\",\"Lebanon\",\"Lesotho\",\"Liberia\",\"Libya\",\"Lithuania\",\"Luxembourg\",\"Macao SAR\",\"Madagascar\",\"Malawi\",\"Malaysia\",\"Maldives\",\"Mali\",\"Malta\",\"Marshall Islands\",\"Mauritania\",\"Mauritius\",\"Mexico\",\"Micronesia\",\"Moldova\",\"Mongolia\",\"Montenegro\",\"Morocco\",\"Mozambique\",\"Myanmar\",\"Namibia\",\"Nauru\",\"Nepal\",\"Netherlands\",\"New Zealand\",\"Nicaragua\",\"Niger\",\"Nigeria\",\"North Macedonia\",\"Norway\",\"Oman\",\"Pakistan\",\"Palau\",\"Panama\",\"Papua New Guinea\",\"Paraguay\",\"Peru\",\"Philippines\",\"Poland\",\"Portugal\",\"Puerto Rico\",\"Qatar\",\"Romania\",\"Russia\",\"Rwanda\",\"Samoa\",\"San Marino\",\"S\\u03c0o Tom\\u0398 and Pr\\u03c6ncipe\",\"Saudi Arabia\",\"Senegal\",\"Serbia\",\"Seychelles\",\"Sierra Leone\",\"Singapore\",\"Slovak Republic\",\"Slovenia\",\"Solomon Islands\",\"Somalia\",\"South Africa\",\"South Sudan\",\"Spain\",\"Sri Lanka\",\"St. Kitts and Nevis\",\"St. Lucia\",\"St. Vincent and the Grenadines\",\"Sudan\",\"Suriname\",\"Sweden\",\"Switzerland\",\"Syria\",\"Taiwan Province of China\",\"Tajikistan\",\"Tanzania\",\"Thailand\",\"Timor-Leste\",\"Togo\",\"Tonga\",\"Trinidad and Tobago\",\"Tunisia\",\"T\\u207frkiye\",\"Turkmenistan\",\"Tuvalu\",\"Uganda\",\"Ukraine\",\"United Arab Emirates\",\"United Kingdom\",\"United States\",\"Uruguay\",\"Uzbekistan\",\"Vanuatu\",\"Venezuela\",\"Vietnam\",\"West Bank and Gaza\",\"Yemen\",\"Zambia\",\"Zimbabwe\"],\"name\":\"\",\"z\":[null,5.024,8.059,5.587,11.687,5.056,98.591,7.088,3.775,5.348,8.173,11.25,4.505,2.152,8.613,6.884,7.459,4.681,4.123,3.0,5.592,3.977,6.004,6.5,5.027,2.0,7.533,1.47,16.01,4.5,2.99,5.9,3.899,6.3,3.439,7.883,1.985,10.854,8.101,10.764,3.3,5.192,3.732,7.391,3.898,11.775,4.8,3.22,6.187,5.709,2.465,21.629,4.116,5.709,6.387,9.748,5.372,31.429,3.5,5.295,5.045,3.407,11.306,5.864,6.193,45.435,3.988,3.174,7.404,8.051,5.0,6.596,44.536,6.936,2.3,17.653,8.084,4.945,4.382,42.5,6.631,5.0,4.276,4.452,7.0,2.733,3.802,14.826,7.793,8.6,3.542,5.503,3.252,11.348,15.1,9.712,null,6.801,6.904,3.428,10.52,2.636,2.5,9.5,24.661,2.889,5.236,5.0,5.787,2.2,9.507,9.545,6.267,4.739,13.817,11.167,9.737,4.58,7.423,14.179,5.0,4.218,7.771,3.864,5.45,8.525,2.794,20.131,9.2,4.9,1.936,27.099,7.9,2.239,5.4,5.157,5.693,6.337,11.904,5.723,3.346,2.956,10.477,7.025,8.2,10.0,4.62,17.873,2.801,5.0,12.195,3.113,37.796,5.797,9.519,6.439,4.798,4.2,5.753,27.78,4.304,28.514,2.34,4.884,3.536,71.628,42.74,6.817,2.445,null,1.92,5.367,4.876,2.843,4.0,5.293,9.69,5.558,10.916,50.58,6.722,5.896,7.617,21.061,3.419,6.841,4.519,7.582,11.835,3.504,399.976,4.956,3.218,16.805,8.949,172.172],\"type\":\"choropleth\"}],\"name\":\"2023\"},{\"data\":[{\"coloraxis\":\"coloraxis\",\"geo\":\"geo\",\"hovertemplate\":\"<b>%{hovertext}</b><br><br>Year=2024<br>Country=%{location}<br>Value=%{z}<extra></extra>\",\"hovertext\":[\"Afghanistan\",\"Albania\",\"Algeria\",\"Andorra\",\"Angola\",\"Antigua and Barbuda\",\"Argentina\",\"Armenia\",\"Aruba\",\"Australia\",\"Austria\",\"Azerbaijan\",\"The Bahamas\",\"Bahrain\",\"Bangladesh\",\"Barbados\",\"Belarus\",\"Belgium\",\"Belize\",\"Benin\",\"Bhutan\",\"Bolivia\",\"Bosnia and Herzegovina\",\"Botswana\",\"Brazil\",\"Brunei Darussalam\",\"Bulgaria\",\"Burkina Faso\",\"Burundi\",\"Cabo Verde\",\"Cambodia\",\"Cameroon\",\"Canada\",\"Central African Republic\",\"Chad\",\"Chile\",\"China\",\"Colombia\",\"Comoros\",\"Democratic Republic of the Congo\",\"Republic of Congo\",\"Costa Rica\",\"C\\u2320te d'Ivoire\",\"Croatia\",\"Cyprus\",\"Czech Republic\",\"Denmark\",\"Djibouti\",\"Dominica\",\"Dominican Republic\",\"Ecuador\",\"Egypt\",\"El Salvador\",\"Equatorial Guinea\",\"Eritrea\",\"Estonia\",\"Eswatini\",\"Ethiopia\",\"Fiji\",\"Finland\",\"France\",\"Gabon\",\"The Gambia\",\"Georgia\",\"Germany\",\"Ghana\",\"Greece\",\"Grenada\",\"Guatemala\",\"Guinea\",\"Guinea-Bissau\",\"Guyana\",\"Haiti\",\"Honduras\",\"Hong Kong SAR\",\"Hungary\",\"Iceland\",\"India\",\"Indonesia\",\"Islamic Republic of Iran\",\"Iraq\",\"Ireland\",\"Israel\",\"Italy\",\"Jamaica\",\"Japan\",\"Jordan\",\"Kazakhstan\",\"Kenya\",\"Kiribati\",\"Korea\",\"Kosovo\",\"Kuwait\",\"Kyrgyz Republic\",\"Lao P.D.R.\",\"Latvia\",\"Lebanon\",\"Lesotho\",\"Liberia\",\"Libya\",\"Lithuania\",\"Luxembourg\",\"Macao SAR\",\"Madagascar\",\"Malawi\",\"Malaysia\",\"Maldives\",\"Mali\",\"Malta\",\"Marshall Islands\",\"Mauritania\",\"Mauritius\",\"Mexico\",\"Micronesia\",\"Moldova\",\"Mongolia\",\"Montenegro\",\"Morocco\",\"Mozambique\",\"Myanmar\",\"Namibia\",\"Nauru\",\"Nepal\",\"Netherlands\",\"New Zealand\",\"Nicaragua\",\"Niger\",\"Nigeria\",\"North Macedonia\",\"Norway\",\"Oman\",\"Pakistan\",\"Palau\",\"Panama\",\"Papua New Guinea\",\"Paraguay\",\"Peru\",\"Philippines\",\"Poland\",\"Portugal\",\"Puerto Rico\",\"Qatar\",\"Romania\",\"Russia\",\"Rwanda\",\"Samoa\",\"San Marino\",\"S\\u03c0o Tom\\u0398 and Pr\\u03c6ncipe\",\"Saudi Arabia\",\"Senegal\",\"Serbia\",\"Seychelles\",\"Sierra Leone\",\"Singapore\",\"Slovak Republic\",\"Slovenia\",\"Solomon Islands\",\"Somalia\",\"South Africa\",\"South Sudan\",\"Spain\",\"Sri Lanka\",\"St. Kitts and Nevis\",\"St. Lucia\",\"St. Vincent and the Grenadines\",\"Sudan\",\"Suriname\",\"Sweden\",\"Switzerland\",\"Syria\",\"Taiwan Province of China\",\"Tajikistan\",\"Tanzania\",\"Thailand\",\"Timor-Leste\",\"Togo\",\"Tonga\",\"Trinidad and Tobago\",\"Tunisia\",\"T\\u207frkiye\",\"Turkmenistan\",\"Tuvalu\",\"Uganda\",\"Ukraine\",\"United Arab Emirates\",\"United Kingdom\",\"United States\",\"Uruguay\",\"Uzbekistan\",\"Vanuatu\",\"Venezuela\",\"Vietnam\",\"West Bank and Gaza\",\"Yemen\",\"Zambia\",\"Zimbabwe\"],\"locationmode\":\"country names\",\"locations\":[\"Afghanistan\",\"Albania\",\"Algeria\",\"Andorra\",\"Angola\",\"Antigua and Barbuda\",\"Argentina\",\"Armenia\",\"Aruba\",\"Australia\",\"Austria\",\"Azerbaijan\",\"The Bahamas\",\"Bahrain\",\"Bangladesh\",\"Barbados\",\"Belarus\",\"Belgium\",\"Belize\",\"Benin\",\"Bhutan\",\"Bolivia\",\"Bosnia and Herzegovina\",\"Botswana\",\"Brazil\",\"Brunei Darussalam\",\"Bulgaria\",\"Burkina Faso\",\"Burundi\",\"Cabo Verde\",\"Cambodia\",\"Cameroon\",\"Canada\",\"Central African Republic\",\"Chad\",\"Chile\",\"China\",\"Colombia\",\"Comoros\",\"Democratic Republic of the Congo\",\"Republic of Congo\",\"Costa Rica\",\"C\\u2320te d'Ivoire\",\"Croatia\",\"Cyprus\",\"Czech Republic\",\"Denmark\",\"Djibouti\",\"Dominica\",\"Dominican Republic\",\"Ecuador\",\"Egypt\",\"El Salvador\",\"Equatorial Guinea\",\"Eritrea\",\"Estonia\",\"Eswatini\",\"Ethiopia\",\"Fiji\",\"Finland\",\"France\",\"Gabon\",\"The Gambia\",\"Georgia\",\"Germany\",\"Ghana\",\"Greece\",\"Grenada\",\"Guatemala\",\"Guinea\",\"Guinea-Bissau\",\"Guyana\",\"Haiti\",\"Honduras\",\"Hong Kong SAR\",\"Hungary\",\"Iceland\",\"India\",\"Indonesia\",\"Islamic Republic of Iran\",\"Iraq\",\"Ireland\",\"Israel\",\"Italy\",\"Jamaica\",\"Japan\",\"Jordan\",\"Kazakhstan\",\"Kenya\",\"Kiribati\",\"Korea\",\"Kosovo\",\"Kuwait\",\"Kyrgyz Republic\",\"Lao P.D.R.\",\"Latvia\",\"Lebanon\",\"Lesotho\",\"Liberia\",\"Libya\",\"Lithuania\",\"Luxembourg\",\"Macao SAR\",\"Madagascar\",\"Malawi\",\"Malaysia\",\"Maldives\",\"Mali\",\"Malta\",\"Marshall Islands\",\"Mauritania\",\"Mauritius\",\"Mexico\",\"Micronesia\",\"Moldova\",\"Mongolia\",\"Montenegro\",\"Morocco\",\"Mozambique\",\"Myanmar\",\"Namibia\",\"Nauru\",\"Nepal\",\"Netherlands\",\"New Zealand\",\"Nicaragua\",\"Niger\",\"Nigeria\",\"North Macedonia\",\"Norway\",\"Oman\",\"Pakistan\",\"Palau\",\"Panama\",\"Papua New Guinea\",\"Paraguay\",\"Peru\",\"Philippines\",\"Poland\",\"Portugal\",\"Puerto Rico\",\"Qatar\",\"Romania\",\"Russia\",\"Rwanda\",\"Samoa\",\"San Marino\",\"S\\u03c0o Tom\\u0398 and Pr\\u03c6ncipe\",\"Saudi Arabia\",\"Senegal\",\"Serbia\",\"Seychelles\",\"Sierra Leone\",\"Singapore\",\"Slovak Republic\",\"Slovenia\",\"Solomon Islands\",\"Somalia\",\"South Africa\",\"South Sudan\",\"Spain\",\"Sri Lanka\",\"St. Kitts and Nevis\",\"St. Lucia\",\"St. Vincent and the Grenadines\",\"Sudan\",\"Suriname\",\"Sweden\",\"Switzerland\",\"Syria\",\"Taiwan Province of China\",\"Tajikistan\",\"Tanzania\",\"Thailand\",\"Timor-Leste\",\"Togo\",\"Tonga\",\"Trinidad and Tobago\",\"Tunisia\",\"T\\u207frkiye\",\"Turkmenistan\",\"Tuvalu\",\"Uganda\",\"Ukraine\",\"United Arab Emirates\",\"United Kingdom\",\"United States\",\"Uruguay\",\"Uzbekistan\",\"Vanuatu\",\"Venezuela\",\"Vietnam\",\"West Bank and Gaza\",\"Yemen\",\"Zambia\",\"Zimbabwe\"],\"name\":\"\",\"z\":[null,3.365,7.701,2.908,10.751,2.605,60.147,5.023,2.427,3.198,3.009,8.0,3.394,2.152,6.5,4.699,10.129,2.136,2.487,2.0,4.43,3.691,3.034,5.2,4.794,1.5,2.247,2.3,13.0,2.0,3.04,4.7,2.385,2.69,3.0,4.042,2.191,5.436,1.44,7.202,3.2,3.562,1.8,3.564,2.473,5.825,2.8,3.173,2.382,4.336,1.543,18.033,2.095,5.21,4.062,4.059,4.815,23.48,3.0,2.456,2.463,2.625,8.727,3.21,3.077,22.224,2.876,2.964,5.542,7.519,3.0,5.483,13.667,5.277,2.4,5.377,4.173,4.432,3.032,30.0,1.622,3.2,3.149,2.571,5.0,2.19,2.891,8.548,5.583,4.5,2.299,2.643,2.645,7.827,3.5,3.501,null,5.5,5.943,2.863,5.82,3.128,2.3,8.8,18.341,3.057,2.798,2.8,3.353,2.1,7.0,6.9,3.886,2.144,5.0,8.75,4.964,2.773,6.516,7.825,4.622,3.992,6.339,4.167,2.645,5.0,2.5,15.795,3.5,2.8,2.39,21.944,4.2,2.238,4.9,4.062,2.425,3.239,6.058,3.051,2.209,2.675,5.798,4.553,5.0,5.0,2.745,7.299,2.307,1.964,5.329,3.7,25.85,3.476,4.334,4.489,3.699,3.8,4.804,9.986,3.152,8.688,2.044,2.054,2.345,51.924,27.307,2.344,1.595,null,1.65,6.5,4.3,1.972,2.5,2.866,4.778,3.378,9.517,35.169,10.67,3.672,6.36,null,2.0,2.979,2.318,6.136,9.901,3.046,199.976,4.253,2.708,17.273,7.65,134.59],\"type\":\"choropleth\"}],\"name\":\"2024\"},{\"data\":[{\"coloraxis\":\"coloraxis\",\"geo\":\"geo\",\"hovertemplate\":\"<b>%{hovertext}</b><br><br>Year=2025<br>Country=%{location}<br>Value=%{z}<extra></extra>\",\"hovertext\":[\"Afghanistan\",\"Albania\",\"Algeria\",\"Andorra\",\"Angola\",\"Antigua and Barbuda\",\"Argentina\",\"Armenia\",\"Aruba\",\"Australia\",\"Austria\",\"Azerbaijan\",\"The Bahamas\",\"Bahrain\",\"Bangladesh\",\"Barbados\",\"Belarus\",\"Belgium\",\"Belize\",\"Benin\",\"Bhutan\",\"Bolivia\",\"Bosnia and Herzegovina\",\"Botswana\",\"Brazil\",\"Brunei Darussalam\",\"Bulgaria\",\"Burkina Faso\",\"Burundi\",\"Cabo Verde\",\"Cambodia\",\"Cameroon\",\"Canada\",\"Central African Republic\",\"Chad\",\"Chile\",\"China\",\"Colombia\",\"Comoros\",\"Democratic Republic of the Congo\",\"Republic of Congo\",\"Costa Rica\",\"C\\u2320te d'Ivoire\",\"Croatia\",\"Cyprus\",\"Czech Republic\",\"Denmark\",\"Djibouti\",\"Dominica\",\"Dominican Republic\",\"Ecuador\",\"Egypt\",\"El Salvador\",\"Equatorial Guinea\",\"Eritrea\",\"Estonia\",\"Eswatini\",\"Ethiopia\",\"Fiji\",\"Finland\",\"France\",\"Gabon\",\"The Gambia\",\"Georgia\",\"Germany\",\"Ghana\",\"Greece\",\"Grenada\",\"Guatemala\",\"Guinea\",\"Guinea-Bissau\",\"Guyana\",\"Haiti\",\"Honduras\",\"Hong Kong SAR\",\"Hungary\",\"Iceland\",\"India\",\"Indonesia\",\"Islamic Republic of Iran\",\"Iraq\",\"Ireland\",\"Israel\",\"Italy\",\"Jamaica\",\"Japan\",\"Jordan\",\"Kazakhstan\",\"Kenya\",\"Kiribati\",\"Korea\",\"Kosovo\",\"Kuwait\",\"Kyrgyz Republic\",\"Lao P.D.R.\",\"Latvia\",\"Lebanon\",\"Lesotho\",\"Liberia\",\"Libya\",\"Lithuania\",\"Luxembourg\",\"Macao SAR\",\"Madagascar\",\"Malawi\",\"Malaysia\",\"Maldives\",\"Mali\",\"Malta\",\"Marshall Islands\",\"Mauritania\",\"Mauritius\",\"Mexico\",\"Micronesia\",\"Moldova\",\"Mongolia\",\"Montenegro\",\"Morocco\",\"Mozambique\",\"Myanmar\",\"Namibia\",\"Nauru\",\"Nepal\",\"Netherlands\",\"New Zealand\",\"Nicaragua\",\"Niger\",\"Nigeria\",\"North Macedonia\",\"Norway\",\"Oman\",\"Pakistan\",\"Palau\",\"Panama\",\"Papua New Guinea\",\"Paraguay\",\"Peru\",\"Philippines\",\"Poland\",\"Portugal\",\"Puerto Rico\",\"Qatar\",\"Romania\",\"Russia\",\"Rwanda\",\"Samoa\",\"San Marino\",\"S\\u03c0o Tom\\u0398 and Pr\\u03c6ncipe\",\"Saudi Arabia\",\"Senegal\",\"Serbia\",\"Seychelles\",\"Sierra Leone\",\"Singapore\",\"Slovak Republic\",\"Slovenia\",\"Solomon Islands\",\"Somalia\",\"South Africa\",\"South Sudan\",\"Spain\",\"Sri Lanka\",\"St. Kitts and Nevis\",\"St. Lucia\",\"St. Vincent and the Grenadines\",\"Sudan\",\"Suriname\",\"Sweden\",\"Switzerland\",\"Syria\",\"Taiwan Province of China\",\"Tajikistan\",\"Tanzania\",\"Thailand\",\"Timor-Leste\",\"Togo\",\"Tonga\",\"Trinidad and Tobago\",\"Tunisia\",\"T\\u207frkiye\",\"Turkmenistan\",\"Tuvalu\",\"Uganda\",\"Ukraine\",\"United Arab Emirates\",\"United Kingdom\",\"United States\",\"Uruguay\",\"Uzbekistan\",\"Vanuatu\",\"Venezuela\",\"Vietnam\",\"West Bank and Gaza\",\"Yemen\",\"Zambia\",\"Zimbabwe\"],\"locationmode\":\"country names\",\"locations\":[\"Afghanistan\",\"Albania\",\"Algeria\",\"Andorra\",\"Angola\",\"Antigua and Barbuda\",\"Argentina\",\"Armenia\",\"Aruba\",\"Australia\",\"Austria\",\"Azerbaijan\",\"The Bahamas\",\"Bahrain\",\"Bangladesh\",\"Barbados\",\"Belarus\",\"Belgium\",\"Belize\",\"Benin\",\"Bhutan\",\"Bolivia\",\"Bosnia and Herzegovina\",\"Botswana\",\"Brazil\",\"Brunei Darussalam\",\"Bulgaria\",\"Burkina Faso\",\"Burundi\",\"Cabo Verde\",\"Cambodia\",\"Cameroon\",\"Canada\",\"Central African Republic\",\"Chad\",\"Chile\",\"China\",\"Colombia\",\"Comoros\",\"Democratic Republic of the Congo\",\"Republic of Congo\",\"Costa Rica\",\"C\\u2320te d'Ivoire\",\"Croatia\",\"Cyprus\",\"Czech Republic\",\"Denmark\",\"Djibouti\",\"Dominica\",\"Dominican Republic\",\"Ecuador\",\"Egypt\",\"El Salvador\",\"Equatorial Guinea\",\"Eritrea\",\"Estonia\",\"Eswatini\",\"Ethiopia\",\"Fiji\",\"Finland\",\"France\",\"Gabon\",\"The Gambia\",\"Georgia\",\"Germany\",\"Ghana\",\"Greece\",\"Grenada\",\"Guatemala\",\"Guinea\",\"Guinea-Bissau\",\"Guyana\",\"Haiti\",\"Honduras\",\"Hong Kong SAR\",\"Hungary\",\"Iceland\",\"India\",\"Indonesia\",\"Islamic Republic of Iran\",\"Iraq\",\"Ireland\",\"Israel\",\"Italy\",\"Jamaica\",\"Japan\",\"Jordan\",\"Kazakhstan\",\"Kenya\",\"Kiribati\",\"Korea\",\"Kosovo\",\"Kuwait\",\"Kyrgyz Republic\",\"Lao P.D.R.\",\"Latvia\",\"Lebanon\",\"Lesotho\",\"Liberia\",\"Libya\",\"Lithuania\",\"Luxembourg\",\"Macao SAR\",\"Madagascar\",\"Malawi\",\"Malaysia\",\"Maldives\",\"Mali\",\"Malta\",\"Marshall Islands\",\"Mauritania\",\"Mauritius\",\"Mexico\",\"Micronesia\",\"Moldova\",\"Mongolia\",\"Montenegro\",\"Morocco\",\"Mozambique\",\"Myanmar\",\"Namibia\",\"Nauru\",\"Nepal\",\"Netherlands\",\"New Zealand\",\"Nicaragua\",\"Niger\",\"Nigeria\",\"North Macedonia\",\"Norway\",\"Oman\",\"Pakistan\",\"Palau\",\"Panama\",\"Papua New Guinea\",\"Paraguay\",\"Peru\",\"Philippines\",\"Poland\",\"Portugal\",\"Puerto Rico\",\"Qatar\",\"Romania\",\"Russia\",\"Rwanda\",\"Samoa\",\"San Marino\",\"S\\u03c0o Tom\\u0398 and Pr\\u03c6ncipe\",\"Saudi Arabia\",\"Senegal\",\"Serbia\",\"Seychelles\",\"Sierra Leone\",\"Singapore\",\"Slovak Republic\",\"Slovenia\",\"Solomon Islands\",\"Somalia\",\"South Africa\",\"South Sudan\",\"Spain\",\"Sri Lanka\",\"St. Kitts and Nevis\",\"St. Lucia\",\"St. Vincent and the Grenadines\",\"Sudan\",\"Suriname\",\"Sweden\",\"Switzerland\",\"Syria\",\"Taiwan Province of China\",\"Tajikistan\",\"Tanzania\",\"Thailand\",\"Timor-Leste\",\"Togo\",\"Tonga\",\"Trinidad and Tobago\",\"Tunisia\",\"T\\u207frkiye\",\"Turkmenistan\",\"Tuvalu\",\"Uganda\",\"Ukraine\",\"United Arab Emirates\",\"United Kingdom\",\"United States\",\"Uruguay\",\"Uzbekistan\",\"Vanuatu\",\"Venezuela\",\"Vietnam\",\"West Bank and Gaza\",\"Yemen\",\"Zambia\",\"Zimbabwe\"],\"name\":\"\",\"z\":[null,2.999,6.546,2.006,9.445,1.993,46.908,4.487,2.427,3.033,2.196,6.0,2.73,2.113,5.6,4.581,7.094,1.685,1.551,2.0,4.159,3.798,2.749,4.525,2.951,1.0,2.057,2.0,10.0,2.0,3.04,3.0,1.875,2.75,2.971,3.041,2.2,3.047,2.316,6.818,3.1,3.2,1.7,2.226,2.2,2.7,2.2,2.5,2.0,4.033,1.543,9.386,1.7,4.71,4.275,3.5,4.434,14.831,3.0,2.2,2.146,2.645,6.05,3.0,2.254,11.5,2.3,1.999,4.399,7.509,2.0,4.972,12.61,4.112,2.4,4.24,2.715,4.092,2.726,25.0,2.22,2.4,2.812,2.139,5.0,1.584,2.486,6.187,5.252,2.1,2.0,2.152,2.001,5.765,3.0,2.8,null,5.5,5.825,2.863,4.059,3.362,2.3,8.1,12.069,2.564,2.249,2.0,2.25,2.0,5.5,5.226,3.278,2.044,5.0,7.85,2.871,2.401,6.285,7.825,4.622,3.337,5.649,2.112,2.518,4.0,2.0,14.692,2.3,2.6,1.956,10.461,2.4,2.0,4.6,4.0,2.222,3.0,4.139,2.481,2.262,2.273,4.206,4.0,5.0,4.0,1.814,4.98,2.027,2.0,3.541,3.5,19.25,2.5,2.47,3.318,3.284,3.6,4.5,7.183,2.021,5.578,2.044,1.992,1.998,39.81,12.982,2.2,1.282,null,1.0,6.5,3.783,1.995,2.0,1.976,2.934,2.2,7.84,24.878,10.0,3.579,4.604,null,2.0,1.801,2.104,5.467,6.519,3.066,null,4.1,2.499,13.663,7.15,105.719],\"type\":\"choropleth\"}],\"name\":\"2025\"},{\"data\":[{\"coloraxis\":\"coloraxis\",\"geo\":\"geo\",\"hovertemplate\":\"<b>%{hovertext}</b><br><br>Year=2026<br>Country=%{location}<br>Value=%{z}<extra></extra>\",\"hovertext\":[\"Afghanistan\",\"Albania\",\"Algeria\",\"Andorra\",\"Angola\",\"Antigua and Barbuda\",\"Argentina\",\"Armenia\",\"Aruba\",\"Australia\",\"Austria\",\"Azerbaijan\",\"The Bahamas\",\"Bahrain\",\"Bangladesh\",\"Barbados\",\"Belarus\",\"Belgium\",\"Belize\",\"Benin\",\"Bhutan\",\"Bolivia\",\"Bosnia and Herzegovina\",\"Botswana\",\"Brazil\",\"Brunei Darussalam\",\"Bulgaria\",\"Burkina Faso\",\"Burundi\",\"Cabo Verde\",\"Cambodia\",\"Cameroon\",\"Canada\",\"Central African Republic\",\"Chad\",\"Chile\",\"China\",\"Colombia\",\"Comoros\",\"Democratic Republic of the Congo\",\"Republic of Congo\",\"Costa Rica\",\"C\\u2320te d'Ivoire\",\"Croatia\",\"Cyprus\",\"Czech Republic\",\"Denmark\",\"Djibouti\",\"Dominica\",\"Dominican Republic\",\"Ecuador\",\"Egypt\",\"El Salvador\",\"Equatorial Guinea\",\"Eritrea\",\"Estonia\",\"Eswatini\",\"Ethiopia\",\"Fiji\",\"Finland\",\"France\",\"Gabon\",\"The Gambia\",\"Georgia\",\"Germany\",\"Ghana\",\"Greece\",\"Grenada\",\"Guatemala\",\"Guinea\",\"Guinea-Bissau\",\"Guyana\",\"Haiti\",\"Honduras\",\"Hong Kong SAR\",\"Hungary\",\"Iceland\",\"India\",\"Indonesia\",\"Islamic Republic of Iran\",\"Iraq\",\"Ireland\",\"Israel\",\"Italy\",\"Jamaica\",\"Japan\",\"Jordan\",\"Kazakhstan\",\"Kenya\",\"Kiribati\",\"Korea\",\"Kosovo\",\"Kuwait\",\"Kyrgyz Republic\",\"Lao P.D.R.\",\"Latvia\",\"Lebanon\",\"Lesotho\",\"Liberia\",\"Libya\",\"Lithuania\",\"Luxembourg\",\"Macao SAR\",\"Madagascar\",\"Malawi\",\"Malaysia\",\"Maldives\",\"Mali\",\"Malta\",\"Marshall Islands\",\"Mauritania\",\"Mauritius\",\"Mexico\",\"Micronesia\",\"Moldova\",\"Mongolia\",\"Montenegro\",\"Morocco\",\"Mozambique\",\"Myanmar\",\"Namibia\",\"Nauru\",\"Nepal\",\"Netherlands\",\"New Zealand\",\"Nicaragua\",\"Niger\",\"Nigeria\",\"North Macedonia\",\"Norway\",\"Oman\",\"Pakistan\",\"Palau\",\"Panama\",\"Papua New Guinea\",\"Paraguay\",\"Peru\",\"Philippines\",\"Poland\",\"Portugal\",\"Puerto Rico\",\"Qatar\",\"Romania\",\"Russia\",\"Rwanda\",\"Samoa\",\"San Marino\",\"S\\u03c0o Tom\\u0398 and Pr\\u03c6ncipe\",\"Saudi Arabia\",\"Senegal\",\"Serbia\",\"Seychelles\",\"Sierra Leone\",\"Singapore\",\"Slovak Republic\",\"Slovenia\",\"Solomon Islands\",\"Somalia\",\"South Africa\",\"South Sudan\",\"Spain\",\"Sri Lanka\",\"St. Kitts and Nevis\",\"St. Lucia\",\"St. Vincent and the Grenadines\",\"Sudan\",\"Suriname\",\"Sweden\",\"Switzerland\",\"Syria\",\"Taiwan Province of China\",\"Tajikistan\",\"Tanzania\",\"Thailand\",\"Timor-Leste\",\"Togo\",\"Tonga\",\"Trinidad and Tobago\",\"Tunisia\",\"T\\u207frkiye\",\"Turkmenistan\",\"Tuvalu\",\"Uganda\",\"Ukraine\",\"United Arab Emirates\",\"United Kingdom\",\"United States\",\"Uruguay\",\"Uzbekistan\",\"Vanuatu\",\"Venezuela\",\"Vietnam\",\"West Bank and Gaza\",\"Yemen\",\"Zambia\",\"Zimbabwe\"],\"locationmode\":\"country names\",\"locations\":[\"Afghanistan\",\"Albania\",\"Algeria\",\"Andorra\",\"Angola\",\"Antigua and Barbuda\",\"Argentina\",\"Armenia\",\"Aruba\",\"Australia\",\"Austria\",\"Azerbaijan\",\"The Bahamas\",\"Bahrain\",\"Bangladesh\",\"Barbados\",\"Belarus\",\"Belgium\",\"Belize\",\"Benin\",\"Bhutan\",\"Bolivia\",\"Bosnia and Herzegovina\",\"Botswana\",\"Brazil\",\"Brunei Darussalam\",\"Bulgaria\",\"Burkina Faso\",\"Burundi\",\"Cabo Verde\",\"Cambodia\",\"Cameroon\",\"Canada\",\"Central African Republic\",\"Chad\",\"Chile\",\"China\",\"Colombia\",\"Comoros\",\"Democratic Republic of the Congo\",\"Republic of Congo\",\"Costa Rica\",\"C\\u2320te d'Ivoire\",\"Croatia\",\"Cyprus\",\"Czech Republic\",\"Denmark\",\"Djibouti\",\"Dominica\",\"Dominican Republic\",\"Ecuador\",\"Egypt\",\"El Salvador\",\"Equatorial Guinea\",\"Eritrea\",\"Estonia\",\"Eswatini\",\"Ethiopia\",\"Fiji\",\"Finland\",\"France\",\"Gabon\",\"The Gambia\",\"Georgia\",\"Germany\",\"Ghana\",\"Greece\",\"Grenada\",\"Guatemala\",\"Guinea\",\"Guinea-Bissau\",\"Guyana\",\"Haiti\",\"Honduras\",\"Hong Kong SAR\",\"Hungary\",\"Iceland\",\"India\",\"Indonesia\",\"Islamic Republic of Iran\",\"Iraq\",\"Ireland\",\"Israel\",\"Italy\",\"Jamaica\",\"Japan\",\"Jordan\",\"Kazakhstan\",\"Kenya\",\"Kiribati\",\"Korea\",\"Kosovo\",\"Kuwait\",\"Kyrgyz Republic\",\"Lao P.D.R.\",\"Latvia\",\"Lebanon\",\"Lesotho\",\"Liberia\",\"Libya\",\"Lithuania\",\"Luxembourg\",\"Macao SAR\",\"Madagascar\",\"Malawi\",\"Malaysia\",\"Maldives\",\"Mali\",\"Malta\",\"Marshall Islands\",\"Mauritania\",\"Mauritius\",\"Mexico\",\"Micronesia\",\"Moldova\",\"Mongolia\",\"Montenegro\",\"Morocco\",\"Mozambique\",\"Myanmar\",\"Namibia\",\"Nauru\",\"Nepal\",\"Netherlands\",\"New Zealand\",\"Nicaragua\",\"Niger\",\"Nigeria\",\"North Macedonia\",\"Norway\",\"Oman\",\"Pakistan\",\"Palau\",\"Panama\",\"Papua New Guinea\",\"Paraguay\",\"Peru\",\"Philippines\",\"Poland\",\"Portugal\",\"Puerto Rico\",\"Qatar\",\"Romania\",\"Russia\",\"Rwanda\",\"Samoa\",\"San Marino\",\"S\\u03c0o Tom\\u0398 and Pr\\u03c6ncipe\",\"Saudi Arabia\",\"Senegal\",\"Serbia\",\"Seychelles\",\"Sierra Leone\",\"Singapore\",\"Slovak Republic\",\"Slovenia\",\"Solomon Islands\",\"Somalia\",\"South Africa\",\"South Sudan\",\"Spain\",\"Sri Lanka\",\"St. Kitts and Nevis\",\"St. Lucia\",\"St. Vincent and the Grenadines\",\"Sudan\",\"Suriname\",\"Sweden\",\"Switzerland\",\"Syria\",\"Taiwan Province of China\",\"Tajikistan\",\"Tanzania\",\"Thailand\",\"Timor-Leste\",\"Togo\",\"Tonga\",\"Trinidad and Tobago\",\"Tunisia\",\"T\\u207frkiye\",\"Turkmenistan\",\"Tuvalu\",\"Uganda\",\"Ukraine\",\"United Arab Emirates\",\"United Kingdom\",\"United States\",\"Uruguay\",\"Uzbekistan\",\"Vanuatu\",\"Venezuela\",\"Vietnam\",\"West Bank and Gaza\",\"Yemen\",\"Zambia\",\"Zimbabwe\"],\"name\":\"\",\"z\":[null,3.024,5.982,1.752,9.29,2.018,42.128,4.218,2.227,2.688,2.033,4.5,2.481,2.003,5.5,2.907,5.674,1.766,1.207,2.0,4.076,3.5,2.508,4.5,3.029,1.0,2.0,2.0,7.0,2.0,3.04,2.3,1.879,2.532,2.968,3.041,2.2,2.951,2.148,5.585,3.0,3.0,1.7,2.191,2.1,2.0,2.0,2.5,2.0,4.033,1.543,7.197,1.7,4.21,4.709,3.0,4.403,12.364,2.7,2.0,1.736,2.662,5.0,3.0,2.127,8.0,2.001,1.999,3.984,7.5,2.0,4.956,11.523,4.0,2.5,3.584,2.5,4.092,2.644,25.0,2.3,2.0,2.541,2.0,5.04,1.508,2.487,5.558,4.609,1.9,2.0,2.0,2.009,5.536,3.0,2.539,null,5.5,5.529,2.863,2.988,2.014,2.3,7.4,8.058,2.399,2.0,2.0,2.036,2.0,4.5,4.257,3.088,2.014,5.0,7.35,2.289,2.0,5.729,7.825,4.622,2.819,5.45,2.0,2.265,4.0,2.0,14.465,2.0,2.0,1.941,6.501,1.4,2.0,4.5,4.0,2.023,3.0,3.447,2.236,2.207,2.05,2.995,4.0,5.0,3.0,1.814,5.032,2.011,2.0,3.225,3.3,14.55,1.982,2.095,2.492,3.313,3.3,4.5,8.22,1.819,5.203,2.044,2.0,1.998,26.788,10.392,2.0,1.002,null,1.2,6.5,3.886,2.0,2.0,2.013,2.699,1.998,6.053,20.032,10.0,3.212,5.989,null,2.0,2.0,1.997,4.515,5.12,3.066,null,4.0,2.219,11.176,7.0,72.342],\"type\":\"choropleth\"}],\"name\":\"2026\"},{\"data\":[{\"coloraxis\":\"coloraxis\",\"geo\":\"geo\",\"hovertemplate\":\"<b>%{hovertext}</b><br><br>Year=2027<br>Country=%{location}<br>Value=%{z}<extra></extra>\",\"hovertext\":[\"Afghanistan\",\"Albania\",\"Algeria\",\"Andorra\",\"Angola\",\"Antigua and Barbuda\",\"Argentina\",\"Armenia\",\"Aruba\",\"Australia\",\"Austria\",\"Azerbaijan\",\"The Bahamas\",\"Bahrain\",\"Bangladesh\",\"Barbados\",\"Belarus\",\"Belgium\",\"Belize\",\"Benin\",\"Bhutan\",\"Bolivia\",\"Bosnia and Herzegovina\",\"Botswana\",\"Brazil\",\"Brunei Darussalam\",\"Bulgaria\",\"Burkina Faso\",\"Burundi\",\"Cabo Verde\",\"Cambodia\",\"Cameroon\",\"Canada\",\"Central African Republic\",\"Chad\",\"Chile\",\"China\",\"Colombia\",\"Comoros\",\"Democratic Republic of the Congo\",\"Republic of Congo\",\"Costa Rica\",\"C\\u2320te d'Ivoire\",\"Croatia\",\"Cyprus\",\"Czech Republic\",\"Denmark\",\"Djibouti\",\"Dominica\",\"Dominican Republic\",\"Ecuador\",\"Egypt\",\"El Salvador\",\"Equatorial Guinea\",\"Eritrea\",\"Estonia\",\"Eswatini\",\"Ethiopia\",\"Fiji\",\"Finland\",\"France\",\"Gabon\",\"The Gambia\",\"Georgia\",\"Germany\",\"Ghana\",\"Greece\",\"Grenada\",\"Guatemala\",\"Guinea\",\"Guinea-Bissau\",\"Guyana\",\"Haiti\",\"Honduras\",\"Hong Kong SAR\",\"Hungary\",\"Iceland\",\"India\",\"Indonesia\",\"Islamic Republic of Iran\",\"Iraq\",\"Ireland\",\"Israel\",\"Italy\",\"Jamaica\",\"Japan\",\"Jordan\",\"Kazakhstan\",\"Kenya\",\"Kiribati\",\"Korea\",\"Kosovo\",\"Kuwait\",\"Kyrgyz Republic\",\"Lao P.D.R.\",\"Latvia\",\"Lebanon\",\"Lesotho\",\"Liberia\",\"Libya\",\"Lithuania\",\"Luxembourg\",\"Macao SAR\",\"Madagascar\",\"Malawi\",\"Malaysia\",\"Maldives\",\"Mali\",\"Malta\",\"Marshall Islands\",\"Mauritania\",\"Mauritius\",\"Mexico\",\"Micronesia\",\"Moldova\",\"Mongolia\",\"Montenegro\",\"Morocco\",\"Mozambique\",\"Myanmar\",\"Namibia\",\"Nauru\",\"Nepal\",\"Netherlands\",\"New Zealand\",\"Nicaragua\",\"Niger\",\"Nigeria\",\"North Macedonia\",\"Norway\",\"Oman\",\"Pakistan\",\"Palau\",\"Panama\",\"Papua New Guinea\",\"Paraguay\",\"Peru\",\"Philippines\",\"Poland\",\"Portugal\",\"Puerto Rico\",\"Qatar\",\"Romania\",\"Russia\",\"Rwanda\",\"Samoa\",\"San Marino\",\"S\\u03c0o Tom\\u0398 and Pr\\u03c6ncipe\",\"Saudi Arabia\",\"Senegal\",\"Serbia\",\"Seychelles\",\"Sierra Leone\",\"Singapore\",\"Slovak Republic\",\"Slovenia\",\"Solomon Islands\",\"Somalia\",\"South Africa\",\"South Sudan\",\"Spain\",\"Sri Lanka\",\"St. Kitts and Nevis\",\"St. Lucia\",\"St. Vincent and the Grenadines\",\"Sudan\",\"Suriname\",\"Sweden\",\"Switzerland\",\"Syria\",\"Taiwan Province of China\",\"Tajikistan\",\"Tanzania\",\"Thailand\",\"Timor-Leste\",\"Togo\",\"Tonga\",\"Trinidad and Tobago\",\"Tunisia\",\"T\\u207frkiye\",\"Turkmenistan\",\"Tuvalu\",\"Uganda\",\"Ukraine\",\"United Arab Emirates\",\"United Kingdom\",\"United States\",\"Uruguay\",\"Uzbekistan\",\"Vanuatu\",\"Venezuela\",\"Vietnam\",\"West Bank and Gaza\",\"Yemen\",\"Zambia\",\"Zimbabwe\"],\"locationmode\":\"country names\",\"locations\":[\"Afghanistan\",\"Albania\",\"Algeria\",\"Andorra\",\"Angola\",\"Antigua and Barbuda\",\"Argentina\",\"Armenia\",\"Aruba\",\"Australia\",\"Austria\",\"Azerbaijan\",\"The Bahamas\",\"Bahrain\",\"Bangladesh\",\"Barbados\",\"Belarus\",\"Belgium\",\"Belize\",\"Benin\",\"Bhutan\",\"Bolivia\",\"Bosnia and Herzegovina\",\"Botswana\",\"Brazil\",\"Brunei Darussalam\",\"Bulgaria\",\"Burkina Faso\",\"Burundi\",\"Cabo Verde\",\"Cambodia\",\"Cameroon\",\"Canada\",\"Central African Republic\",\"Chad\",\"Chile\",\"China\",\"Colombia\",\"Comoros\",\"Democratic Republic of the Congo\",\"Republic of Congo\",\"Costa Rica\",\"C\\u2320te d'Ivoire\",\"Croatia\",\"Cyprus\",\"Czech Republic\",\"Denmark\",\"Djibouti\",\"Dominica\",\"Dominican Republic\",\"Ecuador\",\"Egypt\",\"El Salvador\",\"Equatorial Guinea\",\"Eritrea\",\"Estonia\",\"Eswatini\",\"Ethiopia\",\"Fiji\",\"Finland\",\"France\",\"Gabon\",\"The Gambia\",\"Georgia\",\"Germany\",\"Ghana\",\"Greece\",\"Grenada\",\"Guatemala\",\"Guinea\",\"Guinea-Bissau\",\"Guyana\",\"Haiti\",\"Honduras\",\"Hong Kong SAR\",\"Hungary\",\"Iceland\",\"India\",\"Indonesia\",\"Islamic Republic of Iran\",\"Iraq\",\"Ireland\",\"Israel\",\"Italy\",\"Jamaica\",\"Japan\",\"Jordan\",\"Kazakhstan\",\"Kenya\",\"Kiribati\",\"Korea\",\"Kosovo\",\"Kuwait\",\"Kyrgyz Republic\",\"Lao P.D.R.\",\"Latvia\",\"Lebanon\",\"Lesotho\",\"Liberia\",\"Libya\",\"Lithuania\",\"Luxembourg\",\"Macao SAR\",\"Madagascar\",\"Malawi\",\"Malaysia\",\"Maldives\",\"Mali\",\"Malta\",\"Marshall Islands\",\"Mauritania\",\"Mauritius\",\"Mexico\",\"Micronesia\",\"Moldova\",\"Mongolia\",\"Montenegro\",\"Morocco\",\"Mozambique\",\"Myanmar\",\"Namibia\",\"Nauru\",\"Nepal\",\"Netherlands\",\"New Zealand\",\"Nicaragua\",\"Niger\",\"Nigeria\",\"North Macedonia\",\"Norway\",\"Oman\",\"Pakistan\",\"Palau\",\"Panama\",\"Papua New Guinea\",\"Paraguay\",\"Peru\",\"Philippines\",\"Poland\",\"Portugal\",\"Puerto Rico\",\"Qatar\",\"Romania\",\"Russia\",\"Rwanda\",\"Samoa\",\"San Marino\",\"S\\u03c0o Tom\\u0398 and Pr\\u03c6ncipe\",\"Saudi Arabia\",\"Senegal\",\"Serbia\",\"Seychelles\",\"Sierra Leone\",\"Singapore\",\"Slovak Republic\",\"Slovenia\",\"Solomon Islands\",\"Somalia\",\"South Africa\",\"South Sudan\",\"Spain\",\"Sri Lanka\",\"St. Kitts and Nevis\",\"St. Lucia\",\"St. Vincent and the Grenadines\",\"Sudan\",\"Suriname\",\"Sweden\",\"Switzerland\",\"Syria\",\"Taiwan Province of China\",\"Tajikistan\",\"Tanzania\",\"Thailand\",\"Timor-Leste\",\"Togo\",\"Tonga\",\"Trinidad and Tobago\",\"Tunisia\",\"T\\u207frkiye\",\"Turkmenistan\",\"Tuvalu\",\"Uganda\",\"Ukraine\",\"United Arab Emirates\",\"United Kingdom\",\"United States\",\"Uruguay\",\"Uzbekistan\",\"Vanuatu\",\"Venezuela\",\"Vietnam\",\"West Bank and Gaza\",\"Yemen\",\"Zambia\",\"Zimbabwe\"],\"name\":\"\",\"z\":[null,3.024,5.608,1.7,9.09,2.018,37.142,4.084,2.026,2.677,2.003,4.0,2.236,2.003,5.5,2.594,5.019,1.906,1.207,2.0,4.003,3.5,2.021,4.5,3.048,1.0,2.0,2.0,7.0,2.0,3.0,2.0,1.901,2.534,2.968,3.041,2.2,2.973,1.967,6.254,3.0,2.9,1.95,2.178,2.0,2.0,2.0,2.5,2.0,4.033,1.543,6.02,1.7,3.446,5.021,2.6,4.406,12.364,2.5,2.0,1.563,2.662,5.0,3.0,1.986,8.0,1.9,1.999,3.97,7.5,2.0,4.994,9.726,4.0,2.5,3.23,2.5,4.0,2.464,25.0,2.1,2.0,2.29,2.0,5.02,1.508,2.488,5.239,4.944,1.8,2.0,2.0,2.011,4.768,3.0,2.492,null,5.5,4.656,2.863,2.553,2.015,2.3,6.7,6.8,2.431,2.0,2.0,2.026,2.0,4.0,3.772,3.028,2.044,5.0,6.5,1.963,2.0,5.5,7.825,4.622,2.258,5.4,2.0,2.139,4.0,2.0,14.0,2.0,2.0,2.001,6.501,0.9,2.0,4.5,4.0,2.023,3.0,2.9,2.045,1.969,1.508,2.568,4.0,5.0,3.0,1.814,5.032,2.0,2.0,3.016,3.0,11.05,1.988,1.95,2.06,3.306,3.2,4.5,8.008,1.7,5.064,2.044,2.0,1.998,26.07,7.508,2.0,0.996,null,1.0,6.5,4.357,2.0,2.0,1.7,3.153,1.898,5.147,20.023,10.0,2.94,5.0,null,2.0,2.0,2.012,4.54,5.089,3.066,null,4.0,1.951,10.0,7.0,52.27],\"type\":\"choropleth\"}],\"name\":\"2027\"},{\"data\":[{\"coloraxis\":\"coloraxis\",\"geo\":\"geo\",\"hovertemplate\":\"<b>%{hovertext}</b><br><br>Year=2028<br>Country=%{location}<br>Value=%{z}<extra></extra>\",\"hovertext\":[\"Afghanistan\",\"Albania\",\"Algeria\",\"Andorra\",\"Angola\",\"Antigua and Barbuda\",\"Argentina\",\"Armenia\",\"Aruba\",\"Australia\",\"Austria\",\"Azerbaijan\",\"The Bahamas\",\"Bahrain\",\"Bangladesh\",\"Barbados\",\"Belarus\",\"Belgium\",\"Belize\",\"Benin\",\"Bhutan\",\"Bolivia\",\"Bosnia and Herzegovina\",\"Botswana\",\"Brazil\",\"Brunei Darussalam\",\"Bulgaria\",\"Burkina Faso\",\"Burundi\",\"Cabo Verde\",\"Cambodia\",\"Cameroon\",\"Canada\",\"Central African Republic\",\"Chad\",\"Chile\",\"China\",\"Colombia\",\"Comoros\",\"Democratic Republic of the Congo\",\"Republic of Congo\",\"Costa Rica\",\"C\\u2320te d'Ivoire\",\"Croatia\",\"Cyprus\",\"Czech Republic\",\"Denmark\",\"Djibouti\",\"Dominica\",\"Dominican Republic\",\"Ecuador\",\"Egypt\",\"El Salvador\",\"Equatorial Guinea\",\"Eritrea\",\"Estonia\",\"Eswatini\",\"Ethiopia\",\"Fiji\",\"Finland\",\"France\",\"Gabon\",\"The Gambia\",\"Georgia\",\"Germany\",\"Ghana\",\"Greece\",\"Grenada\",\"Guatemala\",\"Guinea\",\"Guinea-Bissau\",\"Guyana\",\"Haiti\",\"Honduras\",\"Hong Kong SAR\",\"Hungary\",\"Iceland\",\"India\",\"Indonesia\",\"Islamic Republic of Iran\",\"Iraq\",\"Ireland\",\"Israel\",\"Italy\",\"Jamaica\",\"Japan\",\"Jordan\",\"Kazakhstan\",\"Kenya\",\"Kiribati\",\"Korea\",\"Kosovo\",\"Kuwait\",\"Kyrgyz Republic\",\"Lao P.D.R.\",\"Latvia\",\"Lebanon\",\"Lesotho\",\"Liberia\",\"Libya\",\"Lithuania\",\"Luxembourg\",\"Macao SAR\",\"Madagascar\",\"Malawi\",\"Malaysia\",\"Maldives\",\"Mali\",\"Malta\",\"Marshall Islands\",\"Mauritania\",\"Mauritius\",\"Mexico\",\"Micronesia\",\"Moldova\",\"Mongolia\",\"Montenegro\",\"Morocco\",\"Mozambique\",\"Myanmar\",\"Namibia\",\"Nauru\",\"Nepal\",\"Netherlands\",\"New Zealand\",\"Nicaragua\",\"Niger\",\"Nigeria\",\"North Macedonia\",\"Norway\",\"Oman\",\"Pakistan\",\"Palau\",\"Panama\",\"Papua New Guinea\",\"Paraguay\",\"Peru\",\"Philippines\",\"Poland\",\"Portugal\",\"Puerto Rico\",\"Qatar\",\"Romania\",\"Russia\",\"Rwanda\",\"Samoa\",\"San Marino\",\"S\\u03c0o Tom\\u0398 and Pr\\u03c6ncipe\",\"Saudi Arabia\",\"Senegal\",\"Serbia\",\"Seychelles\",\"Sierra Leone\",\"Singapore\",\"Slovak Republic\",\"Slovenia\",\"Solomon Islands\",\"Somalia\",\"South Africa\",\"South Sudan\",\"Spain\",\"Sri Lanka\",\"St. Kitts and Nevis\",\"St. Lucia\",\"St. Vincent and the Grenadines\",\"Sudan\",\"Suriname\",\"Sweden\",\"Switzerland\",\"Syria\",\"Taiwan Province of China\",\"Tajikistan\",\"Tanzania\",\"Thailand\",\"Timor-Leste\",\"Togo\",\"Tonga\",\"Trinidad and Tobago\",\"Tunisia\",\"T\\u207frkiye\",\"Turkmenistan\",\"Tuvalu\",\"Uganda\",\"Ukraine\",\"United Arab Emirates\",\"United Kingdom\",\"United States\",\"Uruguay\",\"Uzbekistan\",\"Vanuatu\",\"Venezuela\",\"Vietnam\",\"West Bank and Gaza\",\"Yemen\",\"Zambia\",\"Zimbabwe\"],\"locationmode\":\"country names\",\"locations\":[\"Afghanistan\",\"Albania\",\"Algeria\",\"Andorra\",\"Angola\",\"Antigua and Barbuda\",\"Argentina\",\"Armenia\",\"Aruba\",\"Australia\",\"Austria\",\"Azerbaijan\",\"The Bahamas\",\"Bahrain\",\"Bangladesh\",\"Barbados\",\"Belarus\",\"Belgium\",\"Belize\",\"Benin\",\"Bhutan\",\"Bolivia\",\"Bosnia and Herzegovina\",\"Botswana\",\"Brazil\",\"Brunei Darussalam\",\"Bulgaria\",\"Burkina Faso\",\"Burundi\",\"Cabo Verde\",\"Cambodia\",\"Cameroon\",\"Canada\",\"Central African Republic\",\"Chad\",\"Chile\",\"China\",\"Colombia\",\"Comoros\",\"Democratic Republic of the Congo\",\"Republic of Congo\",\"Costa Rica\",\"C\\u2320te d'Ivoire\",\"Croatia\",\"Cyprus\",\"Czech Republic\",\"Denmark\",\"Djibouti\",\"Dominica\",\"Dominican Republic\",\"Ecuador\",\"Egypt\",\"El Salvador\",\"Equatorial Guinea\",\"Eritrea\",\"Estonia\",\"Eswatini\",\"Ethiopia\",\"Fiji\",\"Finland\",\"France\",\"Gabon\",\"The Gambia\",\"Georgia\",\"Germany\",\"Ghana\",\"Greece\",\"Grenada\",\"Guatemala\",\"Guinea\",\"Guinea-Bissau\",\"Guyana\",\"Haiti\",\"Honduras\",\"Hong Kong SAR\",\"Hungary\",\"Iceland\",\"India\",\"Indonesia\",\"Islamic Republic of Iran\",\"Iraq\",\"Ireland\",\"Israel\",\"Italy\",\"Jamaica\",\"Japan\",\"Jordan\",\"Kazakhstan\",\"Kenya\",\"Kiribati\",\"Korea\",\"Kosovo\",\"Kuwait\",\"Kyrgyz Republic\",\"Lao P.D.R.\",\"Latvia\",\"Lebanon\",\"Lesotho\",\"Liberia\",\"Libya\",\"Lithuania\",\"Luxembourg\",\"Macao SAR\",\"Madagascar\",\"Malawi\",\"Malaysia\",\"Maldives\",\"Mali\",\"Malta\",\"Marshall Islands\",\"Mauritania\",\"Mauritius\",\"Mexico\",\"Micronesia\",\"Moldova\",\"Mongolia\",\"Montenegro\",\"Morocco\",\"Mozambique\",\"Myanmar\",\"Namibia\",\"Nauru\",\"Nepal\",\"Netherlands\",\"New Zealand\",\"Nicaragua\",\"Niger\",\"Nigeria\",\"North Macedonia\",\"Norway\",\"Oman\",\"Pakistan\",\"Palau\",\"Panama\",\"Papua New Guinea\",\"Paraguay\",\"Peru\",\"Philippines\",\"Poland\",\"Portugal\",\"Puerto Rico\",\"Qatar\",\"Romania\",\"Russia\",\"Rwanda\",\"Samoa\",\"San Marino\",\"S\\u03c0o Tom\\u0398 and Pr\\u03c6ncipe\",\"Saudi Arabia\",\"Senegal\",\"Serbia\",\"Seychelles\",\"Sierra Leone\",\"Singapore\",\"Slovak Republic\",\"Slovenia\",\"Solomon Islands\",\"Somalia\",\"South Africa\",\"South Sudan\",\"Spain\",\"Sri Lanka\",\"St. Kitts and Nevis\",\"St. Lucia\",\"St. Vincent and the Grenadines\",\"Sudan\",\"Suriname\",\"Sweden\",\"Switzerland\",\"Syria\",\"Taiwan Province of China\",\"Tajikistan\",\"Tanzania\",\"Thailand\",\"Timor-Leste\",\"Togo\",\"Tonga\",\"Trinidad and Tobago\",\"Tunisia\",\"T\\u207frkiye\",\"Turkmenistan\",\"Tuvalu\",\"Uganda\",\"Ukraine\",\"United Arab Emirates\",\"United Kingdom\",\"United States\",\"Uruguay\",\"Uzbekistan\",\"Vanuatu\",\"Venezuela\",\"Vietnam\",\"West Bank and Gaza\",\"Yemen\",\"Zambia\",\"Zimbabwe\"],\"name\":\"\",\"z\":[null,3.024,5.032,1.7,8.89,2.018,32.469,4.017,1.998,2.574,2.007,4.0,1.982,2.003,5.5,2.427,5.02,1.97,1.207,2.0,3.96,3.5,2.021,4.5,2.965,1.0,2.0,2.0,7.0,2.0,3.0,2.0,1.968,2.535,2.968,3.041,2.2,2.96,1.967,6.0,3.0,3.0,2.0,2.079,2.0,2.0,2.0,2.5,2.0,4.033,1.543,5.325,1.7,3.0,4.37,2.5,4.406,12.364,2.5,2.0,1.557,2.662,5.0,3.007,1.964,8.0,1.8,1.999,3.97,7.5,2.0,5.032,9.726,4.0,2.5,3.057,2.5,4.0,2.461,25.0,2.0,2.0,2.085,2.0,5.0,1.508,2.489,4.698,5.0,1.8,2.0,2.0,2.011,4.0,3.0,2.479,null,5.5,4.988,2.863,2.46,1.975,2.3,6.0,6.496,2.434,2.0,2.0,2.018,2.0,4.0,3.529,3.009,2.022,5.0,6.0,1.889,2.0,5.5,7.825,4.622,2.001,5.4,2.0,2.013,4.0,2.0,14.0,2.0,2.0,2.001,6.501,0.9,2.0,4.5,4.0,2.023,3.0,2.5,2.029,2.114,1.471,2.525,4.0,5.0,3.0,1.814,5.032,2.0,-10.292,3.0,3.0,8.9,1.988,1.957,2.024,3.239,3.0,4.5,7.776,1.7,5.001,2.044,2.0,1.998,18.201,5.0,2.0,1.027,null,1.1,6.5,3.733,2.0,2.0,1.7,3.344,1.849,4.679,20.0,10.0,2.995,5.0,null,2.0,2.0,2.089,4.517,5.027,3.066,null,4.0,1.966,10.0,7.0,20.81],\"type\":\"choropleth\"}],\"name\":\"2028\"}]);\n",
              "                        }).then(function(){\n",
              "                            \n",
              "var gd = document.getElementById('b04004bb-51aa-48d0-9cf8-4a3f2b3e2177');\n",
              "var x = new MutationObserver(function (mutations, observer) {{\n",
              "        var display = window.getComputedStyle(gd).display;\n",
              "        if (!display || display === 'none') {{\n",
              "            console.log([gd, 'removed!']);\n",
              "            Plotly.purge(gd);\n",
              "            observer.disconnect();\n",
              "        }}\n",
              "}});\n",
              "\n",
              "// Listen for the removal of the full notebook cells\n",
              "var notebookContainer = gd.closest('#notebook-container');\n",
              "if (notebookContainer) {{\n",
              "    x.observe(notebookContainer, {childList: true});\n",
              "}}\n",
              "\n",
              "// Listen for the clearing of the current output cell\n",
              "var outputEl = gd.closest('.output');\n",
              "if (outputEl) {{\n",
              "    x.observe(outputEl, {childList: true});\n",
              "}}\n",
              "\n",
              "                        })                };                            </script>        </div>\n",
              "</body>\n",
              "</html>"
            ]
          },
          "metadata": {}
        }
      ]
    },
    {
      "cell_type": "markdown",
      "source": [
        "### GDP per capita, constant prices"
      ],
      "metadata": {
        "id": "Ya3rjTXz0jGO"
      }
    },
    {
      "cell_type": "code",
      "source": [
        "import plotly.graph_objs as go\n",
        "from plotly.subplots import make_subplots\n",
        "import plotly.io as pio\n",
        "import plotly.express as px\n",
        "\n",
        "pio.templates.default = \"simple_white\"\n",
        "px.defaults.template = \"ggplot2\"\n",
        "px.defaults.color_continuous_scale = px.colors.sequential.Blackbody\n",
        "px.defaults.width = 1000\n",
        "px.defaults.height = 1100\n",
        "\n",
        "\n",
        "\n",
        "\n",
        "spain_gdp_per_capita_nc = eu_data[\n",
        "    (eu_data['Country'] == 'Spain') &\n",
        "    (eu_data['WEO Subject Code'] == 'NGDPDPC') &\n",
        "    (eu_data['Year']>1982) &\n",
        "    (eu_data['Year']<2023)\n",
        "]\n",
        "\n",
        "eu_gdp_per_capita_nc = eu_data[\n",
        "    #(eu_data['Country'] == 'Spain') &\n",
        "    (eu_data['WEO Subject Code'] == 'NGDPDPC') &\n",
        "    (eu_data['Year']>1982) &\n",
        "     (eu_data['Year']<2023)\n",
        "]\n",
        "\n",
        "\n",
        "eu_gdp_per_capita_nc = eu_gdp_per_capita_nc[~eu_gdp_per_capita_nc['Value'].isna()]\n",
        "spain_gdp_per_capita_nc = spain_gdp_per_capita_nc[~eu_gdp_per_capita_nc['Value'].isna()]\n",
        "\n",
        "spain_gdp_per_capita_nc['Value']= pd.to_numeric(spain_gdp_per_capita_nc['Value'])\n",
        "eu_gdp_per_capita_nc['Value'] = pd.to_numeric(eu_gdp_per_capita_nc['Value'])\n",
        "\n",
        "# Define the governing periods for PP and PSOE\n",
        "governing_periods = [\n",
        "    (1982, 1996, 'PSOE', 'red'),\n",
        "    (1996, 2004, 'PP', 'blue'),\n",
        "    (2004, 2011, 'PSOE', 'red'),\n",
        "    (2011, 2018, 'PP', 'blue'),\n",
        "    (2018, 2021, 'PSOE', 'red'),\n",
        "]\n",
        "\n",
        "# Create a subplot for each unique year with increased vertical spacing\n",
        "fig = make_subplots(rows=2, cols=1, subplot_titles=(\"GDP per Capita Over Time in Spain\", \"Average GDP per Capita in Top 20 EU Countries\"),\n",
        "                    vertical_spacing=0.2)  # Increase the vertical spacing\n",
        "\n",
        "# Add a scatter trace for Spain's GDP per capita over time\n",
        "fig.add_trace(\n",
        "    go.Scatter(x=spain_gdp_per_capita_nc['Year'], y=spain_gdp_per_capita_nc['Value'], mode='lines', name='Spain', line=dict(color='black', width=1.5)),\n",
        "    row=1, col=1\n",
        ")\n",
        "\n",
        "# Add shading for governing periods\n",
        "for start, end, party, color in governing_periods:\n",
        "    fig.add_vrect(x0=start, x1=end, fillcolor=color, opacity=0.2, row=1, col=1)\n",
        "\n",
        "# Add legend items (PSOE and PP) to the first map\n",
        "fig.add_trace(\n",
        "    go.Scatter(x=[None], y=[None], mode='markers', marker=dict(color='red'), legendgroup='Governing Party', showlegend=True, name='PSOE'),\n",
        "    row=1, col=1\n",
        ")\n",
        "fig.add_trace(\n",
        "    go.Scatter(x=[None], y=[None], mode='markers', marker=dict(color='blue'), legendgroup='Governing Party', showlegend=True, name='PP'),\n",
        "    row=1, col=1\n",
        ")\n",
        "\n",
        "# Compute the average GDP per capita for each EU country for each year\n",
        "eu_average_gdp_per_capita = eu_gdp_per_capita_nc.groupby(['Country', 'Year'])['Value'].mean().reset_index()\n",
        "\n",
        "# Create a bar trace for the average GDP per capita in EU countries for each unique year\n",
        "for year in eu_average_gdp_per_capita['Year'].unique():\n",
        "    eu_average_gdp_per_capita_year = eu_average_gdp_per_capita[eu_average_gdp_per_capita['Year'] == year].sort_values('Value', ascending=False).head(20)\n",
        "    colors = ['orange' if country == 'Spain' else 'lightgray' for country in eu_average_gdp_per_capita_year['Country']]\n",
        "    fig.add_trace(\n",
        "        go.Bar(x=eu_average_gdp_per_capita_year['Country'], y=eu_average_gdp_per_capita_year['Value'], name='EU Countries', marker_color=colors, visible=False),\n",
        "        row=2, col=1\n",
        "    )\n",
        "\n",
        "# Define steps for the slider\n",
        "steps = []\n",
        "for i, year in enumerate(eu_average_gdp_per_capita['Year'].unique()):\n",
        "    step = dict(\n",
        "        method=\"update\",\n",
        "        args=[{\"visible\": [i == j for j in range(len(fig.data))]}],\n",
        "        label=str(year)\n",
        "    )\n",
        "    steps.append(step)\n",
        "\n",
        "# Add a slider to the layout\n",
        "sliders = [dict(\n",
        "    yanchor=\"bottom\",  # Anchor the slider to the bottom of the plot\n",
        "    y=-0.2,  # Adjust the y position of the slider (0.1 corresponds to moving it further down)\n",
        "    xanchor=\"left\",\n",
        "    x=0.0,\n",
        "    active=0,\n",
        "    currentvalue={\"prefix\": \"Year: \"},\n",
        "    steps=steps\n",
        ")]\n",
        "\n",
        "fig.update_layout(\n",
        "    sliders=sliders,\n",
        "    font=dict(\n",
        "        size=14,  # Increase global font size\n",
        "    ),\n",
        "    title=dict(\n",
        "        text=\"GDP per Capita in US $\",  # Set the main title for the whole chart\n",
        "        font=dict(\n",
        "            size=24,  # Increase the title font size\n",
        "            color=\"black\"  # Set the title color\n",
        "        )\n",
        "    ),\n",
        "    height=1000,  # Set the height of the plot\n",
        "    width=1000,  # Set the width of the plot\n",
        ")\n",
        "\n",
        "# Update x-axis and y-axis for both subplots\n",
        "for i in range(1, 3):\n",
        "    fig.update_xaxes(\n",
        "        tickangle=0 if i == 1 else 30,  # Rotate x-axis labels of the second plot\n",
        "        tickfont=dict(color='black' if i == 1 else 'black', size=12),  # Decrease x-axis tick font size for the second plot\n",
        "        row=i, col=1\n",
        "    )\n",
        "    fig.update_yaxes(\n",
        "        tickfont=dict(size=14),  # Increase y-axis tick font size\n",
        "        showticklabels=False if i == 2 else True,  # Hide y-axis tick labels for the second plot\n",
        "        row=i, col=1\n",
        "    )\n",
        "\n",
        "# Show the plot\n",
        "fig.show()\n"
      ],
      "metadata": {
        "colab": {
          "base_uri": "https://localhost:8080/",
          "height": 1000
        },
        "id": "7BkdDQIuVWeC",
        "outputId": "724ae386-8802-47c7-9824-e073cc169346"
      },
      "execution_count": 24,
      "outputs": [
        {
          "output_type": "display_data",
          "data": {
            "text/html": [
              "<html>\n",
              "<head><meta charset=\"utf-8\" /></head>\n",
              "<body>\n",
              "    <div>            <script src=\"https://cdnjs.cloudflare.com/ajax/libs/mathjax/2.7.5/MathJax.js?config=TeX-AMS-MML_SVG\"></script><script type=\"text/javascript\">if (window.MathJax && window.MathJax.Hub && window.MathJax.Hub.Config) {window.MathJax.Hub.Config({SVG: {font: \"STIX-Web\"}});}</script>                <script type=\"text/javascript\">window.PlotlyConfig = {MathJaxConfig: 'local'};</script>\n",
              "        <script src=\"https://cdn.plot.ly/plotly-2.18.2.min.js\"></script>                <div id=\"4ea741f7-742f-46d1-9cb9-54cc332238ca\" class=\"plotly-graph-div\" style=\"height:1000px; width:1000px;\"></div>            <script type=\"text/javascript\">                                    window.PLOTLYENV=window.PLOTLYENV || {};                                    if (document.getElementById(\"4ea741f7-742f-46d1-9cb9-54cc332238ca\")) {                    Plotly.newPlot(                        \"4ea741f7-742f-46d1-9cb9-54cc332238ca\",                        [{\"line\":{\"color\":\"black\",\"width\":1.5},\"mode\":\"lines\",\"name\":\"Spain\",\"x\":[1983,1984,1985,1986,1987,1988,1989,1990,1991,1992,1993,1994,1995,1996,1997,1998,1999,2000,2001,2002,2003,2004,2005,2006,2007,2008,2009,2010,2011,2012,2013,2014,2015,2016,2017,2018,2019,2020,2021,2022],\"y\":[4501.838,4471.654,4694.759,6477.301,8187.29,9598.667,10566.133,13693.638,14697.501,16013.155,13409.697,13419.62,15475.607,16095.75,14782.949,15457.11,15814.188,14761.108,15400.911,17097.916,21501.074,24932.129,26438.031,28414.133,32588.562,35484.39,32131.382,30566.877,31676.69,28344.913,29094.337,29537.627,25776.217,26549.363,28211.927,30438.338,29603.298,26943.767,30133.937,29420.615],\"type\":\"scatter\",\"xaxis\":\"x\",\"yaxis\":\"y\"},{\"legendgroup\":\"Governing Party\",\"marker\":{\"color\":\"red\"},\"mode\":\"markers\",\"name\":\"PSOE\",\"showlegend\":true,\"x\":[null],\"y\":[null],\"type\":\"scatter\",\"xaxis\":\"x\",\"yaxis\":\"y\"},{\"legendgroup\":\"Governing Party\",\"marker\":{\"color\":\"blue\"},\"mode\":\"markers\",\"name\":\"PP\",\"showlegend\":true,\"x\":[null],\"y\":[null],\"type\":\"scatter\",\"xaxis\":\"x\",\"yaxis\":\"y\"},{\"marker\":{\"color\":[\"lightgray\",\"lightgray\",\"lightgray\",\"lightgray\",\"lightgray\",\"lightgray\",\"lightgray\",\"lightgray\",\"lightgray\",\"lightgray\",\"lightgray\",\"lightgray\",\"orange\",\"lightgray\",\"lightgray\",\"lightgray\",\"lightgray\",\"lightgray\",\"lightgray\"]},\"name\":\"EU Countries\",\"visible\":false,\"x\":[\"Sweden\",\"Luxembourg\",\"Denmark\",\"Netherlands\",\"Finland\",\"France\",\"Austria\",\"Germany\",\"Belgium\",\"Italy\",\"Ireland\",\"Greece\",\"Spain\",\"Cyprus\",\"Bulgaria\",\"Portugal\",\"Romania\",\"Poland\",\"Hungary\"],\"y\":[12470.948,12234.721,11852.891,10682.307,10545.058,10292.761,9417.235,9025.206,8626.16,7878.146,5839.879,5008.015,4501.838,4399.223,4211.107,2838.655,2125.157,2056.958,2046.399],\"type\":\"bar\",\"xaxis\":\"x2\",\"yaxis\":\"y2\"},{\"marker\":{\"color\":[\"lightgray\",\"lightgray\",\"lightgray\",\"lightgray\",\"lightgray\",\"lightgray\",\"lightgray\",\"lightgray\",\"lightgray\",\"lightgray\",\"lightgray\",\"lightgray\",\"lightgray\",\"orange\",\"lightgray\",\"lightgray\",\"lightgray\",\"lightgray\",\"lightgray\"]},\"name\":\"EU Countries\",\"visible\":false,\"x\":[\"Sweden\",\"Luxembourg\",\"Denmark\",\"Finland\",\"Netherlands\",\"France\",\"Austria\",\"Germany\",\"Belgium\",\"Italy\",\"Ireland\",\"Greece\",\"Cyprus\",\"Spain\",\"Bulgaria\",\"Portugal\",\"Poland\",\"Hungary\",\"Romania\"],\"y\":[12976.142,11984.326,11561.767,10889.934,9904.974,9697.432,8882.629,8537.765,8244.846,7783.391,5591.855,4854.243,4575.652,4471.654,4465.379,2596.075,2042.04,1989.904,1710.302],\"type\":\"bar\",\"xaxis\":\"x2\",\"yaxis\":\"y2\"},{\"marker\":{\"color\":[\"lightgray\",\"lightgray\",\"lightgray\",\"lightgray\",\"lightgray\",\"lightgray\",\"lightgray\",\"lightgray\",\"lightgray\",\"lightgray\",\"lightgray\",\"lightgray\",\"lightgray\",\"orange\",\"lightgray\",\"lightgray\",\"lightgray\",\"lightgray\",\"lightgray\"]},\"name\":\"EU Countries\",\"visible\":false,\"x\":[\"Sweden\",\"Luxembourg\",\"Denmark\",\"Finland\",\"France\",\"Netherlands\",\"Austria\",\"Germany\",\"Belgium\",\"Italy\",\"Ireland\",\"Cyprus\",\"Greece\",\"Spain\",\"Bulgaria\",\"Portugal\",\"Romania\",\"Hungary\",\"Poland\"],\"y\":[13549.507,12393.837,12259.279,11488.754,10108.561,10008.042,9090.795,8678.853,8568.653,8034.389,5934.596,4824.674,4791.75,4694.759,3820.536,2716.645,2101.997,2022.961,1899.817],\"type\":\"bar\",\"xaxis\":\"x2\",\"yaxis\":\"y2\"},{\"marker\":{\"color\":[\"lightgray\",\"lightgray\",\"lightgray\",\"lightgray\",\"lightgray\",\"lightgray\",\"lightgray\",\"lightgray\",\"lightgray\",\"lightgray\",\"lightgray\",\"orange\",\"lightgray\",\"lightgray\",\"lightgray\",\"lightgray\",\"lightgray\",\"lightgray\",\"lightgray\"]},\"name\":\"EU Countries\",\"visible\":false,\"x\":[\"Luxembourg\",\"Sweden\",\"Denmark\",\"Finland\",\"France\",\"Netherlands\",\"Austria\",\"Germany\",\"Belgium\",\"Italy\",\"Ireland\",\"Spain\",\"Cyprus\",\"Greece\",\"Portugal\",\"Bulgaria\",\"Hungary\",\"Romania\",\"Poland\"],\"y\":[17950.08,17852.72,17215.426,14998.341,13947.316,13875.191,12886.095,12387.01,11873.806,11377.32,7993.214,6477.301,6057.903,5623.163,3774.582,3382.438,2338.799,2264.368,1965.541],\"type\":\"bar\",\"xaxis\":\"x2\",\"yaxis\":\"y2\"},{\"marker\":{\"color\":[\"lightgray\",\"lightgray\",\"lightgray\",\"lightgray\",\"lightgray\",\"lightgray\",\"lightgray\",\"lightgray\",\"lightgray\",\"lightgray\",\"lightgray\",\"orange\",\"lightgray\",\"lightgray\",\"lightgray\",\"lightgray\",\"lightgray\",\"lightgray\",\"lightgray\"]},\"name\":\"EU Countries\",\"visible\":false,\"x\":[\"Luxembourg\",\"Sweden\",\"Denmark\",\"Finland\",\"Netherlands\",\"France\",\"Austria\",\"Germany\",\"Belgium\",\"Italy\",\"Ireland\",\"Spain\",\"Cyprus\",\"Greece\",\"Portugal\",\"Bulgaria\",\"Hungary\",\"Romania\",\"Poland\"],\"y\":[22149.615,21629.289,21349.948,18632.076,16895.4,16793.955,16093.014,15411.529,14740.456,14280.593,9419.582,8187.29,7188.216,6522.421,4724.451,3926.053,2582.848,2517.949,1691.129],\"type\":\"bar\",\"xaxis\":\"x2\",\"yaxis\":\"y2\"},{\"marker\":{\"color\":[\"lightgray\",\"lightgray\",\"lightgray\",\"lightgray\",\"lightgray\",\"lightgray\",\"lightgray\",\"lightgray\",\"lightgray\",\"lightgray\",\"lightgray\",\"orange\",\"lightgray\",\"lightgray\",\"lightgray\",\"lightgray\",\"lightgray\",\"lightgray\",\"lightgray\"]},\"name\":\"EU Countries\",\"visible\":false,\"x\":[\"Luxembourg\",\"Sweden\",\"Denmark\",\"Finland\",\"France\",\"Netherlands\",\"Austria\",\"Germany\",\"Belgium\",\"Italy\",\"Ireland\",\"Spain\",\"Cyprus\",\"Greece\",\"Bulgaria\",\"Portugal\",\"Hungary\",\"Romania\",\"Poland\"],\"y\":[24875.596,24339.27,22528.114,22122.56,18240.997,17956.109,17632.815,16514.654,16008.638,15817.576,10365.367,9598.667,8204.3,7568.289,6433.109,5532.62,2838.561,2593.057,1819.392],\"type\":\"bar\",\"xaxis\":\"x2\",\"yaxis\":\"y2\"},{\"marker\":{\"color\":[\"lightgray\",\"lightgray\",\"lightgray\",\"lightgray\",\"lightgray\",\"lightgray\",\"lightgray\",\"lightgray\",\"lightgray\",\"lightgray\",\"lightgray\",\"orange\",\"lightgray\",\"lightgray\",\"lightgray\",\"lightgray\",\"lightgray\",\"lightgray\",\"lightgray\"]},\"name\":\"EU Countries\",\"visible\":false,\"x\":[\"Luxembourg\",\"Sweden\",\"Finland\",\"Denmark\",\"France\",\"Netherlands\",\"Austria\",\"Italy\",\"Germany\",\"Belgium\",\"Ireland\",\"Spain\",\"Cyprus\",\"Greece\",\"Bulgaria\",\"Portugal\",\"Hungary\",\"Romania\",\"Poland\"],\"y\":[26227.017,25412.176,24040.639,21913.155,18236.767,17597.26,17547.811,16439.473,16232.121,16098.158,10754.702,10566.133,8635.765,7812.784,6580.664,5977.577,2909.703,2314.744,1772.091],\"type\":\"bar\",\"xaxis\":\"x2\",\"yaxis\":\"y2\"},{\"marker\":{\"color\":[\"lightgray\",\"lightgray\",\"lightgray\",\"lightgray\",\"lightgray\",\"lightgray\",\"lightgray\",\"lightgray\",\"lightgray\",\"lightgray\",\"orange\",\"lightgray\",\"lightgray\",\"lightgray\",\"lightgray\",\"lightgray\",\"lightgray\",\"lightgray\",\"lightgray\"]},\"name\":\"EU Countries\",\"visible\":false,\"x\":[\"Luxembourg\",\"Sweden\",\"Finland\",\"Denmark\",\"France\",\"Austria\",\"Netherlands\",\"Italy\",\"Germany\",\"Belgium\",\"Spain\",\"Ireland\",\"Cyprus\",\"Greece\",\"Portugal\",\"Hungary\",\"Bulgaria\",\"Romania\",\"Poland\"],\"y\":[33067.032,30253.863,28489.569,26920.581,22490.289,21827.44,21581.579,20500.667,20249.138,20119.935,13693.638,13644.9,10359.998,9597.714,7957.244,3312.337,2919.823,1641.855,1629.047],\"type\":\"bar\",\"xaxis\":\"x2\",\"yaxis\":\"y2\"},{\"marker\":{\"color\":[\"lightgray\",\"lightgray\",\"lightgray\",\"lightgray\",\"lightgray\",\"lightgray\",\"lightgray\",\"lightgray\",\"lightgray\",\"lightgray\",\"orange\",\"lightgray\",\"lightgray\",\"lightgray\",\"lightgray\",\"lightgray\",\"lightgray\",\"lightgray\",\"lightgray\"]},\"name\":\"EU Countries\",\"visible\":false,\"x\":[\"Luxembourg\",\"Sweden\",\"Denmark\",\"Finland\",\"Germany\",\"Austria\",\"France\",\"Netherlands\",\"Italy\",\"Belgium\",\"Spain\",\"Ireland\",\"Cyprus\",\"Greece\",\"Portugal\",\"Hungary\",\"Poland\",\"Romania\",\"Bulgaria\"],\"y\":[35346.644,31490.221,27052.653,25646.579,23453.063,22621.881,22406.387,22057.794,21636.193,20563.729,14697.501,13748.307,10413.726,10196.17,9026.301,3350.243,2105.486,1241.063,288.506],\"type\":\"bar\",\"xaxis\":\"x2\",\"yaxis\":\"y2\"},{\"marker\":{\"color\":[\"lightgray\",\"lightgray\",\"lightgray\",\"lightgray\",\"lightgray\",\"lightgray\",\"lightgray\",\"lightgray\",\"lightgray\",\"lightgray\",\"orange\",\"lightgray\",\"lightgray\",\"lightgray\",\"lightgray\",\"lightgray\",\"lightgray\",\"lightgray\",\"lightgray\",\"lightgray\"]},\"name\":\"EU Countries\",\"visible\":false,\"x\":[\"Luxembourg\",\"Sweden\",\"Denmark\",\"Germany\",\"Austria\",\"France\",\"Netherlands\",\"Italy\",\"Belgium\",\"Finland\",\"Spain\",\"Ireland\",\"Cyprus\",\"Greece\",\"Portugal\",\"Slovenia\",\"Hungary\",\"Poland\",\"Bulgaria\",\"Romania\"],\"y\":[39061.19,32584.883,29622.474,26538.043,25068.398,24590.746,24191.955,22947.484,22823.029,22496.237,16013.155,15332.017,12158.597,11139.445,10863.487,9639.353,3733.447,2315.647,1183.155,847.68],\"type\":\"bar\",\"xaxis\":\"x2\",\"yaxis\":\"y2\"},{\"marker\":{\"color\":[\"lightgray\",\"lightgray\",\"lightgray\",\"lightgray\",\"lightgray\",\"lightgray\",\"lightgray\",\"lightgray\",\"lightgray\",\"lightgray\",\"lightgray\",\"orange\",\"lightgray\",\"lightgray\",\"lightgray\",\"lightgray\",\"lightgray\",\"lightgray\",\"lightgray\",\"lightgray\"]},\"name\":\"EU Countries\",\"visible\":false,\"x\":[\"Luxembourg\",\"Denmark\",\"Germany\",\"Sweden\",\"Austria\",\"Netherlands\",\"France\",\"Belgium\",\"Italy\",\"Finland\",\"Ireland\",\"Spain\",\"Cyprus\",\"Greece\",\"Portugal\",\"Slovenia\",\"Hungary\",\"Slovak Republic\",\"Poland\",\"Croatia\"],\"y\":[39483.229,27640.496,25602.961,24351.052,24152.659,23356.332,23082.715,21723.624,18437.044,17661.586,14262.912,13409.697,11342.407,10363.63,9547.643,8357.938,3871.071,2571.845,2351.742,1590.721],\"type\":\"bar\",\"xaxis\":\"x2\",\"yaxis\":\"y2\"},{\"marker\":{\"color\":[\"lightgray\",\"lightgray\",\"lightgray\",\"lightgray\",\"lightgray\",\"lightgray\",\"lightgray\",\"lightgray\",\"lightgray\",\"lightgray\",\"lightgray\",\"orange\",\"lightgray\",\"lightgray\",\"lightgray\",\"lightgray\",\"lightgray\",\"lightgray\",\"lightgray\",\"lightgray\"]},\"name\":\"EU Countries\",\"visible\":false,\"x\":[\"Luxembourg\",\"Denmark\",\"Germany\",\"Sweden\",\"Austria\",\"Netherlands\",\"France\",\"Belgium\",\"Finland\",\"Italy\",\"Ireland\",\"Spain\",\"Cyprus\",\"Greece\",\"Portugal\",\"Slovenia\",\"Hungary\",\"Croatia\",\"Slovak Republic\",\"Poland\"],\"y\":[43307.076,30050.878,27233.549,25978.285,25725.557,24935.531,24262.184,23624.467,20429.387,19009.467,15455.478,13419.62,12525.318,11029.098,9977.615,8468.242,4170.572,3683.337,2950.857,2692.704],\"type\":\"bar\",\"xaxis\":\"x2\",\"yaxis\":\"y2\"},{\"marker\":{\"color\":[\"lightgray\",\"lightgray\",\"lightgray\",\"lightgray\",\"lightgray\",\"lightgray\",\"lightgray\",\"lightgray\",\"lightgray\",\"lightgray\",\"lightgray\",\"orange\",\"lightgray\",\"lightgray\",\"lightgray\",\"lightgray\",\"lightgray\",\"lightgray\",\"lightgray\",\"lightgray\"]},\"name\":\"EU Countries\",\"visible\":false,\"x\":[\"Luxembourg\",\"Denmark\",\"Germany\",\"Austria\",\"Sweden\",\"Netherlands\",\"Belgium\",\"France\",\"Finland\",\"Italy\",\"Ireland\",\"Spain\",\"Cyprus\",\"Greece\",\"Portugal\",\"Slovenia\",\"Malta\",\"Czech Republic\",\"Croatia\",\"Hungary\"],\"y\":[50705.305,35471.255,31829.61,30350.529,30246.923,29350.802,28458.469,27741.294,26347.514,20675.341,19086.951,15475.607,15396.919,12887.889,11787.315,10748.462,8978.862,5820.043,4637.896,4491.216],\"type\":\"bar\",\"xaxis\":\"x2\",\"yaxis\":\"y2\"},{\"marker\":{\"color\":[\"lightgray\",\"lightgray\",\"lightgray\",\"lightgray\",\"lightgray\",\"lightgray\",\"lightgray\",\"lightgray\",\"lightgray\",\"lightgray\",\"lightgray\",\"orange\",\"lightgray\",\"lightgray\",\"lightgray\",\"lightgray\",\"lightgray\",\"lightgray\",\"lightgray\",\"lightgray\"]},\"name\":\"EU Countries\",\"visible\":false,\"x\":[\"Luxembourg\",\"Denmark\",\"Sweden\",\"Germany\",\"Austria\",\"Netherlands\",\"France\",\"Belgium\",\"Finland\",\"Italy\",\"Ireland\",\"Spain\",\"Cyprus\",\"Greece\",\"Portugal\",\"Slovenia\",\"Malta\",\"Czech Republic\",\"Croatia\",\"Hungary\"],\"y\":[49719.082,35732.689,32986.123,30664.299,29820.596,29084.068,27720.861,27535.287,25833.03,23094.404,20781.559,16095.75,15260.745,13660.507,12187.582,10810.791,9107.638,6529.042,4917.393,4520.761],\"type\":\"bar\",\"xaxis\":\"x2\",\"yaxis\":\"y2\"},{\"marker\":{\"color\":[\"lightgray\",\"lightgray\",\"lightgray\",\"lightgray\",\"lightgray\",\"lightgray\",\"lightgray\",\"lightgray\",\"lightgray\",\"lightgray\",\"lightgray\",\"orange\",\"lightgray\",\"lightgray\",\"lightgray\",\"lightgray\",\"lightgray\",\"lightgray\",\"lightgray\",\"lightgray\"]},\"name\":\"EU Countries\",\"visible\":false,\"x\":[\"Luxembourg\",\"Denmark\",\"Sweden\",\"Germany\",\"Netherlands\",\"Austria\",\"France\",\"Belgium\",\"Finland\",\"Ireland\",\"Italy\",\"Spain\",\"Cyprus\",\"Greece\",\"Portugal\",\"Slovenia\",\"Malta\",\"Czech Republic\",\"Croatia\",\"Hungary\"],\"y\":[44202.752,32897.57,30307.156,27170.747,26808.388,26737.482,25028.466,24878.749,24759.979,22468.791,21858.43,14782.949,14324.09,13370.349,11594.755,10470.497,9147.98,6030.633,4832.846,4591.492],\"type\":\"bar\",\"xaxis\":\"x2\",\"yaxis\":\"y2\"},{\"marker\":{\"color\":[\"lightgray\",\"lightgray\",\"lightgray\",\"lightgray\",\"lightgray\",\"lightgray\",\"lightgray\",\"lightgray\",\"lightgray\",\"lightgray\",\"lightgray\",\"orange\",\"lightgray\",\"lightgray\",\"lightgray\",\"lightgray\",\"lightgray\",\"lightgray\",\"lightgray\",\"lightgray\"]},\"name\":\"EU Countries\",\"visible\":false,\"x\":[\"Luxembourg\",\"Denmark\",\"Sweden\",\"Netherlands\",\"Germany\",\"Austria\",\"Finland\",\"France\",\"Belgium\",\"Ireland\",\"Italy\",\"Spain\",\"Cyprus\",\"Greece\",\"Portugal\",\"Slovenia\",\"Malta\",\"Czech Republic\",\"Croatia\",\"Hungary\"],\"y\":[45636.752,33426.974,30585.081,28018.706,27528.158,27399.085,26074.066,25818.37,25399.222,24202.696,22348.031,15457.11,15181.635,13412.55,12216.689,11168.219,9621.951,6484.201,5324.47,4738.016],\"type\":\"bar\",\"xaxis\":\"x2\",\"yaxis\":\"y2\"},{\"marker\":{\"color\":[\"lightgray\",\"lightgray\",\"lightgray\",\"lightgray\",\"lightgray\",\"lightgray\",\"lightgray\",\"lightgray\",\"lightgray\",\"lightgray\",\"lightgray\",\"orange\",\"lightgray\",\"lightgray\",\"lightgray\",\"lightgray\",\"lightgray\",\"lightgray\",\"lightgray\",\"lightgray\"]},\"name\":\"EU Countries\",\"visible\":false,\"x\":[\"Luxembourg\",\"Denmark\",\"Sweden\",\"Netherlands\",\"Austria\",\"Germany\",\"Finland\",\"Ireland\",\"France\",\"Belgium\",\"Italy\",\"Spain\",\"Cyprus\",\"Greece\",\"Portugal\",\"Slovenia\",\"Malta\",\"Czech Republic\",\"Croatia\",\"Hungary\"],\"y\":[49341.44,33492.354,30928.571,28393.845,27210.471,26984.243,26241.797,26233.782,25550.782,25309.057,22029.683,15814.188,15379.994,13784.361,12487.712,11509.456,9983.877,6333.862,5179.459,4786.245],\"type\":\"bar\",\"xaxis\":\"x2\",\"yaxis\":\"y2\"},{\"marker\":{\"color\":[\"lightgray\",\"lightgray\",\"lightgray\",\"lightgray\",\"lightgray\",\"lightgray\",\"lightgray\",\"lightgray\",\"lightgray\",\"lightgray\",\"lightgray\",\"orange\",\"lightgray\",\"lightgray\",\"lightgray\",\"lightgray\",\"lightgray\",\"lightgray\",\"lightgray\",\"lightgray\"]},\"name\":\"EU Countries\",\"visible\":false,\"x\":[\"Luxembourg\",\"Denmark\",\"Sweden\",\"Netherlands\",\"Ireland\",\"Austria\",\"Finland\",\"Germany\",\"France\",\"Belgium\",\"Italy\",\"Spain\",\"Cyprus\",\"Greece\",\"Portugal\",\"Malta\",\"Slovenia\",\"Czech Republic\",\"Croatia\",\"Hungary\"],\"y\":[48984.386,30798.717,29589.141,26327.855,26186.332,24636.471,24379.783,23924.876,23212.45,23136.511,20153.051,14761.108,14464.952,12164.719,11531.467,10482.0,10259.439,6015.067,5053.534,4619.293],\"type\":\"bar\",\"xaxis\":\"x2\",\"yaxis\":\"y2\"},{\"marker\":{\"color\":[\"lightgray\",\"lightgray\",\"lightgray\",\"lightgray\",\"lightgray\",\"lightgray\",\"lightgray\",\"lightgray\",\"lightgray\",\"lightgray\",\"lightgray\",\"orange\",\"lightgray\",\"lightgray\",\"lightgray\",\"lightgray\",\"lightgray\",\"lightgray\",\"lightgray\",\"lightgray\"]},\"name\":\"EU Countries\",\"visible\":false,\"x\":[\"Luxembourg\",\"Denmark\",\"Ireland\",\"Sweden\",\"Netherlands\",\"Finland\",\"Austria\",\"Germany\",\"France\",\"Belgium\",\"Italy\",\"Spain\",\"Cyprus\",\"Greece\",\"Portugal\",\"Slovenia\",\"Malta\",\"Czech Republic\",\"Croatia\",\"Hungary\"],\"y\":[48719.314,30806.607,28120.172,27207.49,26996.17,25001.18,24558.922,23869.773,23245.258,23067.163,20505.923,15400.911,14905.024,12473.285,11734.878,10502.321,10447.791,6627.103,5363.191,5269.607],\"type\":\"bar\",\"xaxis\":\"x2\",\"yaxis\":\"y2\"},{\"marker\":{\"color\":[\"lightgray\",\"lightgray\",\"lightgray\",\"lightgray\",\"lightgray\",\"lightgray\",\"lightgray\",\"lightgray\",\"lightgray\",\"lightgray\",\"lightgray\",\"orange\",\"lightgray\",\"lightgray\",\"lightgray\",\"lightgray\",\"lightgray\",\"lightgray\",\"lightgray\",\"lightgray\"]},\"name\":\"EU Countries\",\"visible\":false,\"x\":[\"Luxembourg\",\"Denmark\",\"Ireland\",\"Sweden\",\"Netherlands\",\"Finland\",\"Austria\",\"Germany\",\"France\",\"Belgium\",\"Italy\",\"Spain\",\"Cyprus\",\"Greece\",\"Portugal\",\"Slovenia\",\"Malta\",\"Czech Republic\",\"Hungary\",\"Croatia\"],\"y\":[53227.552,33275.556,32482.077,29846.186,29401.972,27008.262,26508.32,25460.334,25137.402,25044.331,22386.279,17097.916,16188.394,14065.791,12927.584,11804.818,11346.456,8056.318,6644.61,6216.126],\"type\":\"bar\",\"xaxis\":\"x2\",\"yaxis\":\"y2\"},{\"marker\":{\"color\":[\"lightgray\",\"lightgray\",\"lightgray\",\"lightgray\",\"lightgray\",\"lightgray\",\"lightgray\",\"lightgray\",\"lightgray\",\"lightgray\",\"lightgray\",\"orange\",\"lightgray\",\"lightgray\",\"lightgray\",\"lightgray\",\"lightgray\",\"lightgray\",\"lightgray\",\"lightgray\"]},\"name\":\"EU Countries\",\"visible\":false,\"x\":[\"Luxembourg\",\"Ireland\",\"Denmark\",\"Sweden\",\"Netherlands\",\"Finland\",\"Austria\",\"Belgium\",\"France\",\"Germany\",\"Italy\",\"Spain\",\"Cyprus\",\"Greece\",\"Portugal\",\"Slovenia\",\"Malta\",\"Czech Republic\",\"Hungary\",\"Croatia\"],\"y\":[66160.728,40940.136,40512.045,37249.257,35814.268,32961.92,32298.607,30707.665,30682.636,30668.849,27580.477,21501.074,20389.337,18378.281,15793.852,14873.628,13730.313,9823.287,8409.098,8191.304],\"type\":\"bar\",\"xaxis\":\"x2\",\"yaxis\":\"y2\"},{\"marker\":{\"color\":[\"lightgray\",\"lightgray\",\"lightgray\",\"lightgray\",\"lightgray\",\"lightgray\",\"lightgray\",\"lightgray\",\"lightgray\",\"lightgray\",\"lightgray\",\"orange\",\"lightgray\",\"lightgray\",\"lightgray\",\"lightgray\",\"lightgray\",\"lightgray\",\"lightgray\",\"lightgray\"]},\"name\":\"EU Countries\",\"visible\":false,\"x\":[\"Luxembourg\",\"Ireland\",\"Denmark\",\"Sweden\",\"Netherlands\",\"Finland\",\"Austria\",\"Belgium\",\"France\",\"Germany\",\"Italy\",\"Spain\",\"Cyprus\",\"Greece\",\"Portugal\",\"Slovenia\",\"Malta\",\"Czech Republic\",\"Hungary\",\"Croatia\"],\"y\":[77030.646,47389.262,46571.283,42736.876,40477.3,37816.081,36883.892,35497.552,35016.219,34534.814,31342.833,24932.129,23969.991,21829.501,18055.893,17254.827,15260.887,11751.897,10291.667,9718.251],\"type\":\"bar\",\"xaxis\":\"x2\",\"yaxis\":\"y2\"},{\"marker\":{\"color\":[\"lightgray\",\"lightgray\",\"lightgray\",\"lightgray\",\"lightgray\",\"lightgray\",\"lightgray\",\"lightgray\",\"lightgray\",\"lightgray\",\"lightgray\",\"orange\",\"lightgray\",\"lightgray\",\"lightgray\",\"lightgray\",\"lightgray\",\"lightgray\",\"lightgray\",\"lightgray\"]},\"name\":\"EU Countries\",\"visible\":false,\"x\":[\"Luxembourg\",\"Ireland\",\"Denmark\",\"Sweden\",\"Netherlands\",\"Finland\",\"Austria\",\"Belgium\",\"France\",\"Germany\",\"Italy\",\"Spain\",\"Cyprus\",\"Greece\",\"Portugal\",\"Slovenia\",\"Malta\",\"Czech Republic\",\"Hungary\",\"Croatia\"],\"y\":[81728.362,50476.482,48872.095,43349.851,42054.884,39147.216,38450.609,36945.499,36057.117,35020.197,32031.426,26438.031,25527.08,22417.643,18790.561,18152.062,15930.142,13446.938,11211.246,10453.246],\"type\":\"bar\",\"xaxis\":\"x2\",\"yaxis\":\"y2\"},{\"marker\":{\"color\":[\"lightgray\",\"lightgray\",\"lightgray\",\"lightgray\",\"lightgray\",\"lightgray\",\"lightgray\",\"lightgray\",\"lightgray\",\"lightgray\",\"lightgray\",\"orange\",\"lightgray\",\"lightgray\",\"lightgray\",\"lightgray\",\"lightgray\",\"lightgray\",\"lightgray\",\"lightgray\"]},\"name\":\"EU Countries\",\"visible\":false,\"x\":[\"Luxembourg\",\"Ireland\",\"Denmark\",\"Sweden\",\"Netherlands\",\"Finland\",\"Austria\",\"Belgium\",\"France\",\"Germany\",\"Italy\",\"Spain\",\"Cyprus\",\"Greece\",\"Portugal\",\"Slovenia\",\"Malta\",\"Czech Republic\",\"Estonia\",\"Croatia\"],\"y\":[91478.072,53738.836,52121.249,46425.841,44936.006,41308.623,40674.883,38841.785,37795.916,36894.468,33448.106,28414.133,27448.397,24648.873,19840.474,19723.859,16818.012,15284.674,12657.064,11490.022],\"type\":\"bar\",\"xaxis\":\"x2\",\"yaxis\":\"y2\"},{\"marker\":{\"color\":[\"lightgray\",\"lightgray\",\"lightgray\",\"lightgray\",\"lightgray\",\"lightgray\",\"lightgray\",\"lightgray\",\"lightgray\",\"lightgray\",\"lightgray\",\"orange\",\"lightgray\",\"lightgray\",\"lightgray\",\"lightgray\",\"lightgray\",\"lightgray\",\"lightgray\",\"lightgray\"]},\"name\":\"EU Countries\",\"visible\":false,\"x\":[\"Luxembourg\",\"Ireland\",\"Denmark\",\"Sweden\",\"Netherlands\",\"Finland\",\"Austria\",\"Belgium\",\"France\",\"Germany\",\"Italy\",\"Spain\",\"Cyprus\",\"Greece\",\"Slovenia\",\"Portugal\",\"Malta\",\"Czech Republic\",\"Estonia\",\"Slovak Republic\"],\"y\":[108344.425,60770.189,58641.193,53496.534,51880.384,48590.198,46922.558,44496.791,43060.031,42299.862,37828.34,32588.562,31774.426,28656.233,23912.494,22813.667,19696.182,18527.743,16764.936,14374.867],\"type\":\"bar\",\"xaxis\":\"x2\",\"yaxis\":\"y2\"},{\"marker\":{\"color\":[\"lightgray\",\"lightgray\",\"lightgray\",\"lightgray\",\"lightgray\",\"lightgray\",\"lightgray\",\"lightgray\",\"lightgray\",\"lightgray\",\"lightgray\",\"lightgray\",\"orange\",\"lightgray\",\"lightgray\",\"lightgray\",\"lightgray\",\"lightgray\",\"lightgray\",\"lightgray\"]},\"name\":\"EU Countries\",\"visible\":false,\"x\":[\"Luxembourg\",\"Denmark\",\"Ireland\",\"Netherlands\",\"Sweden\",\"Finland\",\"Austria\",\"Belgium\",\"France\",\"Germany\",\"Italy\",\"Cyprus\",\"Spain\",\"Greece\",\"Slovenia\",\"Portugal\",\"Czech Republic\",\"Malta\",\"Estonia\",\"Slovak Republic\"],\"y\":[121616.145,64531.119,60989.977,58015.396,55929.862,53897.91,51914.013,48493.137,47155.211,46367.859,40818.985,36009.56,35484.39,31902.014,27744.28,24946.256,22925.748,22378.184,18273.297,18074.617],\"type\":\"bar\",\"xaxis\":\"x2\",\"yaxis\":\"y2\"},{\"marker\":{\"color\":[\"lightgray\",\"lightgray\",\"lightgray\",\"lightgray\",\"lightgray\",\"lightgray\",\"lightgray\",\"lightgray\",\"lightgray\",\"lightgray\",\"lightgray\",\"lightgray\",\"orange\",\"lightgray\",\"lightgray\",\"lightgray\",\"lightgray\",\"lightgray\",\"lightgray\",\"lightgray\"]},\"name\":\"EU Countries\",\"visible\":false,\"x\":[\"Luxembourg\",\"Denmark\",\"Netherlands\",\"Ireland\",\"Austria\",\"Finland\",\"Sweden\",\"Belgium\",\"France\",\"Germany\",\"Italy\",\"Cyprus\",\"Spain\",\"Greece\",\"Slovenia\",\"Portugal\",\"Malta\",\"Czech Republic\",\"Slovak Republic\",\"Estonia\"],\"y\":[110249.419,58286.537,52807.447,51943.467,48111.662,47541.746,46734.909,44892.228,43190.972,42338.713,36982.806,32650.265,32131.382,29577.642,24854.16,23126.175,21223.678,19908.146,16591.518,14756.39],\"type\":\"bar\",\"xaxis\":\"x2\",\"yaxis\":\"y2\"},{\"marker\":{\"color\":[\"lightgray\",\"lightgray\",\"lightgray\",\"lightgray\",\"lightgray\",\"lightgray\",\"lightgray\",\"lightgray\",\"lightgray\",\"lightgray\",\"lightgray\",\"lightgray\",\"orange\",\"lightgray\",\"lightgray\",\"lightgray\",\"lightgray\",\"lightgray\",\"lightgray\",\"lightgray\"]},\"name\":\"EU Countries\",\"visible\":false,\"x\":[\"Luxembourg\",\"Denmark\",\"Sweden\",\"Netherlands\",\"Ireland\",\"Austria\",\"Finland\",\"Belgium\",\"Germany\",\"France\",\"Italy\",\"Cyprus\",\"Spain\",\"Greece\",\"Slovenia\",\"Portugal\",\"Malta\",\"Czech Republic\",\"Slovak Republic\",\"Estonia\"],\"y\":[112049.15,58177.162,52658.794,51165.823,48620.625,46955.173,46647.002,44448.17,42379.71,42178.577,35815.615,31522.217,30566.877,26743.4,23570.184,22539.038,21842.065,19983.577,16925.842,14696.814],\"type\":\"bar\",\"xaxis\":\"x2\",\"yaxis\":\"y2\"},{\"marker\":{\"color\":[\"lightgray\",\"lightgray\",\"lightgray\",\"lightgray\",\"lightgray\",\"lightgray\",\"lightgray\",\"lightgray\",\"lightgray\",\"lightgray\",\"lightgray\",\"lightgray\",\"orange\",\"lightgray\",\"lightgray\",\"lightgray\",\"lightgray\",\"lightgray\",\"lightgray\",\"lightgray\"]},\"name\":\"EU Countries\",\"visible\":false,\"x\":[\"Luxembourg\",\"Denmark\",\"Sweden\",\"Netherlands\",\"Ireland\",\"Austria\",\"Finland\",\"Belgium\",\"Germany\",\"France\",\"Italy\",\"Cyprus\",\"Spain\",\"Greece\",\"Slovenia\",\"Malta\",\"Portugal\",\"Czech Republic\",\"Slovak Republic\",\"Estonia\"],\"y\":[120526.79,61864.093,60540.218,54342.114,52122.087,51452.276,51263.574,47564.381,46697.376,45419.973,38276.034,32910.616,31676.69,25437.01,25156.069,23222.385,23213.126,21890.781,18526.876,17484.728],\"type\":\"bar\",\"xaxis\":\"x2\",\"yaxis\":\"y2\"},{\"marker\":{\"color\":[\"lightgray\",\"lightgray\",\"lightgray\",\"lightgray\",\"lightgray\",\"lightgray\",\"lightgray\",\"lightgray\",\"lightgray\",\"lightgray\",\"lightgray\",\"lightgray\",\"orange\",\"lightgray\",\"lightgray\",\"lightgray\",\"lightgray\",\"lightgray\",\"lightgray\",\"lightgray\"]},\"name\":\"EU Countries\",\"visible\":false,\"x\":[\"Luxembourg\",\"Denmark\",\"Sweden\",\"Netherlands\",\"Ireland\",\"Austria\",\"Finland\",\"Belgium\",\"Germany\",\"France\",\"Italy\",\"Cyprus\",\"Spain\",\"Malta\",\"Slovenia\",\"Greece\",\"Portugal\",\"Czech Republic\",\"Slovak Republic\",\"Estonia\"],\"y\":[113953.492,58623.414,57816.023,50175.559,49029.287,48616.903,47850.555,44824.163,43883.393,42372.071,34743.751,29075.12,28344.913,22674.787,22674.365,21845.045,20576.825,19880.902,17519.997,17414.24],\"type\":\"bar\",\"xaxis\":\"x2\",\"yaxis\":\"y2\"},{\"marker\":{\"color\":[\"lightgray\",\"lightgray\",\"lightgray\",\"lightgray\",\"lightgray\",\"lightgray\",\"lightgray\",\"lightgray\",\"lightgray\",\"lightgray\",\"lightgray\",\"orange\",\"lightgray\",\"lightgray\",\"lightgray\",\"lightgray\",\"lightgray\",\"lightgray\",\"lightgray\",\"lightgray\"]},\"name\":\"EU Countries\",\"visible\":false,\"x\":[\"Luxembourg\",\"Denmark\",\"Sweden\",\"Netherlands\",\"Ireland\",\"Austria\",\"Finland\",\"Belgium\",\"Germany\",\"France\",\"Italy\",\"Spain\",\"Cyprus\",\"Malta\",\"Slovenia\",\"Greece\",\"Portugal\",\"Czech Republic\",\"Estonia\",\"Slovak Republic\"],\"y\":[121423.416,61325.575,60845.007,52276.986,51472.197,50747.384,50006.019,46848.612,46299.371,44144.617,35534.99,29094.337,27671.485,24972.679,23516.591,21712.016,21653.505,20129.622,19056.283,18284.914],\"type\":\"bar\",\"xaxis\":\"x2\",\"yaxis\":\"y2\"},{\"marker\":{\"color\":[\"lightgray\",\"lightgray\",\"lightgray\",\"lightgray\",\"lightgray\",\"lightgray\",\"lightgray\",\"lightgray\",\"lightgray\",\"lightgray\",\"lightgray\",\"orange\",\"lightgray\",\"lightgray\",\"lightgray\",\"lightgray\",\"lightgray\",\"lightgray\",\"lightgray\",\"lightgray\"]},\"name\":\"EU Countries\",\"visible\":false,\"x\":[\"Luxembourg\",\"Denmark\",\"Sweden\",\"Ireland\",\"Netherlands\",\"Austria\",\"Finland\",\"Germany\",\"Belgium\",\"France\",\"Italy\",\"Spain\",\"Malta\",\"Cyprus\",\"Slovenia\",\"Portugal\",\"Greece\",\"Estonia\",\"Czech Republic\",\"Slovak Republic\"],\"y\":[125200.137,62729.499,59704.814,55542.018,53026.478,51814.424,50434.791,48035.802,47897.037,44616.455,35836.183,29537.627,27080.097,27076.806,24263.895,22109.318,21554.224,20253.974,19915.381,18734.142],\"type\":\"bar\",\"xaxis\":\"x2\",\"yaxis\":\"y2\"},{\"marker\":{\"color\":[\"lightgray\",\"lightgray\",\"lightgray\",\"lightgray\",\"lightgray\",\"lightgray\",\"lightgray\",\"lightgray\",\"lightgray\",\"lightgray\",\"lightgray\",\"orange\",\"lightgray\",\"lightgray\",\"lightgray\",\"lightgray\",\"lightgray\",\"lightgray\",\"lightgray\",\"lightgray\"]},\"name\":\"EU Countries\",\"visible\":false,\"x\":[\"Luxembourg\",\"Ireland\",\"Denmark\",\"Sweden\",\"Netherlands\",\"Austria\",\"Finland\",\"Belgium\",\"Germany\",\"France\",\"Italy\",\"Spain\",\"Malta\",\"Cyprus\",\"Slovenia\",\"Portugal\",\"Greece\",\"Czech Republic\",\"Estonia\",\"Slovak Republic\"],\"y\":[106710.076,61902.659,53478.495,51274.278,45302.804,44267.809,42867.09,41147.261,41107.222,37937.861,30463.696,25776.217,25228.175,23507.457,20898.86,19252.015,18023.869,17842.868,17403.806,16399.946],\"type\":\"bar\",\"xaxis\":\"x2\",\"yaxis\":\"y2\"},{\"marker\":{\"color\":[\"lightgray\",\"lightgray\",\"lightgray\",\"lightgray\",\"lightgray\",\"lightgray\",\"lightgray\",\"lightgray\",\"lightgray\",\"lightgray\",\"lightgray\",\"orange\",\"lightgray\",\"lightgray\",\"lightgray\",\"lightgray\",\"lightgray\",\"lightgray\",\"lightgray\",\"lightgray\"]},\"name\":\"EU Countries\",\"visible\":false,\"x\":[\"Luxembourg\",\"Ireland\",\"Denmark\",\"Sweden\",\"Netherlands\",\"Austria\",\"Finland\",\"Germany\",\"Belgium\",\"France\",\"Italy\",\"Spain\",\"Malta\",\"Cyprus\",\"Slovenia\",\"Portugal\",\"Czech Republic\",\"Estonia\",\"Greece\",\"Slovak Republic\"],\"y\":[107948.007,62668.446,54862.848,51590.473,46165.177,45278.829,43865.756,42124.196,42076.398,38348.507,31190.794,26549.363,25897.872,24802.469,21681.281,19986.362,18597.213,18290.293,17906.285,16572.723],\"type\":\"bar\",\"xaxis\":\"x2\",\"yaxis\":\"y2\"},{\"marker\":{\"color\":[\"lightgray\",\"lightgray\",\"lightgray\",\"lightgray\",\"lightgray\",\"lightgray\",\"lightgray\",\"lightgray\",\"lightgray\",\"lightgray\",\"lightgray\",\"lightgray\",\"orange\",\"lightgray\",\"lightgray\",\"lightgray\",\"lightgray\",\"lightgray\",\"lightgray\",\"lightgray\"]},\"name\":\"EU Countries\",\"visible\":false,\"x\":[\"Luxembourg\",\"Ireland\",\"Denmark\",\"Sweden\",\"Netherlands\",\"Austria\",\"Finland\",\"Germany\",\"Belgium\",\"France\",\"Italy\",\"Malta\",\"Spain\",\"Cyprus\",\"Slovenia\",\"Portugal\",\"Czech Republic\",\"Estonia\",\"Greece\",\"Slovak Republic\"],\"y\":[111211.579,69685.981,57772.553,53459.072,48799.874,47320.537,46437.211,44636.833,44274.073,40134.128,32648.756,29284.984,28211.927,26834.665,23511.316,21482.834,20666.666,20430.567,18552.181,17591.574],\"type\":\"bar\",\"xaxis\":\"x2\",\"yaxis\":\"y2\"},{\"marker\":{\"color\":[\"lightgray\",\"lightgray\",\"lightgray\",\"lightgray\",\"lightgray\",\"lightgray\",\"lightgray\",\"lightgray\",\"lightgray\",\"lightgray\",\"lightgray\",\"lightgray\",\"orange\",\"lightgray\",\"lightgray\",\"lightgray\",\"lightgray\",\"lightgray\",\"lightgray\",\"lightgray\"]},\"name\":\"EU Countries\",\"visible\":false,\"x\":[\"Luxembourg\",\"Ireland\",\"Denmark\",\"Sweden\",\"Netherlands\",\"Austria\",\"Finland\",\"Germany\",\"Belgium\",\"France\",\"Italy\",\"Malta\",\"Spain\",\"Cyprus\",\"Slovenia\",\"Portugal\",\"Czech Republic\",\"Estonia\",\"Greece\",\"Slovak Republic\"],\"y\":[117993.371,78990.344,61724.492,54295.731,53224.694,51234.477,50032.02,47961.036,47685.347,43060.59,34917.563,32173.449,30438.338,29631.854,26224.257,23573.299,23468.355,23176.358,19750.743,19508.308],\"type\":\"bar\",\"xaxis\":\"x2\",\"yaxis\":\"y2\"},{\"marker\":{\"color\":[\"lightgray\",\"lightgray\",\"lightgray\",\"lightgray\",\"lightgray\",\"lightgray\",\"lightgray\",\"lightgray\",\"lightgray\",\"lightgray\",\"lightgray\",\"lightgray\",\"lightgray\",\"orange\",\"lightgray\",\"lightgray\",\"lightgray\",\"lightgray\",\"lightgray\",\"lightgray\"]},\"name\":\"EU Countries\",\"visible\":false,\"x\":[\"Luxembourg\",\"Ireland\",\"Denmark\",\"Netherlands\",\"Sweden\",\"Austria\",\"Finland\",\"Germany\",\"Belgium\",\"France\",\"Italy\",\"Malta\",\"Cyprus\",\"Spain\",\"Slovenia\",\"Czech Republic\",\"Estonia\",\"Portugal\",\"Lithuania\",\"Slovak Republic\"],\"y\":[113754.937,80694.065,59678.596,52672.504,51694.498,50195.321,48667.723,46798.83,46780.073,41924.837,33628.143,32180.574,29624.325,29603.298,26112.484,23713.889,23427.074,23333.317,19597.295,19398.856],\"type\":\"bar\",\"xaxis\":\"x2\",\"yaxis\":\"y2\"},{\"marker\":{\"color\":[\"lightgray\",\"lightgray\",\"lightgray\",\"lightgray\",\"lightgray\",\"lightgray\",\"lightgray\",\"lightgray\",\"lightgray\",\"lightgray\",\"lightgray\",\"lightgray\",\"lightgray\",\"orange\",\"lightgray\",\"lightgray\",\"lightgray\",\"lightgray\",\"lightgray\",\"lightgray\"]},\"name\":\"EU Countries\",\"visible\":false,\"x\":[\"Luxembourg\",\"Ireland\",\"Denmark\",\"Sweden\",\"Netherlands\",\"Finland\",\"Austria\",\"Germany\",\"Belgium\",\"France\",\"Italy\",\"Malta\",\"Cyprus\",\"Spain\",\"Slovenia\",\"Estonia\",\"Czech Republic\",\"Portugal\",\"Lithuania\",\"Slovak Republic\"],\"y\":[118083.886,85233.623,61005.841,52706.294,52222.364,49168.162,48857.083,46735.314,45545.134,40385.395,31784.787,29217.15,28139.894,26943.767,25604.69,23576.356,23001.306,22224.566,20323.207,19533.5],\"type\":\"bar\",\"xaxis\":\"x2\",\"yaxis\":\"y2\"},{\"marker\":{\"color\":[\"lightgray\",\"lightgray\",\"lightgray\",\"lightgray\",\"lightgray\",\"lightgray\",\"lightgray\",\"lightgray\",\"lightgray\",\"lightgray\",\"lightgray\",\"lightgray\",\"lightgray\",\"orange\",\"lightgray\",\"lightgray\",\"lightgray\",\"lightgray\",\"lightgray\",\"lightgray\"]},\"name\":\"EU Countries\",\"visible\":false,\"x\":[\"Luxembourg\",\"Ireland\",\"Denmark\",\"Sweden\",\"Netherlands\",\"Finland\",\"Austria\",\"Belgium\",\"Germany\",\"France\",\"Italy\",\"Malta\",\"Cyprus\",\"Spain\",\"Slovenia\",\"Estonia\",\"Czech Republic\",\"Portugal\",\"Lithuania\",\"Slovak Republic\"],\"y\":[134802.286,100144.757,68202.07,60929.619,57996.912,53595.186,53528.707,51450.593,51237.643,45185.845,35842.069,34402.58,31726.19,30133.937,29298.411,27962.284,26331.255,24694.112,23739.08,21357.009],\"type\":\"bar\",\"xaxis\":\"x2\",\"yaxis\":\"y2\"},{\"marker\":{\"color\":[\"lightgray\",\"lightgray\",\"lightgray\",\"lightgray\",\"lightgray\",\"lightgray\",\"lightgray\",\"lightgray\",\"lightgray\",\"lightgray\",\"lightgray\",\"lightgray\",\"lightgray\",\"lightgray\",\"orange\",\"lightgray\",\"lightgray\",\"lightgray\",\"lightgray\",\"lightgray\"]},\"name\":\"EU Countries\",\"visible\":false,\"x\":[\"Luxembourg\",\"Ireland\",\"Denmark\",\"Netherlands\",\"Sweden\",\"Austria\",\"Finland\",\"Belgium\",\"Germany\",\"France\",\"Malta\",\"Italy\",\"Cyprus\",\"Slovenia\",\"Spain\",\"Estonia\",\"Czech Republic\",\"Lithuania\",\"Portugal\",\"Latvia\"],\"y\":[127579.81,103175.698,66516.079,56489.068,55689.403,52264.871,50655.133,50114.397,48636.03,42409.045,34127.131,34113.201,31465.518,29502.336,29420.615,28631.096,27612.934,25036.193,24522.077,22347.97],\"type\":\"bar\",\"xaxis\":\"x2\",\"yaxis\":\"y2\"}],                        {\"template\":{\"data\":{\"histogram2dcontour\":[{\"type\":\"histogram2dcontour\",\"colorbar\":{\"outlinewidth\":1,\"tickcolor\":\"rgb(36,36,36)\",\"ticks\":\"outside\"},\"colorscale\":[[0.0,\"#440154\"],[0.1111111111111111,\"#482878\"],[0.2222222222222222,\"#3e4989\"],[0.3333333333333333,\"#31688e\"],[0.4444444444444444,\"#26828e\"],[0.5555555555555556,\"#1f9e89\"],[0.6666666666666666,\"#35b779\"],[0.7777777777777778,\"#6ece58\"],[0.8888888888888888,\"#b5de2b\"],[1.0,\"#fde725\"]]}],\"choropleth\":[{\"type\":\"choropleth\",\"colorbar\":{\"outlinewidth\":1,\"tickcolor\":\"rgb(36,36,36)\",\"ticks\":\"outside\"}}],\"histogram2d\":[{\"type\":\"histogram2d\",\"colorbar\":{\"outlinewidth\":1,\"tickcolor\":\"rgb(36,36,36)\",\"ticks\":\"outside\"},\"colorscale\":[[0.0,\"#440154\"],[0.1111111111111111,\"#482878\"],[0.2222222222222222,\"#3e4989\"],[0.3333333333333333,\"#31688e\"],[0.4444444444444444,\"#26828e\"],[0.5555555555555556,\"#1f9e89\"],[0.6666666666666666,\"#35b779\"],[0.7777777777777778,\"#6ece58\"],[0.8888888888888888,\"#b5de2b\"],[1.0,\"#fde725\"]]}],\"heatmap\":[{\"type\":\"heatmap\",\"colorbar\":{\"outlinewidth\":1,\"tickcolor\":\"rgb(36,36,36)\",\"ticks\":\"outside\"},\"colorscale\":[[0.0,\"#440154\"],[0.1111111111111111,\"#482878\"],[0.2222222222222222,\"#3e4989\"],[0.3333333333333333,\"#31688e\"],[0.4444444444444444,\"#26828e\"],[0.5555555555555556,\"#1f9e89\"],[0.6666666666666666,\"#35b779\"],[0.7777777777777778,\"#6ece58\"],[0.8888888888888888,\"#b5de2b\"],[1.0,\"#fde725\"]]}],\"heatmapgl\":[{\"type\":\"heatmapgl\",\"colorbar\":{\"outlinewidth\":1,\"tickcolor\":\"rgb(36,36,36)\",\"ticks\":\"outside\"},\"colorscale\":[[0.0,\"#440154\"],[0.1111111111111111,\"#482878\"],[0.2222222222222222,\"#3e4989\"],[0.3333333333333333,\"#31688e\"],[0.4444444444444444,\"#26828e\"],[0.5555555555555556,\"#1f9e89\"],[0.6666666666666666,\"#35b779\"],[0.7777777777777778,\"#6ece58\"],[0.8888888888888888,\"#b5de2b\"],[1.0,\"#fde725\"]]}],\"contourcarpet\":[{\"type\":\"contourcarpet\",\"colorbar\":{\"outlinewidth\":1,\"tickcolor\":\"rgb(36,36,36)\",\"ticks\":\"outside\"}}],\"contour\":[{\"type\":\"contour\",\"colorbar\":{\"outlinewidth\":1,\"tickcolor\":\"rgb(36,36,36)\",\"ticks\":\"outside\"},\"colorscale\":[[0.0,\"#440154\"],[0.1111111111111111,\"#482878\"],[0.2222222222222222,\"#3e4989\"],[0.3333333333333333,\"#31688e\"],[0.4444444444444444,\"#26828e\"],[0.5555555555555556,\"#1f9e89\"],[0.6666666666666666,\"#35b779\"],[0.7777777777777778,\"#6ece58\"],[0.8888888888888888,\"#b5de2b\"],[1.0,\"#fde725\"]]}],\"surface\":[{\"type\":\"surface\",\"colorbar\":{\"outlinewidth\":1,\"tickcolor\":\"rgb(36,36,36)\",\"ticks\":\"outside\"},\"colorscale\":[[0.0,\"#440154\"],[0.1111111111111111,\"#482878\"],[0.2222222222222222,\"#3e4989\"],[0.3333333333333333,\"#31688e\"],[0.4444444444444444,\"#26828e\"],[0.5555555555555556,\"#1f9e89\"],[0.6666666666666666,\"#35b779\"],[0.7777777777777778,\"#6ece58\"],[0.8888888888888888,\"#b5de2b\"],[1.0,\"#fde725\"]]}],\"mesh3d\":[{\"type\":\"mesh3d\",\"colorbar\":{\"outlinewidth\":1,\"tickcolor\":\"rgb(36,36,36)\",\"ticks\":\"outside\"}}],\"scatter\":[{\"fillpattern\":{\"fillmode\":\"overlay\",\"size\":10,\"solidity\":0.2},\"type\":\"scatter\"}],\"parcoords\":[{\"type\":\"parcoords\",\"line\":{\"colorbar\":{\"outlinewidth\":1,\"tickcolor\":\"rgb(36,36,36)\",\"ticks\":\"outside\"}}}],\"scatterpolargl\":[{\"type\":\"scatterpolargl\",\"marker\":{\"colorbar\":{\"outlinewidth\":1,\"tickcolor\":\"rgb(36,36,36)\",\"ticks\":\"outside\"}}}],\"bar\":[{\"error_x\":{\"color\":\"rgb(36,36,36)\"},\"error_y\":{\"color\":\"rgb(36,36,36)\"},\"marker\":{\"line\":{\"color\":\"white\",\"width\":0.5},\"pattern\":{\"fillmode\":\"overlay\",\"size\":10,\"solidity\":0.2}},\"type\":\"bar\"}],\"scattergeo\":[{\"type\":\"scattergeo\",\"marker\":{\"colorbar\":{\"outlinewidth\":1,\"tickcolor\":\"rgb(36,36,36)\",\"ticks\":\"outside\"}}}],\"scatterpolar\":[{\"type\":\"scatterpolar\",\"marker\":{\"colorbar\":{\"outlinewidth\":1,\"tickcolor\":\"rgb(36,36,36)\",\"ticks\":\"outside\"}}}],\"histogram\":[{\"marker\":{\"line\":{\"color\":\"white\",\"width\":0.6}},\"type\":\"histogram\"}],\"scattergl\":[{\"type\":\"scattergl\",\"marker\":{\"colorbar\":{\"outlinewidth\":1,\"tickcolor\":\"rgb(36,36,36)\",\"ticks\":\"outside\"}}}],\"scatter3d\":[{\"type\":\"scatter3d\",\"line\":{\"colorbar\":{\"outlinewidth\":1,\"tickcolor\":\"rgb(36,36,36)\",\"ticks\":\"outside\"}},\"marker\":{\"colorbar\":{\"outlinewidth\":1,\"tickcolor\":\"rgb(36,36,36)\",\"ticks\":\"outside\"}}}],\"scattermapbox\":[{\"type\":\"scattermapbox\",\"marker\":{\"colorbar\":{\"outlinewidth\":1,\"tickcolor\":\"rgb(36,36,36)\",\"ticks\":\"outside\"}}}],\"scatterternary\":[{\"type\":\"scatterternary\",\"marker\":{\"colorbar\":{\"outlinewidth\":1,\"tickcolor\":\"rgb(36,36,36)\",\"ticks\":\"outside\"}}}],\"scattercarpet\":[{\"type\":\"scattercarpet\",\"marker\":{\"colorbar\":{\"outlinewidth\":1,\"tickcolor\":\"rgb(36,36,36)\",\"ticks\":\"outside\"}}}],\"carpet\":[{\"aaxis\":{\"endlinecolor\":\"rgb(36,36,36)\",\"gridcolor\":\"white\",\"linecolor\":\"white\",\"minorgridcolor\":\"white\",\"startlinecolor\":\"rgb(36,36,36)\"},\"baxis\":{\"endlinecolor\":\"rgb(36,36,36)\",\"gridcolor\":\"white\",\"linecolor\":\"white\",\"minorgridcolor\":\"white\",\"startlinecolor\":\"rgb(36,36,36)\"},\"type\":\"carpet\"}],\"table\":[{\"cells\":{\"fill\":{\"color\":\"rgb(237,237,237)\"},\"line\":{\"color\":\"white\"}},\"header\":{\"fill\":{\"color\":\"rgb(217,217,217)\"},\"line\":{\"color\":\"white\"}},\"type\":\"table\"}],\"barpolar\":[{\"marker\":{\"line\":{\"color\":\"white\",\"width\":0.5},\"pattern\":{\"fillmode\":\"overlay\",\"size\":10,\"solidity\":0.2}},\"type\":\"barpolar\"}],\"pie\":[{\"automargin\":true,\"type\":\"pie\"}]},\"layout\":{\"autotypenumbers\":\"strict\",\"colorway\":[\"#1F77B4\",\"#FF7F0E\",\"#2CA02C\",\"#D62728\",\"#9467BD\",\"#8C564B\",\"#E377C2\",\"#7F7F7F\",\"#BCBD22\",\"#17BECF\"],\"font\":{\"color\":\"rgb(36,36,36)\"},\"hovermode\":\"closest\",\"hoverlabel\":{\"align\":\"left\"},\"paper_bgcolor\":\"white\",\"plot_bgcolor\":\"white\",\"polar\":{\"bgcolor\":\"white\",\"angularaxis\":{\"gridcolor\":\"rgb(232,232,232)\",\"linecolor\":\"rgb(36,36,36)\",\"showgrid\":false,\"showline\":true,\"ticks\":\"outside\"},\"radialaxis\":{\"gridcolor\":\"rgb(232,232,232)\",\"linecolor\":\"rgb(36,36,36)\",\"showgrid\":false,\"showline\":true,\"ticks\":\"outside\"}},\"ternary\":{\"bgcolor\":\"white\",\"aaxis\":{\"gridcolor\":\"rgb(232,232,232)\",\"linecolor\":\"rgb(36,36,36)\",\"showgrid\":false,\"showline\":true,\"ticks\":\"outside\"},\"baxis\":{\"gridcolor\":\"rgb(232,232,232)\",\"linecolor\":\"rgb(36,36,36)\",\"showgrid\":false,\"showline\":true,\"ticks\":\"outside\"},\"caxis\":{\"gridcolor\":\"rgb(232,232,232)\",\"linecolor\":\"rgb(36,36,36)\",\"showgrid\":false,\"showline\":true,\"ticks\":\"outside\"}},\"coloraxis\":{\"colorbar\":{\"outlinewidth\":1,\"tickcolor\":\"rgb(36,36,36)\",\"ticks\":\"outside\"}},\"colorscale\":{\"sequential\":[[0.0,\"#440154\"],[0.1111111111111111,\"#482878\"],[0.2222222222222222,\"#3e4989\"],[0.3333333333333333,\"#31688e\"],[0.4444444444444444,\"#26828e\"],[0.5555555555555556,\"#1f9e89\"],[0.6666666666666666,\"#35b779\"],[0.7777777777777778,\"#6ece58\"],[0.8888888888888888,\"#b5de2b\"],[1.0,\"#fde725\"]],\"sequentialminus\":[[0.0,\"#440154\"],[0.1111111111111111,\"#482878\"],[0.2222222222222222,\"#3e4989\"],[0.3333333333333333,\"#31688e\"],[0.4444444444444444,\"#26828e\"],[0.5555555555555556,\"#1f9e89\"],[0.6666666666666666,\"#35b779\"],[0.7777777777777778,\"#6ece58\"],[0.8888888888888888,\"#b5de2b\"],[1.0,\"#fde725\"]],\"diverging\":[[0.0,\"rgb(103,0,31)\"],[0.1,\"rgb(178,24,43)\"],[0.2,\"rgb(214,96,77)\"],[0.3,\"rgb(244,165,130)\"],[0.4,\"rgb(253,219,199)\"],[0.5,\"rgb(247,247,247)\"],[0.6,\"rgb(209,229,240)\"],[0.7,\"rgb(146,197,222)\"],[0.8,\"rgb(67,147,195)\"],[0.9,\"rgb(33,102,172)\"],[1.0,\"rgb(5,48,97)\"]]},\"xaxis\":{\"gridcolor\":\"rgb(232,232,232)\",\"linecolor\":\"rgb(36,36,36)\",\"showgrid\":false,\"showline\":true,\"ticks\":\"outside\",\"title\":{\"standoff\":15},\"zerolinecolor\":\"rgb(36,36,36)\",\"automargin\":true,\"zeroline\":false},\"yaxis\":{\"gridcolor\":\"rgb(232,232,232)\",\"linecolor\":\"rgb(36,36,36)\",\"showgrid\":false,\"showline\":true,\"ticks\":\"outside\",\"title\":{\"standoff\":15},\"zerolinecolor\":\"rgb(36,36,36)\",\"automargin\":true,\"zeroline\":false},\"scene\":{\"xaxis\":{\"backgroundcolor\":\"white\",\"gridcolor\":\"rgb(232,232,232)\",\"linecolor\":\"rgb(36,36,36)\",\"showbackground\":true,\"showgrid\":false,\"showline\":true,\"ticks\":\"outside\",\"zerolinecolor\":\"rgb(36,36,36)\",\"gridwidth\":2,\"zeroline\":false},\"yaxis\":{\"backgroundcolor\":\"white\",\"gridcolor\":\"rgb(232,232,232)\",\"linecolor\":\"rgb(36,36,36)\",\"showbackground\":true,\"showgrid\":false,\"showline\":true,\"ticks\":\"outside\",\"zerolinecolor\":\"rgb(36,36,36)\",\"gridwidth\":2,\"zeroline\":false},\"zaxis\":{\"backgroundcolor\":\"white\",\"gridcolor\":\"rgb(232,232,232)\",\"linecolor\":\"rgb(36,36,36)\",\"showbackground\":true,\"showgrid\":false,\"showline\":true,\"ticks\":\"outside\",\"zerolinecolor\":\"rgb(36,36,36)\",\"gridwidth\":2,\"zeroline\":false}},\"shapedefaults\":{\"fillcolor\":\"black\",\"line\":{\"width\":0},\"opacity\":0.3},\"annotationdefaults\":{\"arrowhead\":0,\"arrowwidth\":1},\"geo\":{\"bgcolor\":\"white\",\"landcolor\":\"white\",\"subunitcolor\":\"white\",\"showland\":true,\"showlakes\":true,\"lakecolor\":\"white\"},\"title\":{\"x\":0.05},\"mapbox\":{\"style\":\"light\"}}},\"xaxis\":{\"anchor\":\"y\",\"domain\":[0.0,1.0],\"tickfont\":{\"color\":\"black\",\"size\":12},\"tickangle\":0},\"yaxis\":{\"anchor\":\"x\",\"domain\":[0.6000000000000001,1.0],\"tickfont\":{\"size\":14},\"showticklabels\":true},\"xaxis2\":{\"anchor\":\"y2\",\"domain\":[0.0,1.0],\"tickfont\":{\"color\":\"black\",\"size\":12},\"tickangle\":30},\"yaxis2\":{\"anchor\":\"x2\",\"domain\":[0.0,0.4],\"tickfont\":{\"size\":14},\"showticklabels\":false},\"annotations\":[{\"font\":{\"size\":16},\"showarrow\":false,\"text\":\"GDP per Capita Over Time in Spain\",\"x\":0.5,\"xanchor\":\"center\",\"xref\":\"paper\",\"y\":1.0,\"yanchor\":\"bottom\",\"yref\":\"paper\"},{\"font\":{\"size\":16},\"showarrow\":false,\"text\":\"Average GDP per Capita in Top 20 EU Countries\",\"x\":0.5,\"xanchor\":\"center\",\"xref\":\"paper\",\"y\":0.4,\"yanchor\":\"bottom\",\"yref\":\"paper\"}],\"shapes\":[{\"fillcolor\":\"red\",\"opacity\":0.2,\"type\":\"rect\",\"x0\":1982,\"x1\":1996,\"xref\":\"x\",\"y0\":0,\"y1\":1,\"yref\":\"y domain\"},{\"fillcolor\":\"blue\",\"opacity\":0.2,\"type\":\"rect\",\"x0\":1996,\"x1\":2004,\"xref\":\"x\",\"y0\":0,\"y1\":1,\"yref\":\"y domain\"},{\"fillcolor\":\"red\",\"opacity\":0.2,\"type\":\"rect\",\"x0\":2004,\"x1\":2011,\"xref\":\"x\",\"y0\":0,\"y1\":1,\"yref\":\"y domain\"},{\"fillcolor\":\"blue\",\"opacity\":0.2,\"type\":\"rect\",\"x0\":2011,\"x1\":2018,\"xref\":\"x\",\"y0\":0,\"y1\":1,\"yref\":\"y domain\"},{\"fillcolor\":\"red\",\"opacity\":0.2,\"type\":\"rect\",\"x0\":2018,\"x1\":2021,\"xref\":\"x\",\"y0\":0,\"y1\":1,\"yref\":\"y domain\"}],\"font\":{\"size\":14},\"title\":{\"font\":{\"size\":24,\"color\":\"black\"},\"text\":\"GDP per Capita in US $\"},\"sliders\":[{\"active\":0,\"currentvalue\":{\"prefix\":\"Year: \"},\"steps\":[{\"args\":[{\"visible\":[true,false,false,false,false,false,false,false,false,false,false,false,false,false,false,false,false,false,false,false,false,false,false,false,false,false,false,false,false,false,false,false,false,false,false,false,false,false,false,false,false,false,false]}],\"label\":\"1983\",\"method\":\"update\"},{\"args\":[{\"visible\":[false,true,false,false,false,false,false,false,false,false,false,false,false,false,false,false,false,false,false,false,false,false,false,false,false,false,false,false,false,false,false,false,false,false,false,false,false,false,false,false,false,false,false]}],\"label\":\"1984\",\"method\":\"update\"},{\"args\":[{\"visible\":[false,false,true,false,false,false,false,false,false,false,false,false,false,false,false,false,false,false,false,false,false,false,false,false,false,false,false,false,false,false,false,false,false,false,false,false,false,false,false,false,false,false,false]}],\"label\":\"1985\",\"method\":\"update\"},{\"args\":[{\"visible\":[false,false,false,true,false,false,false,false,false,false,false,false,false,false,false,false,false,false,false,false,false,false,false,false,false,false,false,false,false,false,false,false,false,false,false,false,false,false,false,false,false,false,false]}],\"label\":\"1986\",\"method\":\"update\"},{\"args\":[{\"visible\":[false,false,false,false,true,false,false,false,false,false,false,false,false,false,false,false,false,false,false,false,false,false,false,false,false,false,false,false,false,false,false,false,false,false,false,false,false,false,false,false,false,false,false]}],\"label\":\"1987\",\"method\":\"update\"},{\"args\":[{\"visible\":[false,false,false,false,false,true,false,false,false,false,false,false,false,false,false,false,false,false,false,false,false,false,false,false,false,false,false,false,false,false,false,false,false,false,false,false,false,false,false,false,false,false,false]}],\"label\":\"1988\",\"method\":\"update\"},{\"args\":[{\"visible\":[false,false,false,false,false,false,true,false,false,false,false,false,false,false,false,false,false,false,false,false,false,false,false,false,false,false,false,false,false,false,false,false,false,false,false,false,false,false,false,false,false,false,false]}],\"label\":\"1989\",\"method\":\"update\"},{\"args\":[{\"visible\":[false,false,false,false,false,false,false,true,false,false,false,false,false,false,false,false,false,false,false,false,false,false,false,false,false,false,false,false,false,false,false,false,false,false,false,false,false,false,false,false,false,false,false]}],\"label\":\"1990\",\"method\":\"update\"},{\"args\":[{\"visible\":[false,false,false,false,false,false,false,false,true,false,false,false,false,false,false,false,false,false,false,false,false,false,false,false,false,false,false,false,false,false,false,false,false,false,false,false,false,false,false,false,false,false,false]}],\"label\":\"1991\",\"method\":\"update\"},{\"args\":[{\"visible\":[false,false,false,false,false,false,false,false,false,true,false,false,false,false,false,false,false,false,false,false,false,false,false,false,false,false,false,false,false,false,false,false,false,false,false,false,false,false,false,false,false,false,false]}],\"label\":\"1992\",\"method\":\"update\"},{\"args\":[{\"visible\":[false,false,false,false,false,false,false,false,false,false,true,false,false,false,false,false,false,false,false,false,false,false,false,false,false,false,false,false,false,false,false,false,false,false,false,false,false,false,false,false,false,false,false]}],\"label\":\"1993\",\"method\":\"update\"},{\"args\":[{\"visible\":[false,false,false,false,false,false,false,false,false,false,false,true,false,false,false,false,false,false,false,false,false,false,false,false,false,false,false,false,false,false,false,false,false,false,false,false,false,false,false,false,false,false,false]}],\"label\":\"1994\",\"method\":\"update\"},{\"args\":[{\"visible\":[false,false,false,false,false,false,false,false,false,false,false,false,true,false,false,false,false,false,false,false,false,false,false,false,false,false,false,false,false,false,false,false,false,false,false,false,false,false,false,false,false,false,false]}],\"label\":\"1995\",\"method\":\"update\"},{\"args\":[{\"visible\":[false,false,false,false,false,false,false,false,false,false,false,false,false,true,false,false,false,false,false,false,false,false,false,false,false,false,false,false,false,false,false,false,false,false,false,false,false,false,false,false,false,false,false]}],\"label\":\"1996\",\"method\":\"update\"},{\"args\":[{\"visible\":[false,false,false,false,false,false,false,false,false,false,false,false,false,false,true,false,false,false,false,false,false,false,false,false,false,false,false,false,false,false,false,false,false,false,false,false,false,false,false,false,false,false,false]}],\"label\":\"1997\",\"method\":\"update\"},{\"args\":[{\"visible\":[false,false,false,false,false,false,false,false,false,false,false,false,false,false,false,true,false,false,false,false,false,false,false,false,false,false,false,false,false,false,false,false,false,false,false,false,false,false,false,false,false,false,false]}],\"label\":\"1998\",\"method\":\"update\"},{\"args\":[{\"visible\":[false,false,false,false,false,false,false,false,false,false,false,false,false,false,false,false,true,false,false,false,false,false,false,false,false,false,false,false,false,false,false,false,false,false,false,false,false,false,false,false,false,false,false]}],\"label\":\"1999\",\"method\":\"update\"},{\"args\":[{\"visible\":[false,false,false,false,false,false,false,false,false,false,false,false,false,false,false,false,false,true,false,false,false,false,false,false,false,false,false,false,false,false,false,false,false,false,false,false,false,false,false,false,false,false,false]}],\"label\":\"2000\",\"method\":\"update\"},{\"args\":[{\"visible\":[false,false,false,false,false,false,false,false,false,false,false,false,false,false,false,false,false,false,true,false,false,false,false,false,false,false,false,false,false,false,false,false,false,false,false,false,false,false,false,false,false,false,false]}],\"label\":\"2001\",\"method\":\"update\"},{\"args\":[{\"visible\":[false,false,false,false,false,false,false,false,false,false,false,false,false,false,false,false,false,false,false,true,false,false,false,false,false,false,false,false,false,false,false,false,false,false,false,false,false,false,false,false,false,false,false]}],\"label\":\"2002\",\"method\":\"update\"},{\"args\":[{\"visible\":[false,false,false,false,false,false,false,false,false,false,false,false,false,false,false,false,false,false,false,false,true,false,false,false,false,false,false,false,false,false,false,false,false,false,false,false,false,false,false,false,false,false,false]}],\"label\":\"2003\",\"method\":\"update\"},{\"args\":[{\"visible\":[false,false,false,false,false,false,false,false,false,false,false,false,false,false,false,false,false,false,false,false,false,true,false,false,false,false,false,false,false,false,false,false,false,false,false,false,false,false,false,false,false,false,false]}],\"label\":\"2004\",\"method\":\"update\"},{\"args\":[{\"visible\":[false,false,false,false,false,false,false,false,false,false,false,false,false,false,false,false,false,false,false,false,false,false,true,false,false,false,false,false,false,false,false,false,false,false,false,false,false,false,false,false,false,false,false]}],\"label\":\"2005\",\"method\":\"update\"},{\"args\":[{\"visible\":[false,false,false,false,false,false,false,false,false,false,false,false,false,false,false,false,false,false,false,false,false,false,false,true,false,false,false,false,false,false,false,false,false,false,false,false,false,false,false,false,false,false,false]}],\"label\":\"2006\",\"method\":\"update\"},{\"args\":[{\"visible\":[false,false,false,false,false,false,false,false,false,false,false,false,false,false,false,false,false,false,false,false,false,false,false,false,true,false,false,false,false,false,false,false,false,false,false,false,false,false,false,false,false,false,false]}],\"label\":\"2007\",\"method\":\"update\"},{\"args\":[{\"visible\":[false,false,false,false,false,false,false,false,false,false,false,false,false,false,false,false,false,false,false,false,false,false,false,false,false,true,false,false,false,false,false,false,false,false,false,false,false,false,false,false,false,false,false]}],\"label\":\"2008\",\"method\":\"update\"},{\"args\":[{\"visible\":[false,false,false,false,false,false,false,false,false,false,false,false,false,false,false,false,false,false,false,false,false,false,false,false,false,false,true,false,false,false,false,false,false,false,false,false,false,false,false,false,false,false,false]}],\"label\":\"2009\",\"method\":\"update\"},{\"args\":[{\"visible\":[false,false,false,false,false,false,false,false,false,false,false,false,false,false,false,false,false,false,false,false,false,false,false,false,false,false,false,true,false,false,false,false,false,false,false,false,false,false,false,false,false,false,false]}],\"label\":\"2010\",\"method\":\"update\"},{\"args\":[{\"visible\":[false,false,false,false,false,false,false,false,false,false,false,false,false,false,false,false,false,false,false,false,false,false,false,false,false,false,false,false,true,false,false,false,false,false,false,false,false,false,false,false,false,false,false]}],\"label\":\"2011\",\"method\":\"update\"},{\"args\":[{\"visible\":[false,false,false,false,false,false,false,false,false,false,false,false,false,false,false,false,false,false,false,false,false,false,false,false,false,false,false,false,false,true,false,false,false,false,false,false,false,false,false,false,false,false,false]}],\"label\":\"2012\",\"method\":\"update\"},{\"args\":[{\"visible\":[false,false,false,false,false,false,false,false,false,false,false,false,false,false,false,false,false,false,false,false,false,false,false,false,false,false,false,false,false,false,true,false,false,false,false,false,false,false,false,false,false,false,false]}],\"label\":\"2013\",\"method\":\"update\"},{\"args\":[{\"visible\":[false,false,false,false,false,false,false,false,false,false,false,false,false,false,false,false,false,false,false,false,false,false,false,false,false,false,false,false,false,false,false,true,false,false,false,false,false,false,false,false,false,false,false]}],\"label\":\"2014\",\"method\":\"update\"},{\"args\":[{\"visible\":[false,false,false,false,false,false,false,false,false,false,false,false,false,false,false,false,false,false,false,false,false,false,false,false,false,false,false,false,false,false,false,false,true,false,false,false,false,false,false,false,false,false,false]}],\"label\":\"2015\",\"method\":\"update\"},{\"args\":[{\"visible\":[false,false,false,false,false,false,false,false,false,false,false,false,false,false,false,false,false,false,false,false,false,false,false,false,false,false,false,false,false,false,false,false,false,true,false,false,false,false,false,false,false,false,false]}],\"label\":\"2016\",\"method\":\"update\"},{\"args\":[{\"visible\":[false,false,false,false,false,false,false,false,false,false,false,false,false,false,false,false,false,false,false,false,false,false,false,false,false,false,false,false,false,false,false,false,false,false,true,false,false,false,false,false,false,false,false]}],\"label\":\"2017\",\"method\":\"update\"},{\"args\":[{\"visible\":[false,false,false,false,false,false,false,false,false,false,false,false,false,false,false,false,false,false,false,false,false,false,false,false,false,false,false,false,false,false,false,false,false,false,false,true,false,false,false,false,false,false,false]}],\"label\":\"2018\",\"method\":\"update\"},{\"args\":[{\"visible\":[false,false,false,false,false,false,false,false,false,false,false,false,false,false,false,false,false,false,false,false,false,false,false,false,false,false,false,false,false,false,false,false,false,false,false,false,true,false,false,false,false,false,false]}],\"label\":\"2019\",\"method\":\"update\"},{\"args\":[{\"visible\":[false,false,false,false,false,false,false,false,false,false,false,false,false,false,false,false,false,false,false,false,false,false,false,false,false,false,false,false,false,false,false,false,false,false,false,false,false,true,false,false,false,false,false]}],\"label\":\"2020\",\"method\":\"update\"},{\"args\":[{\"visible\":[false,false,false,false,false,false,false,false,false,false,false,false,false,false,false,false,false,false,false,false,false,false,false,false,false,false,false,false,false,false,false,false,false,false,false,false,false,false,true,false,false,false,false]}],\"label\":\"2021\",\"method\":\"update\"},{\"args\":[{\"visible\":[false,false,false,false,false,false,false,false,false,false,false,false,false,false,false,false,false,false,false,false,false,false,false,false,false,false,false,false,false,false,false,false,false,false,false,false,false,false,false,true,false,false,false]}],\"label\":\"2022\",\"method\":\"update\"}],\"x\":0.0,\"xanchor\":\"left\",\"y\":-0.2,\"yanchor\":\"bottom\"}],\"height\":1000,\"width\":1000},                        {\"responsive\": true}                    ).then(function(){\n",
              "                            \n",
              "var gd = document.getElementById('4ea741f7-742f-46d1-9cb9-54cc332238ca');\n",
              "var x = new MutationObserver(function (mutations, observer) {{\n",
              "        var display = window.getComputedStyle(gd).display;\n",
              "        if (!display || display === 'none') {{\n",
              "            console.log([gd, 'removed!']);\n",
              "            Plotly.purge(gd);\n",
              "            observer.disconnect();\n",
              "        }}\n",
              "}});\n",
              "\n",
              "// Listen for the removal of the full notebook cells\n",
              "var notebookContainer = gd.closest('#notebook-container');\n",
              "if (notebookContainer) {{\n",
              "    x.observe(notebookContainer, {childList: true});\n",
              "}}\n",
              "\n",
              "// Listen for the clearing of the current output cell\n",
              "var outputEl = gd.closest('.output');\n",
              "if (outputEl) {{\n",
              "    x.observe(outputEl, {childList: true});\n",
              "}}\n",
              "\n",
              "                        })                };                            </script>        </div>\n",
              "</body>\n",
              "</html>"
            ]
          },
          "metadata": {}
        }
      ]
    },
    {
      "cell_type": "code",
      "execution_count": null,
      "metadata": {
        "id": "MLk3gcxyPHwG"
      },
      "outputs": [],
      "source": []
    }
  ],
  "metadata": {
    "colab": {
      "provenance": []
    },
    "kernelspec": {
      "display_name": "Python 3",
      "name": "python3"
    },
    "language_info": {
      "name": "python"
    }
  },
  "nbformat": 4,
  "nbformat_minor": 0
}